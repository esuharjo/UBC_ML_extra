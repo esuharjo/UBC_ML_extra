{
 "cells": [
  {
   "cell_type": "markdown",
   "metadata": {
    "slideshow": {
     "slide_type": "slide"
    }
   },
   "source": [
    "## UBC Intro to Machine Learning\n",
    "\n",
    "###  APIs\n",
    "Instructor: Socorro Dominguez  \n",
    "February 05, 2022"
   ]
  },
  {
   "cell_type": "markdown",
   "metadata": {},
   "source": [
    "[![Binder](https://mybinder.org/badge_logo.svg)](https://mybinder.org/v2/gh/sedv8808/APIs_UBC_ML/main?labpath=APIs.ipynb)"
   ]
  },
  {
   "cell_type": "markdown",
   "metadata": {
    "slideshow": {
     "slide_type": "slide"
    }
   },
   "source": [
    "**Agenda:**\n",
    "\n",
    "* Where does our data come from? (10 minutes)\n",
    "* APIs (20 minutes)\n",
    "    * What is it?\n",
    "    * Examples of APIs\n",
    "    * Applications\n",
    "    * Demo using Python\n",
    "    * Example of a notebook to get information using APIs (10 minutes)"
   ]
  },
  {
   "cell_type": "markdown",
   "metadata": {
    "slideshow": {
     "slide_type": "slide"
    }
   },
   "source": [
    "## How is Data Science related to the Web?"
   ]
  },
  {
   "cell_type": "markdown",
   "metadata": {
    "slideshow": {
     "slide_type": "slide"
    }
   },
   "source": [
    "- In order for you to be able to perform Data Science, you need the raw material: DATA\n",
    "- Where do you think you can get data from?"
   ]
  },
  {
   "cell_type": "markdown",
   "metadata": {
    "slideshow": {
     "slide_type": "fragment"
    }
   },
   "source": [
    "- Publicly available datasets (e.g. check out [Kaggle](https://www.kaggle.com/competitions))\n",
    "    - Good for benchmarking, but limited for real use-case\n",
    "- Company’s database (e.g. transaction history)\n",
    "    - SQL, MongoDB, etc.\n",
    "- From the web\n",
    "    - Collected manually (scraping)\n",
    "    - Collected automatically (APIs)"
   ]
  },
  {
   "cell_type": "markdown",
   "metadata": {
    "slideshow": {
     "slide_type": "slide"
    }
   },
   "source": [
    "###  Task: You work for Company A. You want to know what your customers are talking about you on Twitter. How do you retrieve the data?"
   ]
  },
  {
   "cell_type": "markdown",
   "metadata": {
    "slideshow": {
     "slide_type": "fragment"
    }
   },
   "source": [
    "![img](img/api_img.png)"
   ]
  },
  {
   "cell_type": "markdown",
   "metadata": {
    "slideshow": {
     "slide_type": "slide"
    }
   },
   "source": [
    "It would be hard to copy paste everything on Twitter and then build a dataframe...\n",
    "One easier way could be scraping. This is what a website looks like when you view it in its raw \"code\" format.\n",
    "\n",
    "![img](img/xml_img.png)\n",
    "\n",
    "F12 for Windows Users   \n",
    "Right click + Inspect for Mac users"
   ]
  },
  {
   "cell_type": "markdown",
   "metadata": {
    "slideshow": {
     "slide_type": "slide"
    }
   },
   "source": [
    "### What if we wanted to collect this data for analysis?"
   ]
  },
  {
   "cell_type": "code",
   "execution_count": null,
   "metadata": {
    "slideshow": {
     "slide_type": "skip"
    }
   },
   "outputs": [],
   "source": [
    "# Import libraries\n",
    "import requests\n",
    "\n",
    "URL = \"https://twitter.com/search?q=%23DataScience&src=typeahead_click\"\n",
    "res = requests.get(URL).text\n",
    "res"
   ]
  },
  {
   "cell_type": "markdown",
   "metadata": {
    "slideshow": {
     "slide_type": "slide"
    }
   },
   "source": [
    "Now, this looks hard - like a bad headache.\n",
    "\n",
    "We would need to create a Data Mining program that goes to URLs and parses the HTML to extract data.\n",
    "- Effortful\n",
    "    - HTML is difficult to parse - how do you clean the above data?\n",
    "    - Almost all information is irrelevant - are all these `hreflang=\"vi\" href=\"` necessary?\n",
    "    - Websites often require interaction - look at all the links...\n",
    "    - When websites update, your code will break - not even going there...\n",
    "    - Every website is different - now I want to use a different hashtag...\n",
    "    - Companies try to stop data miners"
   ]
  },
  {
   "cell_type": "markdown",
   "metadata": {
    "slideshow": {
     "slide_type": "slide"
    }
   },
   "source": [
    "## What is an API?"
   ]
  },
  {
   "cell_type": "markdown",
   "metadata": {
    "slideshow": {
     "slide_type": "fragment"
    }
   },
   "source": [
    "**A**pplication  \n",
    "**P**rogramming  \n",
    "**I**nterface  \n",
    "  \n",
    "* We will be mostly using RESTful APIs.   \n",
    "\n",
    "**RE**presentation  \n",
    "**S**tate  \n",
    "**T**ransfer  \n",
    "**C**haracteristics  "
   ]
  },
  {
   "cell_type": "markdown",
   "metadata": {},
   "source": [
    "Easy explanation:\n",
    "\n",
    "![API](img/bfa.jpeg)"
   ]
  },
  {
   "cell_type": "markdown",
   "metadata": {
    "slideshow": {
     "slide_type": "slide"
    }
   },
   "source": [
    "- Programmer-friendly version of websites\n",
    "- Go to a URL composed of\n",
    "    - API root endpoint\n",
    "    - API function\n",
    "    - API key (like a login)\n",
    "    - Parameter keys\n",
    "    - Parameter values\n",
    "    - Returns data (JSON, XML, csv, etc.)"
   ]
  },
  {
   "cell_type": "markdown",
   "metadata": {
    "slideshow": {
     "slide_type": "slide"
    }
   },
   "source": [
    "### Characteristics?\n",
    "\n",
    "Client-server, typically HTTP-based, stateless server\n",
    "\n",
    "- In order to use them, you might have to sign up and create a Developer account. \n",
    "- There might be screenings.\n",
    "- Some APIs will not be free or might have \"premium\" versions.   \n",
    "[Twitter API](https://developer.twitter.com/en)"
   ]
  },
  {
   "cell_type": "markdown",
   "metadata": {
    "slideshow": {
     "slide_type": "slide"
    }
   },
   "source": [
    "### What representation will DATA be in?"
   ]
  },
  {
   "cell_type": "markdown",
   "metadata": {
    "slideshow": {
     "slide_type": "slide"
    }
   },
   "source": [
    "### JSON\n",
    "- **J**ava**S**cript **O**bject **N**otation\n",
    "* textual description of python (javascript actually) objects\n",
    "* arrays and dictionaries <- the reason why Module 5 in PPDS is so important\n",
    "\n",
    "```\n",
    "[{\n",
    "'library': [\n",
    "           {'title': 'For Whom the Bell Tolls', 'author': 'Ernest Hemingway'},\n",
    "           {'title': 'Trump: The Art of the Deal', 'author': 'Good Question'}\n",
    "           ]\n",
    "}\n",
    ", ... ]\n",
    "```\n",
    "\n",
    "**LESSON:** Even if the data is provided still in a nicer presentation than from the web, you must still write wrapping functions"
   ]
  },
  {
   "cell_type": "markdown",
   "metadata": {
    "slideshow": {
     "slide_type": "slide"
    }
   },
   "source": [
    "### Using a Web API\n",
    "\n",
    "Provider defines:\n",
    "* message format for requests and responses\n",
    "* usually in both JSON and XML (XML is not very used)\n",
    "* registration and authentication\n",
    "* usually using OAuth (delegated authorization framework for REST/APIs. It enables apps to obtain limited access to a user's data without giving away a user's password.)"
   ]
  },
  {
   "cell_type": "markdown",
   "metadata": {
    "slideshow": {
     "slide_type": "slide"
    }
   },
   "source": [
    "### Language integration / Wrapper Function\n",
    "\n",
    "* might be provided or you might have to do it yourself\n",
    "* if provided, usually someone other than data source\n",
    "* library API for various languages like python, R, ...\n",
    "* you write a python program that calls library procedures\n",
    "* library formats messages, sends them to web provider, translates responses as return values"
   ]
  },
  {
   "cell_type": "markdown",
   "metadata": {
    "slideshow": {
     "slide_type": "slide"
    }
   },
   "source": [
    "### When you write the wrapper functions\n",
    "\n",
    "When the functions are not provided, you will need to load the following libraries:\n",
    "- `import requests` [Documentation](https://docs.python-requests.org/en/latest/)\n",
    "- `import json` [Documentation](https://docs.python.org/3/library/json.html)\n",
    "\n",
    "Also, if you are in Chrome, get the [JSON formatter](https://chrome.google.com/webstore/detail/json-formatter/bcjindcccaagfpapjjmafapmmgkkhgoa?hl=en) extension."
   ]
  },
  {
   "cell_type": "markdown",
   "metadata": {
    "slideshow": {
     "slide_type": "fragment"
    }
   },
   "source": [
    "### Getting JSON Data\n",
    "\n",
    "We need to select the output format using API:\n",
    "* e.g., http header: accept = application/json\n",
    "\n",
    "Use request .get\n",
    "* this returns a python array or dictionary"
   ]
  },
  {
   "cell_type": "markdown",
   "metadata": {
    "slideshow": {
     "slide_type": "slide"
    }
   },
   "source": [
    "## Demo with Translink"
   ]
  },
  {
   "cell_type": "markdown",
   "metadata": {
    "slideshow": {
     "slide_type": "fragment"
    }
   },
   "source": [
    "1. Get your own API token from [Translink](developer.translink.ca)\n",
    "2. In the config file, pass your username and password."
   ]
  },
  {
   "cell_type": "markdown",
   "metadata": {
    "slideshow": {
     "slide_type": "slide"
    }
   },
   "source": [
    "Hint: If you are on Chrome, use the JSON formatter extension."
   ]
  },
  {
   "cell_type": "code",
   "execution_count": null,
   "metadata": {
    "slideshow": {
     "slide_type": "fragment"
    }
   },
   "outputs": [],
   "source": [
    "import requests\n",
    "import config as cfg\n",
    "\n",
    "# Get your own API token from developer.translink.ca\n",
    "# open config.py and write in your password\n",
    "apikey = cfg.translink['key']\n",
    "\n",
    "requests.get('http://api.translink.ca/rttiapi/v1/stops/61945/estimates?apikey={}'\\\n",
    "             .format(apikey),headers={'accept': 'application/JSON'}).json()\n"
   ]
  },
  {
   "cell_type": "code",
   "execution_count": null,
   "metadata": {},
   "outputs": [],
   "source": [
    "x = requests.get('http://api.translink.ca/rttiapi/v1/stops/61935/estimates?apikey={}'\\\n",
    "                 .format(apikey),headers={'accept': 'application/JSON'}).json()"
   ]
  },
  {
   "cell_type": "code",
   "execution_count": null,
   "metadata": {},
   "outputs": [],
   "source": [
    "data = x[0]['Schedules']\n",
    "data"
   ]
  },
  {
   "cell_type": "markdown",
   "metadata": {},
   "source": [
    "## Pandas to the Rescue"
   ]
  },
  {
   "cell_type": "code",
   "execution_count": null,
   "metadata": {},
   "outputs": [],
   "source": [
    "import pandas as pd\n",
    "df = pd.DataFrame.from_dict(data)"
   ]
  },
  {
   "cell_type": "code",
   "execution_count": null,
   "metadata": {},
   "outputs": [],
   "source": [
    "df"
   ]
  },
  {
   "cell_type": "code",
   "execution_count": null,
   "metadata": {
    "scrolled": true,
    "slideshow": {
     "slide_type": "slide"
    }
   },
   "outputs": [],
   "source": [
    "from IPython.display import JSON\n",
    "request_url = 'https://api.translink.ca/rttiapi/v1/stops?apikey={}&lat={}&long={}'.format(apikey, 49.248523, -123.108800)\n",
    "response = requests.get(request_url, headers={'accept': 'application/JSON'})\n",
    "response\n"
   ]
  },
  {
   "cell_type": "code",
   "execution_count": null,
   "metadata": {
    "scrolled": true
   },
   "outputs": [],
   "source": [
    "pd.DataFrame.from_dict(response.json())"
   ]
  },
  {
   "cell_type": "code",
   "execution_count": null,
   "metadata": {},
   "outputs": [],
   "source": [
    "data = response.json()\n",
    "len(data)"
   ]
  },
  {
   "cell_type": "code",
   "execution_count": null,
   "metadata": {
    "scrolled": true
   },
   "outputs": [],
   "source": [
    "new_list =[]\n",
    "\n",
    "for i in range(0, len(data)-1):\n",
    "    r = data[i]['Name']\n",
    "    new_list.append(r)\n",
    "new_list"
   ]
  },
  {
   "cell_type": "markdown",
   "metadata": {
    "slideshow": {
     "slide_type": "slide"
    }
   },
   "source": [
    "## HTTP Requests\n",
    "- Hypertext Transfer Protocol\n",
    "\n",
    "- When you access a website (through an URL), you are:\n",
    "    - \"sending a HTTP GET request to the server to retrieve data\"\n",
    "    - \"data\" can be a webpage that is displayed, it can be JSON from an API\n"
   ]
  },
  {
   "cell_type": "markdown",
   "metadata": {
    "slideshow": {
     "slide_type": "slide"
    }
   },
   "source": [
    "\n",
    "- When you access a website, you know it worked if it loaded\n",
    "    - Status codes are helpful when you're working with code\n",
    "\n",
    "- Common HTTP status codes:\n",
    "    - 200 OK\n",
    "    - 400 Bad Request\n",
    "    - 401 Unauthorized\n",
    "    - 404 Not Found"
   ]
  },
  {
   "cell_type": "code",
   "execution_count": null,
   "metadata": {
    "slideshow": {
     "slide_type": "fragment"
    }
   },
   "outputs": [],
   "source": [
    "# Something with a bad request\n",
    "requests.get('https://api.github.com/users/sedv8809')"
   ]
  },
  {
   "cell_type": "code",
   "execution_count": null,
   "metadata": {
    "slideshow": {
     "slide_type": "fragment"
    }
   },
   "outputs": [],
   "source": [
    "# Something with a good request\n",
    "requests.get('https://api.github.com/users/sedv8808')"
   ]
  },
  {
   "cell_type": "markdown",
   "metadata": {
    "slideshow": {
     "slide_type": "slide"
    }
   },
   "source": [
    "### The Anatomy Of A Request\n",
    "\n",
    "It’s important to know that a request is made up of four things:\n",
    "\n",
    "1. The endpoint <- the URL you are pointing to.\n",
    "\n",
    "2. The method <- `get` , there are others but not today\n",
    "\n",
    "3. The headers <- `accept JSON`\n",
    "\n",
    "4. The data (or body) <- what we use to work with"
   ]
  },
  {
   "cell_type": "markdown",
   "metadata": {
    "slideshow": {
     "slide_type": "slide"
    }
   },
   "source": [
    "## Use Cases"
   ]
  },
  {
   "cell_type": "markdown",
   "metadata": {
    "slideshow": {
     "slide_type": "slide"
    }
   },
   "source": [
    "## 1. Getting a README from GitHub"
   ]
  },
  {
   "cell_type": "code",
   "execution_count": null,
   "metadata": {
    "slideshow": {
     "slide_type": "slide"
    }
   },
   "outputs": [],
   "source": [
    "import base64\n",
    "\n",
    "def get_readme(url, token):\n",
    "    '''Document your function'''\n",
    "    url_to_api_endpoint = url.replace('https://github.com/', '')\n",
    "    new_url = 'https://api.github.com/repos/' + url_to_api_endpoint + '/contents/README.md'\n",
    "    headers = {'Authorization': f'token {token}', 'accept': 'application/JSON'}\n",
    "    \n",
    "    try:\n",
    "        readme = requests.get(new_url, headers=headers).json()\n",
    "        readme = readme['content']\n",
    "        readme = base64.b64decode(readme)\n",
    "    except:\n",
    "        readme = \"Missing\"\n",
    "\n",
    "    return readme"
   ]
  },
  {
   "cell_type": "code",
   "execution_count": null,
   "metadata": {
    "slideshow": {
     "slide_type": "slide"
    }
   },
   "outputs": [],
   "source": [
    "url = 'https://github.com/UBC-MDS/exploratory-data-viz'\n",
    "token = cfg.github_api['secret']"
   ]
  },
  {
   "cell_type": "code",
   "execution_count": null,
   "metadata": {
    "slideshow": {
     "slide_type": "slide"
    }
   },
   "outputs": [],
   "source": [
    "get_readme(url = url, token=token)"
   ]
  },
  {
   "cell_type": "markdown",
   "metadata": {},
   "source": [
    "## 1. Getting Tweets with a Specific #"
   ]
  },
  {
   "cell_type": "code",
   "execution_count": null,
   "metadata": {},
   "outputs": [],
   "source": [
    "import twitter\n",
    "import json"
   ]
  },
  {
   "cell_type": "markdown",
   "metadata": {},
   "source": [
    "Using [Twitter](https://python-twitter.readthedocs.io/en/latest/twitter.html)'s Wrapping Methods"
   ]
  },
  {
   "cell_type": "code",
   "execution_count": null,
   "metadata": {},
   "outputs": [],
   "source": [
    "api = twitter.Api(consumer_key = cfg.twitter_api['consumer_key'],\n",
    "                  consumer_secret = cfg.twitter_api['consumer_secret'],\n",
    "                  access_token_key = cfg.twitter_api['access_token'],\n",
    "                  access_token_secret = cfg.twitter_api['access_token_secret'])"
   ]
  },
  {
   "cell_type": "code",
   "execution_count": null,
   "metadata": {},
   "outputs": [],
   "source": [
    "# FOLLOWING FUNCTION WILL COLLECT REAL-TIME TWEETS IN OUR COMPUTER\n",
    "\n",
    "# data returned will be for any tweet mentioning strings in the list FILTER\n",
    "FILTER = ['datascience']\n",
    "\n",
    "# Languages to filter tweets by is a list. This will be joined by Twitter\n",
    "# to return data mentioning tweets only in the english language.\n",
    "LANGUAGES = ['en']\n",
    "\n",
    "\n",
    "def retrieve_tweets(path, FILTER, LANGUAGES):\n",
    "    with open(path + 'output.txt', 'a') as f:\n",
    "        # api.GetStreamFilter will return a generator that yields one status\n",
    "        # message (i.e., Tweet) at a time as a JSON dictionary.\n",
    "        counter = 0\n",
    "        for line in api.GetStreamFilter(track=FILTER, languages=LANGUAGES):\n",
    "            counter += 1\n",
    "            f.write(json.dumps(line))\n",
    "            f.write('\\n')\n",
    "            print(counter)\n",
    "            if counter == 5:\n",
    "                break"
   ]
  },
  {
   "cell_type": "code",
   "execution_count": null,
   "metadata": {},
   "outputs": [],
   "source": [
    "retrieve_tweets(path='', FILTER=FILTER, LANGUAGES=LANGUAGES)"
   ]
  },
  {
   "cell_type": "code",
   "execution_count": null,
   "metadata": {},
   "outputs": [],
   "source": [
    "?api.GetStreamFilter"
   ]
  }
 ],
 "metadata": {
  "celltoolbar": "Slideshow",
  "kernelspec": {
   "display_name": "Python 3",
   "language": "python",
   "name": "python3"
  },
  "language_info": {
   "codemirror_mode": {
    "name": "ipython",
    "version": 3
   },
   "file_extension": ".py",
   "mimetype": "text/x-python",
   "name": "python",
   "nbconvert_exporter": "python",
   "pygments_lexer": "ipython3",
   "version": "3.7.4"
  }
 },
 "nbformat": 4,
 "nbformat_minor": 4
}
