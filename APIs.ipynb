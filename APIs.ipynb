{
 "cells": [
  {
   "cell_type": "markdown",
   "metadata": {
    "slideshow": {
     "slide_type": "slide"
    }
   },
   "source": [
    "## UBC Intro to Machine Learning\n",
    "\n",
    "###  APIs\n",
    "Instructor: Socorro Dominguez  \n",
    "February 05, 2022"
   ]
  },
  {
   "cell_type": "markdown",
   "metadata": {},
   "source": [
    "[Binder]"
   ]
  },
  {
   "cell_type": "markdown",
   "metadata": {
    "slideshow": {
     "slide_type": "slide"
    }
   },
   "source": [
    "**Agenda:**\n",
    "\n",
    "* Where does our data come from? (10 minutes)\n",
    "* APIs (20 minutes)\n",
    "    * What is it?\n",
    "    * Examples of APIs\n",
    "    * Applications\n",
    "    * Demo using Python\n",
    "    * Example of a notebook to get information using APIs (10 minutes)"
   ]
  },
  {
   "cell_type": "markdown",
   "metadata": {
    "slideshow": {
     "slide_type": "slide"
    }
   },
   "source": [
    "## How is Data Science related to the Web?"
   ]
  },
  {
   "cell_type": "markdown",
   "metadata": {
    "slideshow": {
     "slide_type": "slide"
    }
   },
   "source": [
    "- In order for you to be able to perform Data Science, you need the raw material: DATA\n",
    "- Where do you think you can get data from?"
   ]
  },
  {
   "cell_type": "markdown",
   "metadata": {
    "slideshow": {
     "slide_type": "fragment"
    }
   },
   "source": [
    "- Publicly available datasets (e.g. check out [Kaggle](https://www.kaggle.com/competitions))\n",
    "    - Good for benchmarking, but limited for real use-case\n",
    "- Company’s database (e.g. transaction history)\n",
    "    - SQL, MongoDB, etc.\n",
    "- From the web\n",
    "    - Collected manually (scraping)\n",
    "    - Collected automatically (APIs)"
   ]
  },
  {
   "cell_type": "markdown",
   "metadata": {
    "slideshow": {
     "slide_type": "slide"
    }
   },
   "source": [
    "###  Task: You work for Company A. You want to know what your customers are talking about you on Twitter. How do you retrieve the data?"
   ]
  },
  {
   "cell_type": "markdown",
   "metadata": {
    "slideshow": {
     "slide_type": "fragment"
    }
   },
   "source": [
    "![img](img/api_img.png)"
   ]
  },
  {
   "cell_type": "markdown",
   "metadata": {
    "slideshow": {
     "slide_type": "slide"
    }
   },
   "source": [
    "It would be hard to copy paste everything on Twitter and then build a dataframe...\n",
    "One easier way could be scraping. This is what a website looks like when you view it in its raw \"code\" format.\n",
    "\n",
    "![img](img/xml_img.png)\n",
    "\n",
    "F12 for Windows Users   \n",
    "Right click + Inspect for Mac users"
   ]
  },
  {
   "cell_type": "markdown",
   "metadata": {
    "slideshow": {
     "slide_type": "slide"
    }
   },
   "source": [
    "### What if we wanted to collect this data for analysis?"
   ]
  },
  {
   "cell_type": "code",
   "execution_count": 1,
   "metadata": {
    "slideshow": {
     "slide_type": "skip"
    }
   },
   "outputs": [
    {
     "data": {
      "text/plain": [
       "'<!DOCTYPE html>\\n<html dir=\"ltr\" lang=\"en\">\\n<meta charset=\"utf-8\" />\\n<meta name=\"viewport\" content=\"width=device-width,initial-scale=1,maximum-scale=1,user-scalable=0,viewport-fit=cover\" /><link rel=\"preconnect\" href=\"//abs.twimg.com\" /><link rel=\"dns-prefetch\" href=\"//abs.twimg.com\" /><link rel=\"preconnect\" href=\"//api.twitter.com\" /><link rel=\"dns-prefetch\" href=\"//api.twitter.com\" /><link rel=\"preconnect\" href=\"//pbs.twimg.com\" /><link rel=\"dns-prefetch\" href=\"//pbs.twimg.com\" /><link rel=\"preconnect\" href=\"//t.co\" /><link rel=\"dns-prefetch\" href=\"//t.co\" /><link rel=\"preconnect\" href=\"//video.twimg.com\" /><link rel=\"dns-prefetch\" href=\"//video.twimg.com\" /><link rel=\"preload\" as=\"script\" crossorigin=\"anonymous\" href=\"https://abs.twimg.com/responsive-web/client-web-legacy/polyfills.b9199025.js\" nonce=\"MGQwMjlkNDUtMzEzNS00NzQyLWIyYTItMDRmZDk1NDU0ZDRi\" /><link rel=\"preload\" as=\"script\" crossorigin=\"anonymous\" href=\"https://abs.twimg.com/responsive-web/client-web-legacy/vendors~main.c030c4b5.js\" nonce=\"MGQwMjlkNDUtMzEzNS00NzQyLWIyYTItMDRmZDk1NDU0ZDRi\" /><link rel=\"preload\" as=\"script\" crossorigin=\"anonymous\" href=\"https://abs.twimg.com/responsive-web/client-web-legacy/i18n/en.412852a5.js\" nonce=\"MGQwMjlkNDUtMzEzNS00NzQyLWIyYTItMDRmZDk1NDU0ZDRi\" /><link rel=\"preload\" as=\"script\" crossorigin=\"anonymous\" href=\"https://abs.twimg.com/responsive-web/client-web-legacy/main.b46ac855.js\" nonce=\"MGQwMjlkNDUtMzEzNS00NzQyLWIyYTItMDRmZDk1NDU0ZDRi\" /><meta property=\"fb:app_id\" content=\"2231777543\" />\\n<meta property=\"og:site_name\" content=\"Twitter\" /><meta name=\"google-site-verification\" content=\"acYOOcR5z6puMzLn6hLDZI1nNHXPxt57OIstz1vnCV0\" /><meta name=\"facebook-domain-verification\" content=\"x6sdcc8b5ju3bh8nbm59eswogvg6t1\" /><link rel=\"manifest\" href=\"/manifest.json\" crossOrigin=\"use-credentials\" /><link rel=\"alternate\" hreflang=\"x-default\" href=\"https://twitter.com/search?src&#x3D;typeahead_click&amp;q&#x3D;%23DataScience\" /><link rel=\"alternate\" hreflang=\"en\" href=\"https://twitter.com/search?lang=en&src=typeahead_click&q=%23DataScience\" /><link rel=\"alternate\" hreflang=\"ar\" href=\"https://twitter.com/search?lang=ar&src=typeahead_click&q=%23DataScience\" /><link rel=\"alternate\" hreflang=\"ar-x-fm\" href=\"https://twitter.com/search?lang=ar-x-fm&src=typeahead_click&q=%23DataScience\" /><link rel=\"alternate\" hreflang=\"bg\" href=\"https://twitter.com/search?lang=bg&src=typeahead_click&q=%23DataScience\" /><link rel=\"alternate\" hreflang=\"bn\" href=\"https://twitter.com/search?lang=bn&src=typeahead_click&q=%23DataScience\" /><link rel=\"alternate\" hreflang=\"ca\" href=\"https://twitter.com/search?lang=ca&src=typeahead_click&q=%23DataScience\" /><link rel=\"alternate\" hreflang=\"cs\" href=\"https://twitter.com/search?lang=cs&src=typeahead_click&q=%23DataScience\" /><link rel=\"alternate\" hreflang=\"da\" href=\"https://twitter.com/search?lang=da&src=typeahead_click&q=%23DataScience\" /><link rel=\"alternate\" hreflang=\"de\" href=\"https://twitter.com/search?lang=de&src=typeahead_click&q=%23DataScience\" /><link rel=\"alternate\" hreflang=\"el\" href=\"https://twitter.com/search?lang=el&src=typeahead_click&q=%23DataScience\" /><link rel=\"alternate\" hreflang=\"en-GB\" href=\"https://twitter.com/search?lang=en-GB&src=typeahead_click&q=%23DataScience\" /><link rel=\"alternate\" hreflang=\"es\" href=\"https://twitter.com/search?lang=es&src=typeahead_click&q=%23DataScience\" /><link rel=\"alternate\" hreflang=\"eu\" href=\"https://twitter.com/search?lang=eu&src=typeahead_click&q=%23DataScience\" /><link rel=\"alternate\" hreflang=\"fa\" href=\"https://twitter.com/search?lang=fa&src=typeahead_click&q=%23DataScience\" /><link rel=\"alternate\" hreflang=\"fi\" href=\"https://twitter.com/search?lang=fi&src=typeahead_click&q=%23DataScience\" /><link rel=\"alternate\" hreflang=\"fr\" href=\"https://twitter.com/search?lang=fr&src=typeahead_click&q=%23DataScience\" /><link rel=\"alternate\" hreflang=\"ga\" href=\"https://twitter.com/search?lang=ga&src=typeahead_click&q=%23DataScience\" /><link rel=\"alternate\" hreflang=\"gl\" href=\"https://twitter.com/search?lang=gl&src=typeahead_click&q=%23DataScience\" /><link rel=\"alternate\" hreflang=\"gu\" href=\"https://twitter.com/search?lang=gu&src=typeahead_click&q=%23DataScience\" /><link rel=\"alternate\" hreflang=\"he\" href=\"https://twitter.com/search?lang=he&src=typeahead_click&q=%23DataScience\" /><link rel=\"alternate\" hreflang=\"hi\" href=\"https://twitter.com/search?lang=hi&src=typeahead_click&q=%23DataScience\" /><link rel=\"alternate\" hreflang=\"hr\" href=\"https://twitter.com/search?lang=hr&src=typeahead_click&q=%23DataScience\" /><link rel=\"alternate\" hreflang=\"hu\" href=\"https://twitter.com/search?lang=hu&src=typeahead_click&q=%23DataScience\" /><link rel=\"alternate\" hreflang=\"id\" href=\"https://twitter.com/search?lang=id&src=typeahead_click&q=%23DataScience\" /><link rel=\"alternate\" hreflang=\"it\" href=\"https://twitter.com/search?lang=it&src=typeahead_click&q=%23DataScience\" /><link rel=\"alternate\" hreflang=\"ja\" href=\"https://twitter.com/search?lang=ja&src=typeahead_click&q=%23DataScience\" /><link rel=\"alternate\" hreflang=\"kn\" href=\"https://twitter.com/search?lang=kn&src=typeahead_click&q=%23DataScience\" /><link rel=\"alternate\" hreflang=\"ko\" href=\"https://twitter.com/search?lang=ko&src=typeahead_click&q=%23DataScience\" /><link rel=\"alternate\" hreflang=\"mr\" href=\"https://twitter.com/search?lang=mr&src=typeahead_click&q=%23DataScience\" /><link rel=\"alternate\" hreflang=\"ms\" href=\"https://twitter.com/search?lang=ms&src=typeahead_click&q=%23DataScience\" /><link rel=\"alternate\" hreflang=\"nb\" href=\"https://twitter.com/search?lang=nb&src=typeahead_click&q=%23DataScience\" /><link rel=\"alternate\" hreflang=\"nl\" href=\"https://twitter.com/search?lang=nl&src=typeahead_click&q=%23DataScience\" /><link rel=\"alternate\" hreflang=\"pl\" href=\"https://twitter.com/search?lang=pl&src=typeahead_click&q=%23DataScience\" /><link rel=\"alternate\" hreflang=\"pt\" href=\"https://twitter.com/search?lang=pt&src=typeahead_click&q=%23DataScience\" /><link rel=\"alternate\" hreflang=\"ro\" href=\"https://twitter.com/search?lang=ro&src=typeahead_click&q=%23DataScience\" /><link rel=\"alternate\" hreflang=\"ru\" href=\"https://twitter.com/search?lang=ru&src=typeahead_click&q=%23DataScience\" /><link rel=\"alternate\" hreflang=\"sk\" href=\"https://twitter.com/search?lang=sk&src=typeahead_click&q=%23DataScience\" /><link rel=\"alternate\" hreflang=\"sr\" href=\"https://twitter.com/search?lang=sr&src=typeahead_click&q=%23DataScience\" /><link rel=\"alternate\" hreflang=\"sv\" href=\"https://twitter.com/search?lang=sv&src=typeahead_click&q=%23DataScience\" /><link rel=\"alternate\" hreflang=\"ta\" href=\"https://twitter.com/search?lang=ta&src=typeahead_click&q=%23DataScience\" /><link rel=\"alternate\" hreflang=\"th\" href=\"https://twitter.com/search?lang=th&src=typeahead_click&q=%23DataScience\" /><link rel=\"alternate\" hreflang=\"tr\" href=\"https://twitter.com/search?lang=tr&src=typeahead_click&q=%23DataScience\" /><link rel=\"alternate\" hreflang=\"uk\" href=\"https://twitter.com/search?lang=uk&src=typeahead_click&q=%23DataScience\" /><link rel=\"alternate\" hreflang=\"ur\" href=\"https://twitter.com/search?lang=ur&src=typeahead_click&q=%23DataScience\" /><link rel=\"alternate\" hreflang=\"vi\" href=\"https://twitter.com/search?lang=vi&src=typeahead_click&q=%23DataScience\" /><link rel=\"alternate\" hreflang=\"zh\" href=\"https://twitter.com/search?lang=zh&src=typeahead_click&q=%23DataScience\" /><link rel=\"alternate\" hreflang=\"zh-Hant\" href=\"https://twitter.com/search?lang=zh-Hant&src=typeahead_click&q=%23DataScience\" /><link rel=\"canonical\" href=\"https://twitter.com/search?src&#x3D;typeahead_click&amp;q&#x3D;%23DataScience\" /><link rel=\"search\" type=\"application/opensearchdescription+xml\" href=\"/opensearch.xml\" title=\"Twitter\"><link rel=\"mask-icon\" sizes=\"any\" href=\"https://abs.twimg.com/responsive-web/client-web-legacy/icon-svg.168b89d5.svg\" color=\"#1D9BF0\"><link rel=\"shortcut icon\" href=\"//abs.twimg.com/favicons/twitter.2.ico\"><link rel=\"apple-touch-icon\" sizes=\"192x192\" href=\"https://abs.twimg.com/responsive-web/client-web-legacy/icon-ios.b1fc7275.png\" /><meta name=\"mobile-web-app-capable\" content=\"yes\" />\\n<meta name=\"apple-mobile-web-app-title\" content=\"Twitter\" />\\n<meta name=\"apple-mobile-web-app-status-bar-style\" content=\"white\" />\\n<meta name=\"theme-color\" content=\"#ffffff\" />\\n<meta http-equiv=\"origin-trial\" content=\"Apir4chqTX+4eFxKD+ErQlKRB/VtZ/dvnLfd9Y9Nenl5r1xJcf81alryTHYQiuUlz9Q49MqGXqyaiSmqWzHUqQwAAABneyJvcmlnaW4iOiJodHRwczovL3R3aXR0ZXIuY29tOjQ0MyIsImZlYXR1cmUiOiJDb250YWN0c01hbmFnZXIiLCJleHBpcnkiOjE1NzUwMzUyODMsImlzU3ViZG9tYWluIjp0cnVlfQ==\" /><style>html,body{height: 100%;}</style><style id=\"react-native-stylesheet\">[stylesheet-group=\"0\"]{}\\nhtml{-ms-text-size-adjust:100%;-webkit-text-size-adjust:100%;-webkit-tap-highlight-color:rgba(0,0,0,0);}\\nbody{margin:0;}\\nbutton::-moz-focus-inner,input::-moz-focus-inner{border:0;padding:0;}\\ninput::-webkit-inner-spin-button,input::-webkit-outer-spin-button,input::-webkit-search-cancel-button,input::-webkit-search-decoration,input::-webkit-search-results-button,input::-webkit-search-results-decoration{display:none;}\\n[stylesheet-group=\"0.1\"]{}\\n:focus:not([data-focusvisible-polyfill]){outline: none;}\\n[stylesheet-group=\"1\"]{}\\n.css-1dbjc4n{-ms-flex-align:stretch;-ms-flex-direction:column;-ms-flex-negative:0;-ms-flex-preferred-size:auto;-webkit-align-items:stretch;-webkit-box-align:stretch;-webkit-box-direction:normal;-webkit-box-orient:vertical;-webkit-flex-basis:auto;-webkit-flex-direction:column;-webkit-flex-shrink:0;align-items:stretch;border:0 solid black;box-sizing:border-box;display:-webkit-box;display:-moz-box;display:-ms-flexbox;display:-webkit-flex;display:flex;flex-basis:auto;flex-direction:column;flex-shrink:0;margin-bottom:0px;margin-left:0px;margin-right:0px;margin-top:0px;min-height:0px;min-width:0px;padding-bottom:0px;padding-left:0px;padding-right:0px;padding-top:0px;position:relative;z-index:0;}\\n.css-901oao{border:0 solid black;box-sizing:border-box;color:rgba(0,0,0,1.00);display:inline;font:14px -apple-system,BlinkMacSystemFont,\"Segoe UI\",Roboto,Helvetica,Arial,sans-serif;margin-bottom:0px;margin-left:0px;margin-right:0px;margin-top:0px;padding-bottom:0px;padding-left:0px;padding-right:0px;padding-top:0px;white-space:pre-wrap;word-wrap:break-word;}\\n.css-16my406{color:inherit;font:inherit;white-space:inherit;}\\n[stylesheet-group=\"2\"]{}\\n.r-13awgt0{-ms-flex:1 1 0%;-webkit-flex:1;flex:1;}\\n.r-4qtqp9{display:inline-block;}\\n.r-ywje51{margin-bottom:auto;margin-left:auto;margin-right:auto;margin-top:auto;}\\n.r-hvic4v{display:none;}\\n.r-1adg3ll{display:block;}\\n[stylesheet-group=\"2.2\"]{}\\n.r-12vffkv>*{pointer-events:auto;}\\n.r-12vffkv{pointer-events:none!important;}\\n.r-14lw9ot{background-color:rgba(255,255,255,1.00);}\\n.r-1p0dtai{bottom:0px;}\\n.r-1d2f490{left:0px;}\\n.r-1xcajam{position:fixed;}\\n.r-zchlnj{right:0px;}\\n.r-ipm5af{top:0px;}\\n.r-yyyyoo{fill:currentcolor;}\\n.r-1xvli5t{height:1.25em;}\\n.r-dnmrzs{max-width:100%;}\\n.r-bnwqim{position:relative;}\\n.r-1plcrui{vertical-align:text-bottom;}\\n.r-lrvibr{-moz-user-select:none;-ms-user-select:none;-webkit-user-select:none;user-select:none;}\\n.r-13gxpu9{color:rgba(29,161,242,1.00);}\\n.r-wy61xf{height:72px;}\\n.r-u8s1d{position:absolute;}\\n.r-1blnp2b{width:72px;}\\n.r-1ykxob0{top:60%;}\\n.r-1b2b6em{line-height:2em;}\\n.r-q4m81j{text-align:center;}</style><body style=\"background-color: #FFFFFF;\">\\n  <noscript>\\n    <style>\\n    body {\\n      -ms-overflow-style: scrollbar;\\n      overflow-y: scroll;\\n      overscroll-behavior-y: none;\\n    }\\n\\n    .errorContainer {\\n      background-color: #FFF;\\n      color: #0F1419;\\n      max-width: 600px;\\n      margin: 0 auto;\\n      padding: 10%;\\n      font-family: Helvetica, sans-serif;\\n      font-size: 16px;\\n    }\\n\\n    .errorButton {\\n      margin: 3em 0;\\n    }\\n\\n    .errorButton a {\\n      background: #1DA1F2;\\n      border-radius: 2.5em;\\n      color: white;\\n      padding: 1em 2em;\\n      text-decoration: none;\\n    }\\n\\n    .errorButton a:hover,\\n    .errorButton a:focus {\\n      background: rgb(26, 145, 218);\\n    }\\n\\n    .errorFooter {\\n      color: #657786;\\n      font-size: 80%;\\n      line-height: 1.5;\\n      padding: 1em 0;\\n    }\\n\\n    .errorFooter a,\\n    .errorFooter a:visited {\\n      color: #657786;\\n      text-decoration: none;\\n      padding-right: 1em;\\n    }\\n\\n    .errorFooter a:hover,\\n    .errorFooter a:active {\\n      text-decoration: underline;\\n    }\\n\\n      #placeholder,\\n      #react-root {\\n        display: none !important;\\n      }\\n      body {\\n        background-color: #FFF !important;\\n      }\\n    </style>\\n    <div class=\"errorContainer\">\\n      <img width=\"46\" height=\"38\" srcset=\"https://abs.twimg.com/errors/logo46x38.png 1x, https://abs.twimg.com/errors/logo46x38@2x.png 2x\" src=\"https://abs.twimg.com/errors/logo46x38.png\" alt=\"Twitter\" />\\n      <h1>JavaScript is not available.</h1>\\n      <p>We’ve detected that JavaScript is disabled in this browser. Please enable JavaScript or switch to a supported browser to continue using twitter.com. You can see a list of supported browsers in our Help Center.</p>\\n      <p class=\"errorButton\"><a href=\"https://help.twitter.com/using-twitter/twitter-supported-browsers\">Help Center</a></p>\\n    <p class=\"errorFooter\">\\n      <a href=\"https://twitter.com/tos\">Terms of Service</a>\\n      <a href=\"https://twitter.com/privacy\">Privacy Policy</a>\\n      <a href=\"https://support.twitter.com/articles/20170514\">Cookie Policy</a>\\n      <a href=\"https://legal.twitter.com/imprint\">Imprint</a>\\n      <a href=\"https://business.twitter.com/en/help/troubleshooting/how-twitter-ads-work.html?ref=web-twc-ao-gbl-adsinfo&utm_source=twc&utm_medium=web&utm_campaign=ao&utm_content=adsinfo\">Ads info</a>\\n      © 2022 Twitter, Inc.\\n    </p>\\n\\n    </div>\\n  </noscript><div id=\"react-root\" style=\"height:100%;display:flex;\"><div class=\"css-1dbjc4n r-13awgt0 r-12vffkv\"><div class=\"css-1dbjc4n r-13awgt0 r-12vffkv\"><style>\\n@media (prefers-color-scheme: dark) {\\n  #placeholder {\\n    background-color: #000000\\n  }\\n}\\n</style><div aria-label=\"Loading…\" class=\"css-1dbjc4n r-14lw9ot r-1p0dtai r-1d2f490 r-1xcajam r-zchlnj r-ipm5af\" id=\"placeholder\"><svg viewBox=\"0 0 24 24\" aria-hidden=\"true\" class=\"r-1p0dtai r-13gxpu9 r-4qtqp9 r-yyyyoo r-wy61xf r-1d2f490 r-ywje51 r-dnmrzs r-u8s1d r-zchlnj r-1plcrui r-ipm5af r-lrvibr r-1blnp2b\"><g><path d=\"M23.643 4.937c-.835.37-1.732.62-2.675.733.962-.576 1.7-1.49 2.048-2.578-.9.534-1.897.922-2.958 1.13-.85-.904-2.06-1.47-3.4-1.47-2.572 0-4.658 2.086-4.658 4.66 0 .364.042.718.12 1.06-3.873-.195-7.304-2.05-9.602-4.868-.4.69-.63 1.49-.63 2.342 0 1.616.823 3.043 2.072 3.878-.764-.025-1.482-.234-2.11-.583v.06c0 2.257 1.605 4.14 3.737 4.568-.392.106-.803.162-1.227.162-.3 0-.593-.028-.877-.082.593 1.85 2.313 3.198 4.352 3.234-1.595 1.25-3.604 1.995-5.786 1.995-.376 0-.747-.022-1.112-.065 2.062 1.323 4.51 2.093 7.14 2.093 8.57 0 13.255-7.098 13.255-13.254 0-.2-.005-.402-.014-.602.91-.658 1.7-1.477 2.323-2.41z\"></path></g></svg></div><div class=\"css-1dbjc4n r-hvic4v r-1d2f490 r-1xcajam r-zchlnj r-1ykxob0\" id=\"ScriptLoadFailure\"><form action=\"\" method=\"GET\"><div dir=\"auto\" class=\"css-901oao r-1adg3ll r-1b2b6em r-q4m81j\"><span class=\"css-901oao css-16my406\">Something went wrong, but don’t fret — let’s give it another shot.</span><br/><input type=\"hidden\" name=\"failedScript\" value=\"\"/><input type=\"submit\" value=\"Try again\"/></div></form></div></div></div></div><script type=\"text/javascript\" charset=\"utf-8\" nonce=\"MGQwMjlkNDUtMzEzNS00NzQyLWIyYTItMDRmZDk1NDU0ZDRi\">window.__INITIAL_STATE__={\"optimist\":[],\"entities\":{\"commerceItems\":{\"entities\":{},\"errors\":{},\"fetchStatus\":{}},\"communities\":{\"entities\":{},\"errors\":{},\"fetchStatus\":{}},\"conversations\":{\"entities\":{},\"errors\":{},\"fetchStatus\":{}},\"entries\":{\"entities\":{},\"errors\":{},\"fetchStatus\":{}},\"users\":{\"entities\":{},\"errors\":{},\"fetchStatus\":{}},\"tweets\":{\"entities\":{},\"errors\":{},\"fetchStatus\":{}},\"twitterArticles\":{\"entities\":{},\"errors\":{},\"fetchStatus\":{}},\"cards\":{\"entities\":{},\"errors\":{},\"fetchStatus\":{}},\"userPresence\":{\"entities\":{},\"errors\":{},\"fetchStatus\":{}},\"userCommunityInviteActionResult\":{\"entities\":{},\"errors\":{},\"fetchStatus\":{}}},\"featureSwitch\":{\"debug\":{},\"defaultConfig\":{\"account_2fa_standalone_security_key_enabled\":{\"value\":true},\"account_country_setting_countries_whitelist\":{\"value\":[\"ad\",\"ae\",\"af\",\"ag\",\"ai\",\"al\",\"am\",\"ao\",\"ar\",\"as\",\"at\",\"au\",\"aw\",\"ax\",\"az\",\"ba\",\"bb\",\"bd\",\"be\",\"bf\",\"bg\",\"bh\",\"bi\",\"bj\",\"bl\",\"bm\",\"bn\",\"bo\",\"bq\",\"br\",\"bs\",\"bt\",\"bv\",\"bw\",\"by\",\"bz\",\"ca\",\"cc\",\"cd\",\"cf\",\"cg\",\"ch\",\"ci\",\"ck\",\"cl\",\"cm\",\"co\",\"cr\",\"cu\",\"cv\",\"cw\",\"cx\",\"cy\",\"cz\",\"de\",\"dj\",\"dk\",\"dm\",\"do\",\"dz\",\"ec\",\"ee\",\"eg\",\"er\",\"es\",\"et\",\"fi\",\"fj\",\"fk\",\"fm\",\"fo\",\"fr\",\"ga\",\"gb\",\"gd\",\"ge\",\"gf\",\"gg\",\"gh\",\"gi\",\"gl\",\"gm\",\"gn\",\"gp\",\"gq\",\"gr\",\"gs\",\"gt\",\"gu\",\"gw\",\"gy\",\"hk\",\"hn\",\"hr\",\"ht\",\"hu\",\"id\",\"ie\",\"il\",\"im\",\"in\",\"io\",\"iq\",\"ir\",\"is\",\"it\",\"je\",\"jm\",\"jo\",\"jp\",\"ke\",\"kg\",\"kh\",\"ki\",\"km\",\"kn\",\"kr\",\"kw\",\"ky\",\"kz\",\"la\",\"lb\",\"lc\",\"li\",\"lk\",\"lr\",\"ls\",\"lt\",\"lu\",\"lv\",\"ly\",\"ma\",\"mc\",\"md\",\"me\",\"mf\",\"mg\",\"mh\",\"mk\",\"ml\",\"mn\",\"mo\",\"mp\",\"mq\",\"mr\",\"ms\",\"mt\",\"mu\",\"mv\",\"mw\",\"mx\",\"my\",\"mz\",\"na\",\"nc\",\"ne\",\"nf\",\"ng\",\"ni\",\"nl\",\"no\",\"np\",\"nr\",\"nu\",\"nz\",\"om\",\"pa\",\"pe\",\"pf\",\"pg\",\"ph\",\"pk\",\"pl\",\"pm\",\"pn\",\"pr\",\"ps\",\"pt\",\"pw\",\"py\",\"qa\",\"re\",\"ro\",\"rs\",\"ru\",\"rw\",\"sa\",\"sb\",\"sc\",\"se\",\"sg\",\"sh\",\"si\",\"sk\",\"sl\",\"sm\",\"sn\",\"so\",\"sr\",\"st\",\"sv\",\"sx\",\"sz\",\"tc\",\"td\",\"tf\",\"tg\",\"th\",\"tj\",\"tk\",\"tl\",\"tm\",\"tn\",\"to\",\"tr\",\"tt\",\"tv\",\"tw\",\"tz\",\"ua\",\"ug\",\"us\",\"uy\",\"uz\",\"va\",\"vc\",\"ve\",\"vi\",\"vn\",\"vu\",\"wf\",\"ws\",\"xk\",\"ye\",\"yt\",\"za\",\"zm\",\"zw\"]},\"account_session_console_from_graphql_enabled\":{\"value\":true},\"account_taxonomy_automated_label_enabled\":{\"value\":false},\"account_taxonomy_automation_opt_in_enabled\":{\"value\":false},\"ads_spacing_client_fallback_minimum_spacing\":{\"value\":3},\"author_moderated_replies_urt_container_enabled\":{\"value\":false},\"business_profiles_rweb_onboarding_enabled\":{\"value\":false},\"c9s_community_creation_enabled\":{\"value\":true},\"c9s_community_creation_setup_checklist_enabled\":{\"value\":false},\"c9s_edit_community_banner_enabled\":{\"value\":true},\"c9s_edit_community_description_enabled\":{\"value\":true},\"c9s_edit_community_membership_settings_enabled\":{\"value\":true},\"c9s_edit_community_name_enabled\":{\"value\":true},\"c9s_edit_community_theme_enabled\":{\"value\":true},\"c9s_edit_moderators_enabled\":{\"value\":false},\"c9s_enabled\":{\"value\":true},\"c9s_max_community_description_length\":{\"value\":160},\"c9s_max_community_name_length\":{\"value\":30},\"c9s_max_rule_count\":{\"value\":10},\"c9s_max_rule_description_length\":{\"value\":160},\"c9s_max_rule_name_length\":{\"value\":60},\"c9s_moderation_enabled\":{\"value\":true},\"c9s_participation_enabled\":{\"value\":true},\"c9s_remove_member_enabled\":{\"value\":true},\"c9s_report_community_enabled\":{\"value\":false},\"c9s_request_to_join_enabled\":{\"value\":false},\"c9s_rule_creation_enabled\":{\"value\":true},\"c9s_rule_editing_enabled\":{\"value\":true},\"c9s_rule_management_enabled\":{\"value\":true},\"c9s_rule_removal_enabled\":{\"value\":true},\"c9s_rule_reordering_enabled\":{\"value\":true},\"c9s_settings_enabled\":{\"value\":true},\"c9s_share_community_enabled\":{\"value\":false},\"c9s_tab_visibility\":{\"value\":\"members_only\"},\"c9s_timelines_ranking_enabled\":{\"value\":false},\"c9s_ui_colors_enabled_rweb\":{\"value\":true},\"content_language_setting_enabled\":{\"value\":true},\"conversation_controls_change_enabled\":{\"value\":true},\"conversation_controls_change_tooltip_enabled\":{\"value\":true},\"conversation_controls_limited_replies_consumption_configuration\":{\"value\":\"no_reply\"},\"conversation_controls_limited_replies_creation_enabled\":{\"value\":true},\"conversation_controls_persistence_enabled\":{\"value\":true},\"conversational_safety_heads_up_treatment_A_enabled\":{\"value\":\"\"},\"creator_monetization_super_follows_enabled\":{\"value\":false},\"direct_messages_incremental_holdback_2022h1\":{\"value\":true},\"dm_conversation_labels_max_pinned_count\":{\"value\":6},\"dm_conversation_labels_pinned_education_enabled\":{\"value\":true},\"dm_conversation_labels_pinned_enabled\":{\"value\":false},\"dm_conversations_nsfw_media_filter_enabled\":{\"value\":false},\"dm_education_flags_prompt\":{\"value\":false},\"dm_evolution_conversation_timeline_enabled\":{\"value\":false},\"dm_evolution_enabled\":{\"value\":false},\"dm_evolution_inbox_initial_state_enabled\":{\"value\":false},\"dm_inbox_search_groups_bucket_size\":{\"value\":5},\"dm_inbox_search_max_recent_searches_stored\":{\"value\":5},\"dm_inbox_search_message_results_enabled\":{\"value\":false},\"dm_inbox_search_messages_bucket_size\":{\"value\":5},\"dm_inbox_search_modular_results_enabled\":{\"value\":false},\"dm_inbox_search_people_bucket_size\":{\"value\":5},\"dm_reactions_config_active_reactions\":{\"value\":[\"😂:funny\",\"😲:surprised\",\"😢:sad\",\"❤️:like\",\"🔥:excited\",\"👍:agree\",\"👎:disagree\"]},\"dm_reactions_config_inactive_reactions\":{\"value\":[\"😠:angry\",\"😷:mask\"]},\"dm_share_sheet_send_individually_enabled\":{\"value\":false},\"dm_share_sheet_send_individually_max_count\":{\"value\":20},\"dm_vdl_chat_p0_enabled\":{\"value\":false},\"dm_vdl_enabled\":{\"value\":false},\"dm_vdl_inbox_p0_enabled\":{\"value\":false},\"dm_voice_rendering_enabled\":{\"value\":true},\"dont_mention_me_view_api_enabled\":{\"value\":false},\"employee_role\":{\"value\":false},\"enable_label_appealing_misinfo_enabled\":{\"value\":false},\"enable_label_appealing_sensitive_content_enabled\":{\"value\":false},\"explore_relaunch_enabled\":{\"value\":false},\"explore_settings_trends_policy_url\":{\"value\":\"\"},\"followers_management_remove_follower_from_followers_list\":{\"value\":true},\"followers_management_remove_follower_from_profile_screen\":{\"value\":true},\"graphql_mutation_destroy_mode\":{\"value\":\"graphql_only\"},\"graphql_mutation_retweet_mode\":{\"value\":\"graphql_only\"},\"graphql_mutation_unretweet_mode\":{\"value\":\"graphql_only\"},\"graphql_mutation_update_mode\":{\"value\":\"graphql_only\"},\"graphql_timeline_v2_query_threaded_conversation_with_injections\":{\"value\":false},\"graphql_timeline_v2_user_favorites_by_time_timeline\":{\"value\":true},\"graphql_timeline_v2_user_media_timeline\":{\"value\":true},\"graphql_timeline_v2_user_profile_timeline\":{\"value\":false},\"graphql_timeline_v2_user_profile_with_replies_timeline\":{\"value\":false},\"guest_broadcasting_timeline_decorations_enabled\":{\"value\":false},\"hashflags_animation_like_button_enabled\":{\"value\":true},\"home_timeline_latest_timeline_switch_enabled\":{\"value\":true},\"home_timeline_like_reactivity_enabled\":{\"value\":false},\"home_timeline_like_reactivity_fatigue\":{\"value\":10},\"home_timeline_spheres_detail_page_muting_enabled\":{\"value\":true},\"home_timeline_spheres_max_user_owned_or_subscribed_lists_count\":{\"value\":5},\"home_timeline_spheres_ranking_mode_control_enabled\":{\"value\":true},\"home_timeline_topics_navigator_enabled\":{\"value\":false},\"identity_verification_debadging_notification_enabled\":{\"value\":true},\"identity_verification_educational_prompt_enabled\":{\"value\":true},\"identity_verification_intake_enabled\":{\"value\":false},\"identity_verification_notable_demo_survey\":{\"value\":false},\"live_event_docking_enabled\":{\"value\":true},\"live_event_multi_video_auto_advance_dock_enabled\":{\"value\":true},\"live_event_multi_video_auto_advance_enabled\":{\"value\":true},\"live_event_multi_video_auto_advance_fullscreen_enabled\":{\"value\":false},\"live_event_multi_video_auto_advance_transition_duration_seconds\":{\"value\":5},\"live_event_multi_video_enabled\":{\"value\":true},\"live_event_timeline_default_refresh_rate_interval_seconds\":{\"value\":30},\"live_event_timeline_minimum_refresh_rate_interval_seconds\":{\"value\":10},\"live_event_timeline_server_controlled_refresh_rate_enabled\":{\"value\":true},\"livepipeline_client_enabled\":{\"value\":true},\"livepipeline_dm_features_enabled\":{\"value\":true},\"livepipeline_tweetengagement_enabled\":{\"value\":true},\"media_edge_to_edge_content_enabled\":{\"value\":false},\"moment_annotations_enabled\":{\"value\":true},\"network_layer_503_backoff_mode\":{\"value\":\"host\"},\"ocf_2fa_enrollment_enabled\":{\"value\":true},\"profile_foundations_about_tab_enabled\":{\"value\":false},\"report_center_mvp_r1_enabled\":{\"value\":false},\"responsive_web_3rd_party_category_branch\":{\"value\":3},\"responsive_web_3rd_party_category_double_click\":{\"value\":3},\"responsive_web_3rd_party_category_external_referer\":{\"value\":3},\"responsive_web_3rd_party_category_ga\":{\"value\":3},\"responsive_web_3rd_party_category_google_platform\":{\"value\":2},\"responsive_web_3rd_party_category_google_recaptcha\":{\"value\":2},\"responsive_web_3rd_party_category_player_card\":{\"value\":3},\"responsive_web_3rd_party_category_sentry\":{\"value\":2},\"responsive_web_3rd_party_category_sign_in_with_apple\":{\"value\":2},\"responsive_web_account_search_readability_enabled\":{\"value\":true},\"responsive_web_add_impression_id_to_mute_engagement_enabled\":{\"value\":true},\"responsive_web_alt_svc\":{\"value\":false},\"responsive_web_alt_text_badge_enabled\":{\"value\":false},\"responsive_web_alt_text_nudges_enabled\":{\"value\":false},\"responsive_web_alt_text_nudges_settings_enabled\":{\"value\":false},\"responsive_web_api_transition_enabled\":{\"value\":true},\"responsive_web_app_bar_scroll_enabled\":{\"value\":true},\"responsive_web_article_nudge_enabled\":{\"value\":true},\"responsive_web_auto_logout_multiaccount_enabled\":{\"value\":true},\"responsive_web_auto_logout_restrictedauthtoken_enabled\":{\"value\":true},\"responsive_web_auto_logout_twid_enabled\":{\"value\":true},\"responsive_web_birdwatch_aliases_enabled\":{\"value\":true},\"responsive_web_birdwatch_appeals_enabled\":{\"value\":false},\"responsive_web_birdwatch_consumption_enabled\":{\"value\":false},\"responsive_web_birdwatch_contribution_enabled\":{\"value\":false},\"responsive_web_birdwatch_hcomp_user\":{\"value\":false},\"responsive_web_birdwatch_history_enabled\":{\"value\":false},\"responsive_web_birdwatch_note_awards_enabled\":{\"value\":false},\"responsive_web_birdwatch_note_writing_enabled\":{\"value\":false},\"responsive_web_birdwatch_pivots_enabled\":{\"value\":false},\"responsive_web_birdwatch_profile_awards_enabled\":{\"value\":false},\"responsive_web_birdwatch_rating_crowd_enabled\":{\"value\":false},\"responsive_web_birdwatch_rating_mini_survey_enabled\":{\"value\":false},\"responsive_web_birdwatch_rating_participant_enabled\":{\"value\":false},\"responsive_web_birdwatch_ratings_m2_tags_enabled\":{\"value\":true},\"responsive_web_birdwatch_ratings_v2_enabled\":{\"value\":true},\"responsive_web_birdwatch_site_enabled\":{\"value\":true},\"responsive_web_birdwatch_traffic_lights_enabled\":{\"value\":true},\"responsive_web_branch_cpid_enabled\":{\"value\":false},\"responsive_web_branch_sdk_enabled\":{\"value\":true},\"responsive_web_card_preload_mode\":{\"value\":false},\"responsive_web_carousel_v2_cards_enabled\":{\"value\":false},\"responsive_web_carousel_v2_media_detail_enabled\":{\"value\":false},\"responsive_web_category_label_viewing_enabled\":{\"value\":true},\"responsive_web_cleanup_macaw_swift_indexed_db\":{\"value\":true},\"responsive_web_communities_slices_enabled\":{\"value\":true},\"responsive_web_communities_with_relay\":{\"value\":true},\"responsive_web_composer_configurable_video_player_enabled\":{\"value\":false},\"responsive_web_consumes_horizon_web_tweet_in_timelines\":{\"value\":false},\"responsive_web_continue_as_always_enabled\":{\"value\":false},\"responsive_web_continue_as_param_enabled\":{\"value\":true},\"responsive_web_cookie_compliance_1st_party_killswitch_list\":{\"value\":[]},\"responsive_web_cookie_compliance_banner_enabled\":{\"value\":false},\"responsive_web_cookie_compliance_gingersnap_enabled\":{\"value\":false},\"responsive_web_cookie_consent_signal_enabled\":{\"value\":false},\"responsive_web_cross_login_m2_enabled\":{\"value\":false},\"responsive_web_csrf_clientside_enabled\":{\"value\":true},\"responsive_web_dcm_2_enabled\":{\"value\":true},\"responsive_web_deamplification_replies_dropdown_selector_enabled\":{\"value\":false},\"responsive_web_deamplification_transparent_cursors_enabled\":{\"value\":false},\"responsive_web_delegate_enabled\":{\"value\":false},\"responsive_web_disconnect_third_party_sso_enabled\":{\"value\":true},\"responsive_web_dm_new_scroller_enabled\":{\"value\":false},\"responsive_web_dockable_autoplay_policy_enabled\":{\"value\":true},\"responsive_web_edit_professional_profile_enabled\":{\"value\":true},\"responsive_web_element_size_impression_scribe_enabled\":{\"value\":true},\"responsive_web_eu_countries\":{\"value\":[\"at\",\"be\",\"bg\",\"ch\",\"cy\",\"cz\",\"de\",\"dk\",\"ee\",\"es\",\"fi\",\"fr\",\"gb\",\"gr\",\"hr\",\"hu\",\"ie\",\"is\",\"it\",\"li\",\"lt\",\"lu\",\"lv\",\"mt\",\"nl\",\"no\",\"pl\",\"pt\",\"ro\",\"se\",\"si\",\"sk\"]},\"responsive_web_extension_compatibility_hide\":{\"value\":false},\"responsive_web_extension_compatibility_impression_guard\":{\"value\":true},\"responsive_web_extension_compatibility_override_param\":{\"value\":false},\"responsive_web_extension_compatibility_scribe\":{\"value\":true},\"responsive_web_extension_compatibility_size_threshold\":{\"value\":50},\"responsive_web_fake_root_twitter_domain_for_testing\":{\"value\":false},\"responsive_web_feature_gating_enabled\":{\"value\":true},\"responsive_web_fetch_hashflags_on_boot\":{\"value\":false},\"responsive_web_framerate_tracking_home_enabled\":{\"value\":false},\"responsive_web_gaggle_site_enabled\":{\"value\":false},\"responsive_web_google_one_tap_everywhere_enabled\":{\"value\":false},\"responsive_web_graphql_bookmarks\":{\"value\":true},\"responsive_web_graphql_conversations_enabled\":{\"value\":true},\"responsive_web_graphql_dark_reads_probability\":{\"value\":0},\"responsive_web_graphql_feedback\":{\"value\":true},\"responsive_web_graphql_home_enabled\":{\"value\":false},\"responsive_web_graphql_home_latest_enabled\":{\"value\":false},\"responsive_web_graphql_likes_timeline\":{\"value\":true},\"responsive_web_graphql_media_timeline\":{\"value\":true},\"responsive_web_graphql_mutation_bookmarks\":{\"value\":true},\"responsive_web_graphql_topic_timeline_enabled\":{\"value\":true},\"responsive_web_hashflags_api_new\":{\"value\":true},\"responsive_web_hashtag_highlight_is_enabled\":{\"value\":false},\"responsive_web_hashtag_highlight_show_avatar\":{\"value\":false},\"responsive_web_hashtag_highlight_use_small_font\":{\"value\":false},\"responsive_web_highlight_details_experiment_bucket\":{\"value\":\"control\"},\"responsive_web_hoisting_anchor_invalidation_enabled\":{\"value\":true},\"responsive_web_home_pinned_timelines_latest_enabled\":{\"value\":false},\"responsive_web_home_pinned_timelines_lists_enabled\":{\"value\":false},\"responsive_web_htl_empty_state_redesign_variant\":{\"value\":\"control\"},\"responsive_web_inline_login_box_enabled\":{\"value\":\"none\"},\"responsive_web_install_banner_show_immediate\":{\"value\":false},\"responsive_web_instream_video_redesign_enabled\":{\"value\":true},\"responsive_web_instream_video_store_keyed\":{\"value\":true},\"responsive_web_left_nav_refresh_connect_enabled\":{\"value\":false},\"responsive_web_left_nav_refresh_topics_enabled\":{\"value\":false},\"responsive_web_linger_refactor_enabled\":{\"value\":false},\"responsive_web_live_commerce_enabled\":{\"value\":false},\"responsive_web_live_video_parity_periscope_auth_enabled\":{\"value\":false},\"responsive_web_logged_out_gating_aggressive_segments\":{\"value\":[]},\"responsive_web_logged_out_gating_less_aggressive_segments\":{\"value\":[]},\"responsive_web_logged_out_gating_non_impressing_member_segments\":{\"value\":[]},\"responsive_web_login_input_type_email_enabled\":{\"value\":false},\"responsive_web_login_signup_sheet_app_install_cta_enabled\":{\"value\":true},\"responsive_web_media_upload_limit_2g\":{\"value\":250},\"responsive_web_media_upload_limit_3g\":{\"value\":1500},\"responsive_web_media_upload_limit_slow_2g\":{\"value\":150},\"responsive_web_media_upload_md5_hashing_enabled\":{\"value\":false},\"responsive_web_media_upload_metrics_enabled\":{\"value\":false},\"responsive_web_media_upload_target_jpg_pixels_per_byte\":{\"value\":6},\"responsive_web_menu_section_divider_enabled\":{\"value\":false},\"responsive_web_misinfo_label_revamp_tweaks_enabled\":{\"value\":false},\"responsive_web_moment_maker_annotations_enabled\":{\"value\":false},\"responsive_web_moment_maker_enabled\":{\"value\":true},\"responsive_web_moment_maker_promoted_tweets_enabled\":{\"value\":false},\"responsive_web_multiple_account_limit\":{\"value\":5},\"responsive_web_new_client_events_communities_enabled\":{\"value\":true},\"responsive_web_new_client_events_enabled\":{\"value\":false},\"responsive_web_new_copy_security_key_2fa_enabled\":{\"value\":true},\"responsive_web_newsletters_callout_enabled\":{\"value\":true},\"responsive_web_newsletters_menu_enabled\":{\"value\":true},\"responsive_web_newsletters_profile_subscribe_enabled\":{\"value\":true},\"responsive_web_newsletters_subscribe_double_opt_in_removal_enabled\":{\"value\":true},\"responsive_web_nft_avatar\":{\"value\":true},\"responsive_web_nft_avatar_help_link\":{\"value\":\"https://help.twitter.com/en/using-twitter/twitter-blue-labs#nft\"},\"responsive_web_notifications_empty_state_redesign_variant\":{\"value\":\"control\"},\"responsive_web_ntab_verified_mentions_vit_internal_dogfood\":{\"value\":false},\"responsive_web_oauth2_consent_flow_enabled\":{\"value\":true},\"responsive_web_ocf_reportflow_profiles_enabled\":{\"value\":false},\"responsive_web_ocf_reportflow_tweets_enabled\":{\"value\":false},\"responsive_web_ocf_sms_autoverify_darkwrite\":{\"value\":false},\"responsive_web_ocf_sms_autoverify_enabled\":{\"value\":false},\"responsive_web_ocf_web_to_app_flow_enabled\":{\"value\":true},\"responsive_web_offscreen_video_scroller_removal_enabled\":{\"value\":true},\"responsive_web_open_app_appbar_button_enabled\":{\"value\":true},\"responsive_web_open_in_app_prompt_enabled\":{\"value\":false},\"responsive_web_passwordless_sso_enabled\":{\"value\":false},\"responsive_web_placeholder_siwg_button_enabled\":{\"value\":false},\"responsive_web_prerolls_fullscreen_disabled_on_ios\":{\"value\":false},\"responsive_web_professional_journeys_holdback_enabled\":{\"value\":false},\"responsive_web_promoted_badge_below_header\":{\"value\":false},\"responsive_web_promoted_badge_use_circle_icon\":{\"value\":false},\"responsive_web_promoted_tweet_param_append_enabled\":{\"value\":true},\"responsive_web_promoted_tweet_url_rewrite_enabled\":{\"value\":true},\"responsive_web_qp_intro_experiment_enabled\":{\"value\":false},\"responsive_web_qp_objective_picker_enabled\":{\"value\":true},\"responsive_web_qp_payment_select_enabled\":{\"value\":false},\"responsive_web_qp_welcome_coupon_enabled\":{\"value\":false},\"responsive_web_ranked_typeahead\":{\"value\":\"t2\"},\"responsive_web_reactions_api_test\":{\"value\":false},\"responsive_web_reactions_enabled\":{\"value\":false},\"responsive_web_reactions_fruit_basket_threshold\":{\"value\":20},\"responsive_web_reactions_legacy_heart\":{\"value\":true},\"responsive_web_reactions_nux_banner\":{\"value\":false},\"responsive_web_reader_extended_menu\":{\"value\":false},\"responsive_web_recent_searches_events_enabled\":{\"value\":true},\"responsive_web_recent_searches_topics_enabled\":{\"value\":true},\"responsive_web_recent_searches_users_enabled\":{\"value\":true},\"responsive_web_remove_legacy_card_converters_enabled\":{\"value\":false},\"responsive_web_reply_nudge_copy_version\":{\"value\":0},\"responsive_web_reply_nudge_enabled\":{\"value\":false},\"responsive_web_reply_nudge_supported_languages\":{\"value\":[\"en\"]},\"responsive_web_reply_nudge_testing_keyword\":{\"value\":false},\"responsive_web_report_page_not_found\":{\"value\":false},\"responsive_web_scroller_autopoll_enabled\":{\"value\":false},\"responsive_web_scroller_top_positioning_enabled\":{\"value\":false},\"responsive_web_search_home_page_design_variation\":{\"value\":\"\"},\"responsive_web_send_cookies_metadata_enabled\":{\"value\":true},\"responsive_web_settings_revamp_enabled\":{\"value\":false},\"responsive_web_settings_timeline_polling_enabled\":{\"value\":false},\"responsive_web_settings_timeline_polling_interval_ms\":{\"value\":0},\"responsive_web_settings_timeline_refresh_background_interval\":{\"value\":0},\"responsive_web_should_use_rweb_player_card_iframe_endpoint\":{\"value\":true},\"responsive_web_sidebar_ttf_enabled\":{\"value\":false},\"responsive_web_sso_in_sli_enter_password_updates_enabled\":{\"value\":true},\"responsive_web_sso_in_sli_show_prominent_login_button\":{\"value\":true},\"responsive_web_third_party_sso_buttons_enabled\":{\"value\":true},\"responsive_web_timeline_refetching_on_revisit_enabled\":{\"value\":false},\"responsive_web_trends_setting_new_endpoints\":{\"value\":true},\"responsive_web_trigger_test_backoff_on_bookmark\":{\"value\":false},\"responsive_web_twitter_article_compose_enabled\":{\"value\":false},\"responsive_web_twitter_article_view_enabled\":{\"value\":false},\"responsive_web_uc_gql_enabled\":{\"value\":false},\"responsive_web_unsupported_entry_tombstone\":{\"value\":false},\"responsive_web_use_app_prompt_copy_variant\":{\"value\":\"\"},\"responsive_web_use_app_prompt_enabled\":{\"value\":false},\"responsive_web_use_badge_counts_for_ntab\":{\"value\":false},\"responsive_web_video_pcomplete_enabled\":{\"value\":true},\"responsive_web_video_picker\":{\"value\":false},\"responsive_web_video_promoted_logging_enabled\":{\"value\":false},\"responsive_web_video_trimmer_enabled\":{\"value\":false},\"responsive_web_vod_muted_captions_enabled\":{\"value\":true},\"responsive_web_vs_config_resize_observer_enabled\":{\"value\":true},\"responsive_web_zipkin_api_requests_enabled\":{\"value\":false},\"responsive_web_zipkin_api_requests_paths_allowlist\":{\"value\":[\"/2/timeline/home.json\"]},\"rito_safety_mode_blocked_profile_enabled\":{\"value\":true},\"rito_safety_mode_features_enabled\":{\"value\":false},\"rito_safety_mode_modal_prompt_enabled\":{\"value\":false},\"rito_safety_mode_settings_enabled\":{\"value\":false},\"rweb_reply_downvote_before_like\":{\"value\":false},\"rweb_reply_downvote_enabled\":{\"value\":false},\"rweb_reply_downvote_inline_days\":{\"value\":1},\"rweb_reply_downvote_inline_education\":{\"value\":60},\"rweb_reply_downvote_inline_survey\":{\"value\":5},\"rweb_reply_downvote_nux_inline_days\":{\"value\":7},\"rweb_video_tagging_enabled\":{\"value\":false},\"scribe_api_error_sample_size\":{\"value\":0},\"scribe_api_sample_size\":{\"value\":100},\"scribe_cdn_host_list\":{\"value\":[\"si0.twimg.com\",\"si1.twimg.com\",\"si2.twimg.com\",\"si3.twimg.com\",\"a0.twimg.com\",\"a1.twimg.com\",\"a2.twimg.com\",\"a3.twimg.com\",\"abs.twimg.com\",\"amp.twimg.com\",\"o.twimg.com\",\"pbs.twimg.com\",\"pbs-eb.twimg.com\",\"pbs-ec.twimg.com\",\"pbs-v6.twimg.com\",\"pbs-h1.twimg.com\",\"pbs-h2.twimg.com\",\"video.twimg.com\",\"platform.twitter.com\",\"cdn.api.twitter.com\",\"ton.twimg.com\",\"v.cdn.vine.co\",\"mtc.cdn.vine.co\",\"edge.vncdn.co\",\"mid.vncdn.co\"]},\"scribe_cdn_sample_size\":{\"value\":50},\"scribe_web_nav_sample_size\":{\"value\":100},\"sensitive_tweet_warnings_enabled\":{\"value\":true},\"settings_revamp_search_bar_enabled\":{\"value\":false},\"stateful_login_enabled\":{\"value\":true},\"subscriptions_blue_premium_labeling_enabled\":{\"value\":true},\"subscriptions_enabled\":{\"value\":true},\"subscriptions_feature_1002\":{\"value\":true},\"subscriptions_feature_1003\":{\"value\":true},\"subscriptions_feature_1005\":{\"value\":true},\"subscriptions_feature_1006\":{\"value\":true},\"subscriptions_feature_1007\":{\"value\":true},\"subscriptions_feature_1009\":{\"value\":true},\"subscriptions_feature_labs_1001\":{\"value\":true},\"subscriptions_long_video_upload\":{\"value\":true},\"subscriptions_management_enabled\":{\"value\":true},\"subscriptions_settings_item_enabled\":{\"value\":false},\"subscriptions_sign_up_enabled\":{\"value\":false},\"subscriptions_top_articles_on_ios_enabled\":{\"value\":true},\"subscriptions_twitter_blue_logo_enabled\":{\"value\":true},\"subscriptions_undo_quote_tweets_enabled\":{\"value\":false},\"super_follow_android_web_subscription_enabled\":{\"value\":false},\"super_follow_exclusive_tweet_creation_api_enabled\":{\"value\":true},\"super_follow_tweet_api_enabled\":{\"value\":true},\"super_follow_user_api_enabled\":{\"value\":true},\"suspended_profile_tombstone_enabled\":{\"value\":true},\"topic_landing_page_clearer_controls_enabled\":{\"value\":true},\"topic_landing_page_cta_text\":{\"value\":\"control\"},\"topic_landing_page_share_enabled\":{\"value\":true},\"topics_context_controls_followed_variation\":{\"value\":\"see_more\"},\"topics_context_controls_implicit_context_x_enabled\":{\"value\":true},\"topics_context_controls_implicit_variation\":{\"value\":\"see_more\"},\"topics_context_controls_inline_prompt_enabled\":{\"value\":false},\"topics_discovery_page_enabled\":{\"value\":false},\"topics_discovery_topic_picker_page_enabled\":{\"value\":true},\"traffic_rewrite_map\":{\"value\":[]},\"trusted_friends_consumption_enabled\":{\"value\":false},\"trusted_friends_tweet_creation_enabled\":{\"value\":false},\"tweet_limited_actions_config_community_tweet_hidden\":{\"value\":[\"reply\",\"retweet\",\"quote_tweet\",\"like\",\"react\",\"send_via_dm\",\"add_to_bookmarks\",\"add_to_moment\",\"pin_to_profile\",\"view_tweet_activity\",\"share_tweet_via\",\"follow\",\"lists_add_remove\",\"mute_conversation\",\"embed\",\"view_hidden_replies\",\"hide_community_tweet\",\"copy_link\",\"vote_on_poll\"]},\"tweet_limited_actions_config_community_tweet_member\":{\"value\":[\"retweet\",\"embed\",\"pin_to_profile\"]},\"tweet_limited_actions_config_community_tweet_member_removed\":{\"value\":[\"reply\",\"retweet\",\"quote_tweet\",\"like\",\"react\",\"send_via_dm\",\"add_to_bookmarks\",\"add_to_moment\",\"pin_to_profile\",\"view_tweet_activity\",\"share_tweet_via\",\"follow\",\"lists_add_remove\",\"mute_conversation\",\"embed\",\"view_hidden_replies\",\"hide_community_tweet\",\"copy_link\",\"vote_on_poll\",\"remove_from_community\"]},\"tweet_limited_actions_config_community_tweet_non_member\":{\"value\":[\"reply\",\"retweet\",\"like\",\"react\",\"embed\",\"share_tweet_via\",\"vote_on_poll\",\"reply_down_vote\",\"pin_to_profile\"]},\"tweet_limited_actions_config_enabled\":{\"value\":true},\"tweet_limited_actions_config_non_compliant\":{\"value\":[\"reply\",\"retweet\",\"like\",\"react\",\"send_via_dm\",\"add_to_bookmarks\",\"add_to_moment\",\"pin_to_profile\",\"view_tweet_activity\",\"share_tweet_via\",\"copy_link\"]},\"tweet_with_visibility_results_prefer_gql_soft_interventions_enabled\":{\"value\":false},\"tweet_with_visibility_results_prefer_gql_tombstones_enabled\":{\"value\":false},\"unified_cards_multi_destination_carousels_convert_to_single_card\":{\"value\":false},\"user_display_name_max_limit\":{\"value\":50},\"voice_consumption_enabled\":{\"value\":true},\"voice_rooms_card_version\":{\"value\":1},\"voice_rooms_discovery_page_enabled\":{\"value\":false},\"voice_rooms_end_screen_participants\":{\"value\":true},\"voice_rooms_expanded_dock\":{\"value\":true},\"voice_rooms_expanded_dock_reactions\":{\"value\":true},\"voice_rooms_reactions_enabled\":{\"value\":false},\"voice_rooms_recent_search_audiospace_ring_enabled\":{\"value\":true},\"voice_rooms_replay_consumption\":{\"value\":true},\"voice_rooms_search_results_page_audiospace_ring_enabled\":{\"value\":false},\"voice_rooms_share_dock_enabled\":{\"value\":true},\"voice_rooms_sharing_listening_data_with_followers_setting_enabled\":{\"value\":true},\"voice_rooms_speaking_enabled\":{\"value\":false},\"voice_rooms_typeahead_audiospace_ring_enabled\":{\"value\":true},\"web_video_bitrate_persistence_enabled\":{\"value\":false},\"web_video_caption_repositioning_enabled\":{\"value\":false},\"web_video_hls_android_mse_enabled\":{\"value\":true},\"web_video_hls_mp4_threshold_sec\":{\"value\":0},\"web_video_hlsjs_version\":{\"value\":\"\"},\"web_video_playback_rate_enabled\":{\"value\":\"\"},\"web_video_player_size_cap_disabled\":{\"value\":false},\"web_video_prefetch_playlist_autoplay_disabled\":{\"value\":false},\"web_video_smart_buffering_enabled\":{\"value\":false}},\"featureSetToken\":\"dd929f3c3522241eee47fdd180f55294c15143ba\",\"isLoaded\":true,\"isLoading\":false,\"useEventAllowlist\":true,\"user\":{\"config\":{\"account_2fa_standalone_security_key_enabled\":{\"value\":true},\"account_country_setting_countries_whitelist\":{\"value\":[\"ad\",\"ae\",\"af\",\"ag\",\"ai\",\"al\",\"am\",\"ao\",\"ar\",\"as\",\"at\",\"au\",\"aw\",\"ax\",\"az\",\"ba\",\"bb\",\"bd\",\"be\",\"bf\",\"bg\",\"bh\",\"bi\",\"bj\",\"bl\",\"bm\",\"bn\",\"bo\",\"bq\",\"br\",\"bs\",\"bt\",\"bv\",\"bw\",\"by\",\"bz\",\"ca\",\"cc\",\"cd\",\"cf\",\"cg\",\"ch\",\"ci\",\"ck\",\"cl\",\"cm\",\"co\",\"cr\",\"cu\",\"cv\",\"cw\",\"cx\",\"cy\",\"cz\",\"de\",\"dj\",\"dk\",\"dm\",\"do\",\"dz\",\"ec\",\"ee\",\"eg\",\"er\",\"es\",\"et\",\"fi\",\"fj\",\"fk\",\"fm\",\"fo\",\"fr\",\"ga\",\"gb\",\"gd\",\"ge\",\"gf\",\"gg\",\"gh\",\"gi\",\"gl\",\"gm\",\"gn\",\"gp\",\"gq\",\"gr\",\"gs\",\"gt\",\"gu\",\"gw\",\"gy\",\"hk\",\"hn\",\"hr\",\"ht\",\"hu\",\"id\",\"ie\",\"il\",\"im\",\"in\",\"io\",\"iq\",\"ir\",\"is\",\"it\",\"je\",\"jm\",\"jo\",\"jp\",\"ke\",\"kg\",\"kh\",\"ki\",\"km\",\"kn\",\"kr\",\"kw\",\"ky\",\"kz\",\"la\",\"lb\",\"lc\",\"li\",\"lk\",\"lr\",\"ls\",\"lt\",\"lu\",\"lv\",\"ly\",\"ma\",\"mc\",\"md\",\"me\",\"mf\",\"mg\",\"mh\",\"mk\",\"ml\",\"mn\",\"mo\",\"mp\",\"mq\",\"mr\",\"ms\",\"mt\",\"mu\",\"mv\",\"mw\",\"mx\",\"my\",\"mz\",\"na\",\"nc\",\"ne\",\"nf\",\"ng\",\"ni\",\"nl\",\"no\",\"np\",\"nr\",\"nu\",\"nz\",\"om\",\"pa\",\"pe\",\"pf\",\"pg\",\"ph\",\"pk\",\"pl\",\"pm\",\"pn\",\"pr\",\"ps\",\"pt\",\"pw\",\"py\",\"qa\",\"re\",\"ro\",\"rs\",\"ru\",\"rw\",\"sa\",\"sb\",\"sc\",\"se\",\"sg\",\"sh\",\"si\",\"sk\",\"sl\",\"sm\",\"sn\",\"so\",\"sr\",\"st\",\"sv\",\"sx\",\"sz\",\"tc\",\"td\",\"tf\",\"tg\",\"th\",\"tj\",\"tk\",\"tl\",\"tm\",\"tn\",\"to\",\"tr\",\"tt\",\"tv\",\"tw\",\"tz\",\"ua\",\"ug\",\"us\",\"uy\",\"uz\",\"va\",\"vc\",\"ve\",\"vi\",\"vn\",\"vu\",\"wf\",\"ws\",\"xk\",\"ye\",\"yt\",\"za\",\"zm\",\"zw\"]},\"account_session_console_from_graphql_enabled\":{\"value\":true},\"account_taxonomy_automated_label_enabled\":{\"value\":false},\"account_taxonomy_automation_opt_in_enabled\":{\"value\":false},\"ads_spacing_client_fallback_minimum_spacing\":{\"value\":3},\"author_moderated_replies_urt_container_enabled\":{\"value\":false},\"business_profiles_rweb_onboarding_enabled\":{\"value\":false},\"c9s_community_creation_enabled\":{\"value\":true},\"c9s_community_creation_setup_checklist_enabled\":{\"value\":false},\"c9s_edit_community_banner_enabled\":{\"value\":true},\"c9s_edit_community_description_enabled\":{\"value\":true},\"c9s_edit_community_membership_settings_enabled\":{\"value\":true},\"c9s_edit_community_name_enabled\":{\"value\":true},\"c9s_edit_community_theme_enabled\":{\"value\":true},\"c9s_edit_moderators_enabled\":{\"value\":false},\"c9s_enabled\":{\"value\":true},\"c9s_max_community_description_length\":{\"value\":160},\"c9s_max_community_name_length\":{\"value\":30},\"c9s_max_rule_count\":{\"value\":10},\"c9s_max_rule_description_length\":{\"value\":160},\"c9s_max_rule_name_length\":{\"value\":60},\"c9s_moderation_enabled\":{\"value\":true},\"c9s_participation_enabled\":{\"value\":true},\"c9s_remove_member_enabled\":{\"value\":true},\"c9s_report_community_enabled\":{\"value\":false},\"c9s_request_to_join_enabled\":{\"value\":false},\"c9s_rule_creation_enabled\":{\"value\":true},\"c9s_rule_editing_enabled\":{\"value\":true},\"c9s_rule_management_enabled\":{\"value\":true},\"c9s_rule_removal_enabled\":{\"value\":true},\"c9s_rule_reordering_enabled\":{\"value\":true},\"c9s_settings_enabled\":{\"value\":true},\"c9s_share_community_enabled\":{\"value\":false},\"c9s_tab_visibility\":{\"value\":\"members_only\"},\"c9s_timelines_ranking_enabled\":{\"value\":false},\"c9s_ui_colors_enabled_rweb\":{\"value\":true},\"content_language_setting_enabled\":{\"value\":true},\"conversation_controls_change_enabled\":{\"value\":true},\"conversation_controls_change_tooltip_enabled\":{\"value\":true},\"conversation_controls_limited_replies_consumption_configuration\":{\"value\":\"no_reply\"},\"conversation_controls_limited_replies_creation_enabled\":{\"value\":true},\"conversation_controls_persistence_enabled\":{\"value\":true},\"conversational_safety_heads_up_treatment_A_enabled\":{\"value\":\"\"},\"creator_monetization_super_follows_enabled\":{\"value\":false},\"direct_messages_incremental_holdback_2022h1\":{\"value\":true},\"dm_conversation_labels_max_pinned_count\":{\"value\":6},\"dm_conversation_labels_pinned_education_enabled\":{\"value\":true},\"dm_conversation_labels_pinned_enabled\":{\"value\":false},\"dm_conversations_nsfw_media_filter_enabled\":{\"value\":false},\"dm_education_flags_prompt\":{\"value\":false},\"dm_evolution_conversation_timeline_enabled\":{\"value\":false},\"dm_evolution_enabled\":{\"value\":false},\"dm_evolution_inbox_initial_state_enabled\":{\"value\":false},\"dm_inbox_search_groups_bucket_size\":{\"value\":5},\"dm_inbox_search_max_recent_searches_stored\":{\"value\":5},\"dm_inbox_search_message_results_enabled\":{\"value\":false},\"dm_inbox_search_messages_bucket_size\":{\"value\":5},\"dm_inbox_search_modular_results_enabled\":{\"value\":false},\"dm_inbox_search_people_bucket_size\":{\"value\":5},\"dm_reactions_config_active_reactions\":{\"value\":[\"😂:funny\",\"😲:surprised\",\"😢:sad\",\"❤️:like\",\"🔥:excited\",\"👍:agree\",\"👎:disagree\"]},\"dm_reactions_config_inactive_reactions\":{\"value\":[\"😠:angry\",\"😷:mask\"]},\"dm_share_sheet_send_individually_enabled\":{\"value\":false},\"dm_share_sheet_send_individually_max_count\":{\"value\":20},\"dm_vdl_chat_p0_enabled\":{\"value\":false},\"dm_vdl_enabled\":{\"value\":false},\"dm_vdl_inbox_p0_enabled\":{\"value\":false},\"dm_voice_rendering_enabled\":{\"value\":true},\"dont_mention_me_view_api_enabled\":{\"value\":false},\"employee_role\":{\"value\":false},\"enable_label_appealing_misinfo_enabled\":{\"value\":false},\"enable_label_appealing_sensitive_content_enabled\":{\"value\":false},\"explore_relaunch_enabled\":{\"value\":false},\"explore_settings_trends_policy_url\":{\"value\":\"\"},\"followers_management_remove_follower_from_followers_list\":{\"value\":true},\"followers_management_remove_follower_from_profile_screen\":{\"value\":true},\"graphql_mutation_destroy_mode\":{\"value\":\"graphql_only\"},\"graphql_mutation_retweet_mode\":{\"value\":\"graphql_only\"},\"graphql_mutation_unretweet_mode\":{\"value\":\"graphql_only\"},\"graphql_mutation_update_mode\":{\"value\":\"graphql_only\"},\"graphql_timeline_v2_query_threaded_conversation_with_injections\":{\"value\":false},\"graphql_timeline_v2_user_favorites_by_time_timeline\":{\"value\":true},\"graphql_timeline_v2_user_media_timeline\":{\"value\":true},\"graphql_timeline_v2_user_profile_timeline\":{\"value\":false},\"graphql_timeline_v2_user_profile_with_replies_timeline\":{\"value\":false},\"guest_broadcasting_timeline_decorations_enabled\":{\"value\":false},\"hashflags_animation_like_button_enabled\":{\"value\":true},\"home_timeline_latest_timeline_switch_enabled\":{\"value\":true},\"home_timeline_like_reactivity_enabled\":{\"value\":false},\"home_timeline_like_reactivity_fatigue\":{\"value\":10},\"home_timeline_spheres_detail_page_muting_enabled\":{\"value\":true},\"home_timeline_spheres_max_user_owned_or_subscribed_lists_count\":{\"value\":5},\"home_timeline_spheres_ranking_mode_control_enabled\":{\"value\":true},\"home_timeline_topics_navigator_enabled\":{\"value\":false},\"identity_verification_debadging_notification_enabled\":{\"value\":true},\"identity_verification_educational_prompt_enabled\":{\"value\":true},\"identity_verification_intake_enabled\":{\"value\":false},\"identity_verification_notable_demo_survey\":{\"value\":false},\"live_event_docking_enabled\":{\"value\":true},\"live_event_multi_video_auto_advance_dock_enabled\":{\"value\":true},\"live_event_multi_video_auto_advance_enabled\":{\"value\":true},\"live_event_multi_video_auto_advance_fullscreen_enabled\":{\"value\":false},\"live_event_multi_video_auto_advance_transition_duration_seconds\":{\"value\":5},\"live_event_multi_video_enabled\":{\"value\":true},\"live_event_timeline_default_refresh_rate_interval_seconds\":{\"value\":30},\"live_event_timeline_minimum_refresh_rate_interval_seconds\":{\"value\":10},\"live_event_timeline_server_controlled_refresh_rate_enabled\":{\"value\":true},\"livepipeline_client_enabled\":{\"value\":true},\"livepipeline_dm_features_enabled\":{\"value\":true},\"livepipeline_tweetengagement_enabled\":{\"value\":true},\"media_edge_to_edge_content_enabled\":{\"value\":false},\"moment_annotations_enabled\":{\"value\":true},\"network_layer_503_backoff_mode\":{\"value\":\"host\"},\"ocf_2fa_enrollment_enabled\":{\"value\":true},\"profile_foundations_about_tab_enabled\":{\"value\":false},\"report_center_mvp_r1_enabled\":{\"value\":false},\"responsive_web_3rd_party_category_branch\":{\"value\":3},\"responsive_web_3rd_party_category_double_click\":{\"value\":3},\"responsive_web_3rd_party_category_external_referer\":{\"value\":3},\"responsive_web_3rd_party_category_ga\":{\"value\":3},\"responsive_web_3rd_party_category_google_platform\":{\"value\":2},\"responsive_web_3rd_party_category_google_recaptcha\":{\"value\":2},\"responsive_web_3rd_party_category_player_card\":{\"value\":3},\"responsive_web_3rd_party_category_sentry\":{\"value\":2},\"responsive_web_3rd_party_category_sign_in_with_apple\":{\"value\":2},\"responsive_web_account_search_readability_enabled\":{\"value\":true},\"responsive_web_add_impression_id_to_mute_engagement_enabled\":{\"value\":true},\"responsive_web_alt_svc\":{\"value\":false},\"responsive_web_alt_text_badge_enabled\":{\"value\":false},\"responsive_web_alt_text_nudges_enabled\":{\"value\":false},\"responsive_web_alt_text_nudges_settings_enabled\":{\"value\":false},\"responsive_web_api_transition_enabled\":{\"value\":true},\"responsive_web_app_bar_scroll_enabled\":{\"value\":true},\"responsive_web_article_nudge_enabled\":{\"value\":true},\"responsive_web_auto_logout_multiaccount_enabled\":{\"value\":true},\"responsive_web_auto_logout_restrictedauthtoken_enabled\":{\"value\":true},\"responsive_web_auto_logout_twid_enabled\":{\"value\":true},\"responsive_web_birdwatch_aliases_enabled\":{\"value\":true},\"responsive_web_birdwatch_appeals_enabled\":{\"value\":false},\"responsive_web_birdwatch_consumption_enabled\":{\"value\":false},\"responsive_web_birdwatch_contribution_enabled\":{\"value\":false},\"responsive_web_birdwatch_hcomp_user\":{\"value\":false},\"responsive_web_birdwatch_history_enabled\":{\"value\":false},\"responsive_web_birdwatch_note_awards_enabled\":{\"value\":false},\"responsive_web_birdwatch_note_writing_enabled\":{\"value\":false},\"responsive_web_birdwatch_pivots_enabled\":{\"value\":false},\"responsive_web_birdwatch_profile_awards_enabled\":{\"value\":false},\"responsive_web_birdwatch_rating_crowd_enabled\":{\"value\":false},\"responsive_web_birdwatch_rating_mini_survey_enabled\":{\"value\":false},\"responsive_web_birdwatch_rating_participant_enabled\":{\"value\":false},\"responsive_web_birdwatch_ratings_m2_tags_enabled\":{\"value\":true},\"responsive_web_birdwatch_ratings_v2_enabled\":{\"value\":true},\"responsive_web_birdwatch_site_enabled\":{\"value\":true},\"responsive_web_birdwatch_traffic_lights_enabled\":{\"value\":true},\"responsive_web_branch_cpid_enabled\":{\"value\":false},\"responsive_web_branch_sdk_enabled\":{\"value\":true},\"responsive_web_card_preload_mode\":{\"value\":false},\"responsive_web_carousel_v2_cards_enabled\":{\"value\":false},\"responsive_web_carousel_v2_media_detail_enabled\":{\"value\":false},\"responsive_web_category_label_viewing_enabled\":{\"value\":true},\"responsive_web_cleanup_macaw_swift_indexed_db\":{\"value\":true},\"responsive_web_communities_slices_enabled\":{\"value\":true},\"responsive_web_communities_with_relay\":{\"value\":true},\"responsive_web_composer_configurable_video_player_enabled\":{\"value\":false},\"responsive_web_consumes_horizon_web_tweet_in_timelines\":{\"value\":false},\"responsive_web_continue_as_always_enabled\":{\"value\":false},\"responsive_web_continue_as_param_enabled\":{\"value\":true},\"responsive_web_cookie_compliance_1st_party_killswitch_list\":{\"value\":[]},\"responsive_web_cookie_compliance_banner_enabled\":{\"value\":false},\"responsive_web_cookie_compliance_gingersnap_enabled\":{\"value\":false},\"responsive_web_cookie_consent_signal_enabled\":{\"value\":false},\"responsive_web_cross_login_m2_enabled\":{\"value\":false},\"responsive_web_csrf_clientside_enabled\":{\"value\":true},\"responsive_web_dcm_2_enabled\":{\"value\":true},\"responsive_web_deamplification_replies_dropdown_selector_enabled\":{\"value\":false},\"responsive_web_deamplification_transparent_cursors_enabled\":{\"value\":false},\"responsive_web_delegate_enabled\":{\"value\":false},\"responsive_web_disconnect_third_party_sso_enabled\":{\"value\":true},\"responsive_web_dm_new_scroller_enabled\":{\"value\":false},\"responsive_web_dockable_autoplay_policy_enabled\":{\"value\":true},\"responsive_web_edit_professional_profile_enabled\":{\"value\":true},\"responsive_web_element_size_impression_scribe_enabled\":{\"value\":true},\"responsive_web_eu_countries\":{\"value\":[\"at\",\"be\",\"bg\",\"ch\",\"cy\",\"cz\",\"de\",\"dk\",\"ee\",\"es\",\"fi\",\"fr\",\"gb\",\"gr\",\"hr\",\"hu\",\"ie\",\"is\",\"it\",\"li\",\"lt\",\"lu\",\"lv\",\"mt\",\"nl\",\"no\",\"pl\",\"pt\",\"ro\",\"se\",\"si\",\"sk\"]},\"responsive_web_extension_compatibility_hide\":{\"value\":false},\"responsive_web_extension_compatibility_impression_guard\":{\"value\":true},\"responsive_web_extension_compatibility_override_param\":{\"value\":false},\"responsive_web_extension_compatibility_scribe\":{\"value\":true},\"responsive_web_extension_compatibility_size_threshold\":{\"value\":50},\"responsive_web_fake_root_twitter_domain_for_testing\":{\"value\":false},\"responsive_web_feature_gating_enabled\":{\"value\":true},\"responsive_web_fetch_hashflags_on_boot\":{\"value\":true},\"responsive_web_framerate_tracking_home_enabled\":{\"value\":false},\"responsive_web_gaggle_site_enabled\":{\"value\":false},\"responsive_web_google_one_tap_everywhere_enabled\":{\"value\":false},\"responsive_web_graphql_bookmarks\":{\"value\":true},\"responsive_web_graphql_conversations_enabled\":{\"value\":true},\"responsive_web_graphql_dark_reads_probability\":{\"value\":0},\"responsive_web_graphql_feedback\":{\"value\":true},\"responsive_web_graphql_home_enabled\":{\"value\":false},\"responsive_web_graphql_home_latest_enabled\":{\"value\":false},\"responsive_web_graphql_likes_timeline\":{\"value\":true},\"responsive_web_graphql_media_timeline\":{\"value\":true},\"responsive_web_graphql_mutation_bookmarks\":{\"value\":true},\"responsive_web_graphql_topic_timeline_enabled\":{\"value\":true},\"responsive_web_hashflags_api_new\":{\"value\":true},\"responsive_web_hashtag_highlight_is_enabled\":{\"value\":false},\"responsive_web_hashtag_highlight_show_avatar\":{\"value\":false},\"responsive_web_hashtag_highlight_use_small_font\":{\"value\":false},\"responsive_web_highlight_details_experiment_bucket\":{\"value\":\"control\"},\"responsive_web_hoisting_anchor_invalidation_enabled\":{\"value\":true},\"responsive_web_home_pinned_timelines_latest_enabled\":{\"value\":false},\"responsive_web_home_pinned_timelines_lists_enabled\":{\"value\":false},\"responsive_web_htl_empty_state_redesign_variant\":{\"value\":\"control\"},\"responsive_web_inline_login_box_enabled\":{\"value\":\"none\"},\"responsive_web_install_banner_show_immediate\":{\"value\":false},\"responsive_web_instream_video_redesign_enabled\":{\"value\":true},\"responsive_web_instream_video_store_keyed\":{\"value\":true},\"responsive_web_left_nav_refresh_connect_enabled\":{\"value\":false},\"responsive_web_left_nav_refresh_topics_enabled\":{\"value\":false},\"responsive_web_linger_refactor_enabled\":{\"value\":false},\"responsive_web_live_commerce_enabled\":{\"value\":false},\"responsive_web_live_video_parity_periscope_auth_enabled\":{\"value\":false},\"responsive_web_logged_out_gating_aggressive_segments\":{\"value\":[]},\"responsive_web_logged_out_gating_less_aggressive_segments\":{\"value\":[]},\"responsive_web_logged_out_gating_non_impressing_member_segments\":{\"value\":[]},\"responsive_web_login_input_type_email_enabled\":{\"value\":false},\"responsive_web_login_signup_sheet_app_install_cta_enabled\":{\"value\":false},\"responsive_web_media_upload_limit_2g\":{\"value\":250},\"responsive_web_media_upload_limit_3g\":{\"value\":1500},\"responsive_web_media_upload_limit_slow_2g\":{\"value\":150},\"responsive_web_media_upload_md5_hashing_enabled\":{\"value\":false},\"responsive_web_media_upload_metrics_enabled\":{\"value\":false},\"responsive_web_media_upload_target_jpg_pixels_per_byte\":{\"value\":6},\"responsive_web_menu_section_divider_enabled\":{\"value\":false},\"responsive_web_misinfo_label_revamp_tweaks_enabled\":{\"value\":false},\"responsive_web_moment_maker_annotations_enabled\":{\"value\":false},\"responsive_web_moment_maker_enabled\":{\"value\":true},\"responsive_web_moment_maker_promoted_tweets_enabled\":{\"value\":false},\"responsive_web_multiple_account_limit\":{\"value\":5},\"responsive_web_new_client_events_communities_enabled\":{\"value\":true},\"responsive_web_new_client_events_enabled\":{\"value\":false},\"responsive_web_new_copy_security_key_2fa_enabled\":{\"value\":true},\"responsive_web_newsletters_callout_enabled\":{\"value\":true},\"responsive_web_newsletters_menu_enabled\":{\"value\":true},\"responsive_web_newsletters_profile_subscribe_enabled\":{\"value\":true},\"responsive_web_newsletters_subscribe_double_opt_in_removal_enabled\":{\"value\":true},\"responsive_web_nft_avatar\":{\"value\":true},\"responsive_web_nft_avatar_help_link\":{\"value\":\"https://help.twitter.com/en/using-twitter/twitter-blue-labs#nft\"},\"responsive_web_notifications_empty_state_redesign_variant\":{\"value\":\"control\"},\"responsive_web_ntab_verified_mentions_vit_internal_dogfood\":{\"value\":false},\"responsive_web_oauth2_consent_flow_enabled\":{\"value\":true},\"responsive_web_ocf_reportflow_profiles_enabled\":{\"value\":false},\"responsive_web_ocf_reportflow_tweets_enabled\":{\"value\":false},\"responsive_web_ocf_sms_autoverify_darkwrite\":{\"value\":false},\"responsive_web_ocf_sms_autoverify_enabled\":{\"value\":false},\"responsive_web_ocf_web_to_app_flow_enabled\":{\"value\":true},\"responsive_web_offscreen_video_scroller_removal_enabled\":{\"value\":true},\"responsive_web_open_app_appbar_button_enabled\":{\"value\":true},\"responsive_web_open_in_app_prompt_enabled\":{\"value\":false},\"responsive_web_passwordless_sso_enabled\":{\"value\":false},\"responsive_web_placeholder_siwg_button_enabled\":{\"value\":false},\"responsive_web_prerolls_fullscreen_disabled_on_ios\":{\"value\":false},\"responsive_web_professional_journeys_holdback_enabled\":{\"value\":false},\"responsive_web_promoted_badge_below_header\":{\"value\":false},\"responsive_web_promoted_badge_use_circle_icon\":{\"value\":false},\"responsive_web_promoted_tweet_param_append_enabled\":{\"value\":true},\"responsive_web_promoted_tweet_url_rewrite_enabled\":{\"value\":true},\"responsive_web_qp_intro_experiment_enabled\":{\"value\":false},\"responsive_web_qp_objective_picker_enabled\":{\"value\":true},\"responsive_web_qp_payment_select_enabled\":{\"value\":false},\"responsive_web_qp_welcome_coupon_enabled\":{\"value\":false},\"responsive_web_ranked_typeahead\":{\"value\":\"t2\"},\"responsive_web_reactions_api_test\":{\"value\":false},\"responsive_web_reactions_enabled\":{\"value\":false},\"responsive_web_reactions_fruit_basket_threshold\":{\"value\":20},\"responsive_web_reactions_legacy_heart\":{\"value\":true},\"responsive_web_reactions_nux_banner\":{\"value\":false},\"responsive_web_reader_extended_menu\":{\"value\":false},\"responsive_web_recent_searches_events_enabled\":{\"value\":true},\"responsive_web_recent_searches_topics_enabled\":{\"value\":true},\"responsive_web_recent_searches_users_enabled\":{\"value\":true},\"responsive_web_remove_legacy_card_converters_enabled\":{\"value\":false},\"responsive_web_reply_nudge_copy_version\":{\"value\":0},\"responsive_web_reply_nudge_enabled\":{\"value\":true},\"responsive_web_reply_nudge_supported_languages\":{\"value\":[\"en\"]},\"responsive_web_reply_nudge_testing_keyword\":{\"value\":false},\"responsive_web_report_page_not_found\":{\"value\":false},\"responsive_web_scroller_autopoll_enabled\":{\"value\":false},\"responsive_web_scroller_top_positioning_enabled\":{\"value\":false},\"responsive_web_search_home_page_design_variation\":{\"value\":\"\"},\"responsive_web_send_cookies_metadata_enabled\":{\"value\":true},\"responsive_web_settings_revamp_enabled\":{\"value\":false},\"responsive_web_settings_timeline_polling_enabled\":{\"value\":false},\"responsive_web_settings_timeline_polling_interval_ms\":{\"value\":0},\"responsive_web_settings_timeline_refresh_background_interval\":{\"value\":0},\"responsive_web_should_use_rweb_player_card_iframe_endpoint\":{\"value\":true},\"responsive_web_sidebar_ttf_enabled\":{\"value\":false},\"responsive_web_sso_in_sli_enter_password_updates_enabled\":{\"value\":true},\"responsive_web_sso_in_sli_show_prominent_login_button\":{\"value\":true},\"responsive_web_third_party_sso_buttons_enabled\":{\"value\":true},\"responsive_web_timeline_refetching_on_revisit_enabled\":{\"value\":false},\"responsive_web_trends_setting_new_endpoints\":{\"value\":true},\"responsive_web_trigger_test_backoff_on_bookmark\":{\"value\":false},\"responsive_web_twitter_article_compose_enabled\":{\"value\":false},\"responsive_web_twitter_article_view_enabled\":{\"value\":false},\"responsive_web_uc_gql_enabled\":{\"value\":false},\"responsive_web_unsupported_entry_tombstone\":{\"value\":false},\"responsive_web_use_app_prompt_copy_variant\":{\"value\":\"prompt_better\"},\"responsive_web_use_app_prompt_enabled\":{\"value\":true},\"responsive_web_use_badge_counts_for_ntab\":{\"value\":false},\"responsive_web_video_pcomplete_enabled\":{\"value\":true},\"responsive_web_video_picker\":{\"value\":false},\"responsive_web_video_promoted_logging_enabled\":{\"value\":true},\"responsive_web_video_trimmer_enabled\":{\"value\":false},\"responsive_web_vod_muted_captions_enabled\":{\"value\":true},\"responsive_web_vs_config_resize_observer_enabled\":{\"value\":true},\"responsive_web_zipkin_api_requests_enabled\":{\"value\":false},\"responsive_web_zipkin_api_requests_paths_allowlist\":{\"value\":[\"/2/timeline/home.json\"]},\"rito_safety_mode_blocked_profile_enabled\":{\"value\":true},\"rito_safety_mode_features_enabled\":{\"value\":false},\"rito_safety_mode_modal_prompt_enabled\":{\"value\":false},\"rito_safety_mode_settings_enabled\":{\"value\":false},\"rweb_reply_downvote_before_like\":{\"value\":false},\"rweb_reply_downvote_enabled\":{\"value\":false},\"rweb_reply_downvote_inline_days\":{\"value\":1},\"rweb_reply_downvote_inline_education\":{\"value\":60},\"rweb_reply_downvote_inline_survey\":{\"value\":5},\"rweb_reply_downvote_nux_inline_days\":{\"value\":7},\"rweb_video_tagging_enabled\":{\"value\":false},\"scribe_api_error_sample_size\":{\"value\":0},\"scribe_api_sample_size\":{\"value\":100},\"scribe_cdn_host_list\":{\"value\":[\"si0.twimg.com\",\"si1.twimg.com\",\"si2.twimg.com\",\"si3.twimg.com\",\"a0.twimg.com\",\"a1.twimg.com\",\"a2.twimg.com\",\"a3.twimg.com\",\"abs.twimg.com\",\"amp.twimg.com\",\"o.twimg.com\",\"pbs.twimg.com\",\"pbs-eb.twimg.com\",\"pbs-ec.twimg.com\",\"pbs-v6.twimg.com\",\"pbs-h1.twimg.com\",\"pbs-h2.twimg.com\",\"video.twimg.com\",\"platform.twitter.com\",\"cdn.api.twitter.com\",\"ton.twimg.com\",\"v.cdn.vine.co\",\"mtc.cdn.vine.co\",\"edge.vncdn.co\",\"mid.vncdn.co\"]},\"scribe_cdn_sample_size\":{\"value\":50},\"scribe_web_nav_sample_size\":{\"value\":100},\"sensitive_tweet_warnings_enabled\":{\"value\":true},\"settings_revamp_search_bar_enabled\":{\"value\":false},\"stateful_login_enabled\":{\"value\":true},\"subscriptions_blue_premium_labeling_enabled\":{\"value\":true},\"subscriptions_enabled\":{\"value\":true},\"subscriptions_feature_1002\":{\"value\":true},\"subscriptions_feature_1003\":{\"value\":true},\"subscriptions_feature_1005\":{\"value\":true},\"subscriptions_feature_1006\":{\"value\":true},\"subscriptions_feature_1007\":{\"value\":true},\"subscriptions_feature_1009\":{\"value\":true},\"subscriptions_feature_labs_1001\":{\"value\":true},\"subscriptions_long_video_upload\":{\"value\":true},\"subscriptions_management_enabled\":{\"value\":true},\"subscriptions_settings_item_enabled\":{\"value\":false},\"subscriptions_sign_up_enabled\":{\"value\":true},\"subscriptions_top_articles_on_ios_enabled\":{\"value\":true},\"subscriptions_twitter_blue_logo_enabled\":{\"value\":true},\"subscriptions_undo_quote_tweets_enabled\":{\"value\":false},\"super_follow_android_web_subscription_enabled\":{\"value\":false},\"super_follow_exclusive_tweet_creation_api_enabled\":{\"value\":true},\"super_follow_tweet_api_enabled\":{\"value\":true},\"super_follow_user_api_enabled\":{\"value\":true},\"suspended_profile_tombstone_enabled\":{\"value\":true},\"topic_landing_page_clearer_controls_enabled\":{\"value\":true},\"topic_landing_page_cta_text\":{\"value\":\"control\"},\"topic_landing_page_share_enabled\":{\"value\":true},\"topics_context_controls_followed_variation\":{\"value\":\"see_more\"},\"topics_context_controls_implicit_context_x_enabled\":{\"value\":true},\"topics_context_controls_implicit_variation\":{\"value\":\"see_more\"},\"topics_context_controls_inline_prompt_enabled\":{\"value\":false},\"topics_discovery_page_enabled\":{\"value\":false},\"topics_discovery_topic_picker_page_enabled\":{\"value\":true},\"traffic_rewrite_map\":{\"value\":[]},\"trusted_friends_consumption_enabled\":{\"value\":false},\"trusted_friends_tweet_creation_enabled\":{\"value\":false},\"tweet_limited_actions_config_community_tweet_hidden\":{\"value\":[\"reply\",\"retweet\",\"quote_tweet\",\"like\",\"react\",\"send_via_dm\",\"add_to_bookmarks\",\"add_to_moment\",\"pin_to_profile\",\"view_tweet_activity\",\"share_tweet_via\",\"follow\",\"lists_add_remove\",\"mute_conversation\",\"embed\",\"view_hidden_replies\",\"hide_community_tweet\",\"copy_link\",\"vote_on_poll\"]},\"tweet_limited_actions_config_community_tweet_member\":{\"value\":[\"retweet\",\"embed\",\"pin_to_profile\"]},\"tweet_limited_actions_config_community_tweet_member_removed\":{\"value\":[\"reply\",\"retweet\",\"quote_tweet\",\"like\",\"react\",\"send_via_dm\",\"add_to_bookmarks\",\"add_to_moment\",\"pin_to_profile\",\"view_tweet_activity\",\"share_tweet_via\",\"follow\",\"lists_add_remove\",\"mute_conversation\",\"embed\",\"view_hidden_replies\",\"hide_community_tweet\",\"copy_link\",\"vote_on_poll\",\"remove_from_community\"]},\"tweet_limited_actions_config_community_tweet_non_member\":{\"value\":[\"reply\",\"retweet\",\"like\",\"react\",\"embed\",\"share_tweet_via\",\"vote_on_poll\",\"reply_down_vote\",\"pin_to_profile\"]},\"tweet_limited_actions_config_enabled\":{\"value\":true},\"tweet_limited_actions_config_non_compliant\":{\"value\":[\"reply\",\"retweet\",\"like\",\"react\",\"send_via_dm\",\"add_to_bookmarks\",\"add_to_moment\",\"pin_to_profile\",\"view_tweet_activity\",\"share_tweet_via\",\"copy_link\"]},\"tweet_with_visibility_results_prefer_gql_soft_interventions_enabled\":{\"value\":false},\"tweet_with_visibility_results_prefer_gql_tombstones_enabled\":{\"value\":false},\"unified_cards_multi_destination_carousels_convert_to_single_card\":{\"value\":false},\"user_display_name_max_limit\":{\"value\":50},\"voice_consumption_enabled\":{\"value\":true},\"voice_rooms_card_version\":{\"value\":1},\"voice_rooms_discovery_page_enabled\":{\"value\":false},\"voice_rooms_end_screen_participants\":{\"value\":true},\"voice_rooms_expanded_dock\":{\"value\":true},\"voice_rooms_expanded_dock_reactions\":{\"value\":true},\"voice_rooms_reactions_enabled\":{\"value\":false},\"voice_rooms_recent_search_audiospace_ring_enabled\":{\"value\":true},\"voice_rooms_replay_consumption\":{\"value\":true},\"voice_rooms_search_results_page_audiospace_ring_enabled\":{\"value\":false},\"voice_rooms_share_dock_enabled\":{\"value\":true},\"voice_rooms_sharing_listening_data_with_followers_setting_enabled\":{\"value\":true},\"voice_rooms_speaking_enabled\":{\"value\":false},\"voice_rooms_typeahead_audiospace_ring_enabled\":{\"value\":true},\"web_video_bitrate_persistence_enabled\":{\"value\":false},\"web_video_caption_repositioning_enabled\":{\"value\":false},\"web_video_hls_android_mse_enabled\":{\"value\":true},\"web_video_hls_mp4_threshold_sec\":{\"value\":0},\"web_video_hlsjs_version\":{\"value\":\"\"},\"web_video_playback_rate_enabled\":{\"value\":\"\"},\"web_video_player_size_cap_disabled\":{\"value\":false},\"web_video_prefetch_playlist_autoplay_disabled\":{\"value\":false},\"web_video_smart_buffering_enabled\":{\"value\":false}},\"impression_pointers\":{},\"impressions\":{},\"keysRead\":{},\"settingsVersion\":\"4981f694d996231a9c8c02ab4f164910\",\"behavioralEventAllowlist\":{\"children\":{\"messages\":{\"children\":{\"message\":{\"children\":{\"card\":{\"children\":{\"community_card\":{\"children\":{\"*\":{\"isTerminal\":1}},\"isTerminal\":0}},\"isTerminal\":0}},\"isTerminal\":0}},\"isTerminal\":0},\"community\":{\"children\":{\"**\":{\"isTerminal\":1}},\"isTerminal\":0},\"compose\":{\"children\":{\"**\":{\"children\":{\"click\":{\"isTerminal\":1}},\"isTerminal\":0}},\"isTerminal\":0},\"**\":{\"children\":{\"some\":{\"children\":{\"pattern\":{\"children\":{\"**\":{\"isTerminal\":1}},\"isTerminal\":0}},\"isTerminal\":0}},\"isTerminal\":0},\"app\":{\"children\":{\"top_nav\":{\"children\":{\"**\":{\"isTerminal\":1}},\"isTerminal\":0},\"side_nav\":{\"children\":{\"**\":{\"isTerminal\":1}},\"isTerminal\":0},\"**\":{\"children\":{\"toast\":{\"children\":{\"**\":{\"isTerminal\":1}},\"isTerminal\":0}},\"isTerminal\":0},\"bottom_nav\":{\"children\":{\"**\":{\"isTerminal\":1}},\"isTerminal\":0}},\"isTerminal\":0},\"communities\":{\"children\":{\"**\":{\"isTerminal\":1}},\"isTerminal\":0},\"some\":{\"children\":{\"pattern\":{\"children\":{\"*\":{\"isTerminal\":1}},\"isTerminal\":0}},\"isTerminal\":0}}}}},\"visibilityResults\":{\"tweets\":{}},\"toasts\":[],\"settings\":{\"local\":{\"nextPushCheckin\":0,\"shouldAutoPlayGif\":false,\"scale\":\"normal\",\"themeColor\":\"blue500\",\"highContrastEnabled\":false,\"themeBackground\":\"light\",\"loginPromptLastShown\":0,\"reducedMotionEnabled\":false,\"showTweetMediaDetailDrawer\":true,\"altTextNudgeType\":null,\"autoPollNewTweets\":false,\"shouldAutoTagLocation\":false,\"undoPreview\":{}},\"remote\":{\"settings\":{\"display_sensitive_media\":false},\"fetchStatus\":\"none\"},\"dataSaver\":{\"dataSaverMode\":false},\"transient\":{\"dtabBarInfo\":{\"hide\":false},\"loginPromptShown\":false,\"lastViewedDmInboxPath\":\"/messages\",\"themeFocus\":\"\"}},\"devices\":{\"browserPush\":{\"fetchStatus\":\"none\",\"pushNotificationsPrompt\":{\"dismissed\":false,\"fetchStatus\":\"none\"},\"subscribed\":false,\"supported\":null},\"devices\":{\"data\":{\"emails\":[],\"phone_numbers\":[]},\"fetchStatus\":\"none\"},\"notificationSettings\":{\"push_settings\":{\"error\":null,\"fetchStatus\":\"none\"},\"push_settings_template\":{\"template\":{\"settings\":[]}},\"checkin_time\":null}},\"userClaim\":{\"config\":{\"subscriptions\":{},\"features\":{}},\"debug\":{},\"fetchStatus\":\"none\"},\"educationFlags\":{},\"session\":{\"country\":\"CA\",\"isActiveCreator\":false,\"isRestrictedSession\":false,\"guestId\":\"164404238164012952\",\"hasCommunityMemberships\":false,\"language\":\"en\",\"oneFactorLoginEligibility\":{\"fetchStatus\":\"none\"},\"ssoInitTokens\":{}},\"typeaheadUsers\":{\"fetchStatus\":\"none\",\"users\":{},\"denylist\":{},\"lastUpdated\":0,\"index\":{}},\"urt\":{},\"mediaUpload\":[],\"directMessages\":{\"conversations\":{},\"entries\":{\"entries\":{},\"entryIdsByConversationId\":{},\"reactionsByMessageId\":{}},\"inbox\":{\"cursors\":{\"inbox\":{\"fetchStatus\":\"none\"},\"trusted\":{\"fetchStatus\":\"none\"},\"untrusted\":{\"fetchStatus\":\"none\"},\"untrusted_low_quality\":{\"fetchStatus\":\"none\"}},\"lastSeenEventIds\":{},\"poppedOutConversationId\":null,\"drawerVisibility\":\"collapsed\",\"drawerExperimentEnabled\":false},\"search\":{\"searchResults\":{},\"recentSearches\":[]},\"updates\":{\"isLoaded\":false,\"isLoading\":false}},\"audio\":{\"conversationLookup\":{}},\"teams\":{\"fetchStatus\":\"none\",\"teams\":{}},\"hashflags\":{\"fetchStatus\":\"none\",\"hashflags\":{}},\"multiAccount\":{\"fetchStatus\":\"none\",\"users\":[],\"badgeCounts\":{},\"addAccountFetchStatus\":\"none\"}};window.__META_DATA__={\"env\":\"prod\",\"isCanary\":false,\"sha\":\"91b1fa750e477182fe65d4d31bafbe25053a99df\",\"isLoggedIn\":false,\"hasMultiAccountCookie\":false,\"uaParserTags\":[\"m2\",\"rweb_unsupported\",\"msw\"],\"serverDate\":1644042381701,\"cookies\":{\"version\":\"1637091065489\",\"fetchedTime\":1637112602645,\"categories\":{\"2\":[\"Authorization\",\"DECLINED_DATE\",\"LAST_INVITATION_VIEW\",\"NEW_SUBSCRIPTION_ACCOUNT\",\"SUBMITTED_DATE\",\"_ep_sess\",\"_mb_tk\",\"_mkra_ctxt\",\"_sl\",\"_support_session\",\"_ttc_session\",\"_twitter_sess\",\"aa_u\",\"ab_decider\",\"ads_prefs\",\"aem-lang-preference\",\"app_shell_visited\",\"att\",\"auth_multi\",\"auth_token\",\"backendDataInSessionFlag\",\"bouncer_reset_cookie\",\"cd_user_id\",\"client_token\",\"cms-csp-nonce\",\"co\",\"connect.sid\",\"cookies_enabled\",\"csrf_id\",\"csrf_same_site\",\"csrf_same_site_set\",\"csrftoken\",\"ct0\",\"d_prefs\",\"daa\",\"dnt\",\"dtab_local\",\"email_read_only\",\"email_uid\",\"eu_cn\",\"fm\",\"form-lead-gen\",\"gt\",\"guest_id\",\"kampyleInvitePresented\",\"kampyleSessionPageCounter\",\"kampyleUserPercentile\",\"kampyleUserSessionCount\",\"kampyleUserSessionsCount\",\"kampyle_userid\",\"kdt\",\"lang\",\"lang-preference\",\"language\",\"lastOwnerId\",\"lv-ctx-\",\"lv-ctx-zzz*\",\"lv-uid\",\"m_session\",\"mdLogger\",\"md_isSurveySubmittedInSession\",\"messages\",\"mobile_ads_stat_type\",\"mobile_ads_time_interval\",\"momentmaker.tos.accepted*\",\"muc\",\"night_mode\",\"request_method\",\"sessionid\",\"signup_ui_metrics\",\"ssa-calendar-signup\",\"studio_account\",\"timezone\",\"tooltip\",\"tweetdeck_version\",\"twid\",\"ui_metrics\",\"zipbox_auth_token\",\"zipbox_forms_auth_token\"]}}};</script><script id=\"nonce-csp\" nonce=\"MGQwMjlkNDUtMzEzNS00NzQyLWIyYTItMDRmZDk1NDU0ZDRi\"></script><script type=\"text/javascript\" charset=\"utf-8\" nonce=\"MGQwMjlkNDUtMzEzNS00NzQyLWIyYTItMDRmZDk1NDU0ZDRi\">window.__SCRIPTS_LOADED__ = {};!function(e){function d(d){for(var a,i,t=d[0],l=d[1],c=d[2],m=0,b=[];m<t.length;m++)i=t[m],Object.prototype.hasOwnProperty.call(o,i)&&o[i]&&b.push(o[i][0]),o[i]=0;for(a in l)Object.prototype.hasOwnProperty.call(l,a)&&(e[a]=l[a]);for(u&&u(d);b.length;)b.shift()();return r.push.apply(r,c||[]),n()}function n(){for(var e,d=0;d<r.length;d++){for(var n=r[d],a=!0,t=1;t<n.length;t++){var l=n[t];0!==o[l]&&(a=!1)}a&&(r.splice(d--,1),e=i(i.s=n[0]))}return e}var a={},o={1:0},r=[];function i(d){if(a[d])return a[d].exports;var n=a[d]={i:d,l:!1,exports:{}};return e[d].call(n.exports,n,n.exports,i),n.l=!0,n.exports}i.e=function(e){var d=[],n=o[e];if(0!==n)if(n)d.push(n[2]);else{var a=new Promise((function(d,a){n=o[e]=[d,a]}));d.push(n[2]=a);var r,t=document.createElement(\"script\");t.charset=\"utf-8\",t.timeout=120,i.nc&&t.setAttribute(\"nonce\",i.nc),t.src=function(e){return i.p+\"\"+({0:\"sharedCore\",3:\"shared~bundle.MultiAccount~bundle.Birdwatch~bundle.BookmarkFolders~bundle.Communities~bundle.Compose~bundle.R\",4:\"shared~loader.DMDrawer~bundle.Compose~bundle.RichTextCompose~bundle.ComposeMedia~bundle.DirectMessages~bundle\",5:\"shared~loader.DMDrawer~bundle.Compose~bundle.RichTextCompose~bundle.DirectMessages~bundle.DMRichTextCompose~b\",6:\"shared~loader.AudioDock~bundle.AudioSpacePeek~bundle.AudioSpacePeekReport~loader.AudioContextSpaceMedia~loade\",7:\"shared~bundle.AudioSpacePeek~bundle.TweetMediaTags~bundle.ConversationParticipants~loader.WideLayout~loader.P\",8:\"shared~loader.Typeahead~bundle.Communities~bundle.Settings~bundle.LoggedOutHome~bundle.Search\",9:\"shared~loader.Typeahead~bundle.Communities~bundle.LoggedOutHome~bundle.Search\",10:\"shared~bundle.Birdwatch~bundle.Explore~bundle.Topics\",11:\"shared~bundle.SettingsRevamp~bundle.SettingsTransparency~ondemand.SettingsInternals\",12:\"shared~bundle.TweetMediaDetail~bundle.UserAvatar~bundle.UserNft\",13:\"shared~loaders.video.VideoPlayerDefaultUI~loader.MediaPreviewVideoPlayer~loaders.video.VideoPlayerEventsUI\",14:\"shared~ondemand.EditPinned~ondemand.ListHandler~ondemand.EventSummaryHandler\",15:\"shared~ondemand.EmojiPickerData~ondemand.ParticipantReaction~ondemand.EmojiPicker\",16:\"shared~bundle.SettingsRevamp~bundle.BadgeViolationsNotification\",17:\"shared~bundle.Settings~bundle.Display\",18:\"shared~loader.DMDrawer~bundle.DMRichTextCompose\",19:\"shared~loader.DashMenu~bundle.Account\",20:\"shared~loaders.video.VideoPlayerDefaultUI~loaders.video.VideoPlayerEventsUI\",21:\"shared~ondemand.EditPinned~ondemand.ListHandler\",22:\"shared~ondemand.InlinePlayer~loader.AudioOnlyVideoPlayer\",23:\"shared~ondemand.SettingsRevamp~ondemand.SettingsInternals\",24:\"shared~ondemand.SettingsSuperFollows~bundle.SuperFollowsSubscribe\",25:\"bundle.AboutThisAd\",26:\"bundle.Account\",27:\"bundle.AccountAutomation\",28:\"bundle.AccountVerification\",29:\"bundle.AdvancedSearch\",30:\"bundle.Articles\",31:\"bundle.AudioSpaceDetail\",32:\"bundle.AudioSpaceDiscovery\",33:\"bundle.AudioSpacePeek\",34:\"bundle.AudioSpacePeekReport\",35:\"bundle.BadgeViolationsNotification\",36:\"bundle.Birdwatch\",37:\"bundle.BookmarkFolders\",38:\"bundle.Bookmarks\",40:\"bundle.Collection\",41:\"bundle.Communities\",42:\"bundle.Compose\",43:\"bundle.ComposeMedia\",44:\"bundle.ConnectTab\",45:\"bundle.Conversation\",46:\"bundle.ConversationParticipants\",47:\"bundle.ConversationWithRelay\",48:\"bundle.DMRichTextCompose\",50:\"bundle.DirectMessages\",51:\"bundle.Display\",52:\"bundle.Download\",53:\"bundle.Explore\",54:\"bundle.ExploreTopics\",55:\"bundle.FollowerRequests\",56:\"bundle.GenericTimeline\",57:\"bundle.GifSearch\",58:\"bundle.HomeTimeline\",59:\"bundle.KeyboardShortcuts\",60:\"bundle.LiveEvent\",61:\"bundle.LoggedOutHome\",62:\"bundle.Login\",63:\"bundle.Logout\",64:\"bundle.Moment\",65:\"bundle.MomentMaker\",66:\"bundle.MultiAccount\",67:\"bundle.NetworkInstrument\",68:\"bundle.NewsLanding\",69:\"bundle.Newsletters\",70:\"bundle.NotMyAccount\",71:\"bundle.NotificationDetail\",72:\"bundle.Notifications\",73:\"bundle.OAuth\",74:\"bundle.Ocf\",75:\"bundle.Place\",76:\"bundle.PlainTextCompose\",77:\"bundle.ProfileRedirect\",78:\"bundle.QuoteTweetActivity\",79:\"bundle.ReaderMode\",80:\"bundle.Report\",81:\"bundle.ReportCenter\",82:\"bundle.RichTextCompose\",83:\"bundle.SafetyModeModal\",84:\"bundle.Search\",85:\"bundle.Settings\",86:\"bundle.SettingsBizProfile\",87:\"bundle.SettingsInternals\",88:\"bundle.SettingsProfessionalProfile\",89:\"bundle.SettingsProfile\",90:\"bundle.SettingsRevamp\",91:\"bundle.SettingsTransparency\",92:\"bundle.SmsLogin\",93:\"bundle.SuperFollowsManage\",94:\"bundle.SuperFollowsSubscribe\",95:\"bundle.Topics\",96:\"bundle.Trends\",97:\"bundle.TrustedFriendsEdit\",98:\"bundle.TweetActivity\",99:\"bundle.TweetActivityReactions\",100:\"bundle.TweetMediaDetail\",101:\"bundle.TweetMediaTags\",102:\"bundle.TwitterArticles\",103:\"bundle.Twitterversary\",104:\"bundle.UserAvatar\",105:\"bundle.UserFollowLists\",106:\"bundle.UserLists\",107:\"bundle.UserMoments\",108:\"bundle.UserNft\",109:\"bundle.UserProfile\",110:\"bundle.UserRedirect\",161:\"loader.AbsolutePower\",162:\"loader.AppModules\",163:\"loader.AudioContextSpaceMedia\",164:\"loader.AudioContextVoiceMedia\",165:\"loader.AudioDock\",166:\"loader.AudioOnlyVideoPlayer\",167:\"loader.DMDrawer\",168:\"loader.DashMenu\",169:\"loader.ExploreSidebar\",170:\"loader.FeedbackSheet\",171:\"loader.FeedbackTombstone\",172:\"loader.HoverCard\",173:\"loader.MediaPickerWithPreview\",174:\"loader.MediaPreviewVideoPlayer\",175:\"loader.NewTweetsPill\",176:\"loader.PreviewActions\",177:\"loader.ProfileClusterFollow\",178:\"loader.PushNotificationsPrompt\",179:\"loader.SideNav\",180:\"loader.SignupModule\",181:\"loader.TimelineRenderer\",182:\"loader.TweetCurationActionMenu\",183:\"loader.Typeahead\",184:\"loader.UserAvatar\",185:\"loader.WideLayout\",186:\"loader.graphQLDarkReads\",187:\"loaders.video.PlayerHls14\",188:\"loaders.video.VideoPlayerDefaultUI\",189:\"loaders.video.VideoPlayerEventsUI\",190:\"loaders.video.VideoPlayerHashtagHighlightUI\",192:\"ondemand.Balloons\",193:\"ondemand.BranchSdk\",194:\"ondemand.CarouselScroller\",195:\"ondemand.CarouselTimelineHandler\",196:\"ondemand.CommunityHandler\",197:\"ondemand.ComposeScheduling\",198:\"ondemand.ConversationGapHandler\",199:\"ondemand.DefaultArticleLoader\",200:\"ondemand.DownvoteEducation\",201:\"ondemand.Dropdown\",202:\"ondemand.EditBirthdate\",203:\"ondemand.EditPinned\",204:\"ondemand.EmojiPicker\",205:\"ondemand.EventSummaryHandler\",206:\"ondemand.FooterLoader\",207:\"ondemand.GapHandler\",208:\"ondemand.HoverCard\",209:\"ondemand.ImpressionPlaceholderHandler\",210:\"ondemand.InlinePlayer\",211:\"ondemand.InlinePromptHandler\",212:\"ondemand.IntentPrompt\",213:\"ondemand.LabelHandler\",214:\"ondemand.ListHandler\",215:\"ondemand.LottieWeb\",216:\"ondemand.MessageHandler\",217:\"ondemand.ModuleHeader\",218:\"ondemand.MomentAnnotationHandler\",219:\"ondemand.MomentSummaryHandler\",220:\"ondemand.NotificationHandler\",221:\"ondemand.PagedCarouselItemHandler\",222:\"ondemand.ParticipantReaction\",223:\"ondemand.PivotLabelHandler\",224:\"ondemand.ProfileSidebar\",225:\"ondemand.ReactBeautifulDnd\",226:\"ondemand.RelatedSearchHandler\",227:\"ondemand.RichText\",228:\"ondemand.ScoreEventSummaryHandler\",229:\"ondemand.SettingsInternals\",230:\"ondemand.SettingsRevamp\",231:\"ondemand.SettingsSuperFollows\",232:\"ondemand.ShowMoreHandler\",233:\"ondemand.TileHandler\",234:\"ondemand.TopicFollowPromptHandler\",235:\"ondemand.TransparentLabelHandler\",236:\"ondemand.TrendHandler\",237:\"ondemand.UserHandler\",238:\"ondemand.UserProfileGraphQL\",239:\"ondemand.VerticalGridItemHandler\",240:\"ondemand.VerticalGridListHandler\",241:\"ondemand.VerticalGridRowHandler\",242:\"ondemand.collectionHeaderHandler\",243:\"ondemand.countries-ar\",244:\"ondemand.countries-bg\",245:\"ondemand.countries-bn\",246:\"ondemand.countries-ca\",247:\"ondemand.countries-cs\",248:\"ondemand.countries-da\",249:\"ondemand.countries-de\",250:\"ondemand.countries-el\",251:\"ondemand.countries-en\",252:\"ondemand.countries-en-GB\",253:\"ondemand.countries-es\",254:\"ondemand.countries-eu\",255:\"ondemand.countries-fa\",256:\"ondemand.countries-fi\",257:\"ondemand.countries-fil\",258:\"ondemand.countries-fr\",259:\"ondemand.countries-ga\",260:\"ondemand.countries-gl\",261:\"ondemand.countries-gu\",262:\"ondemand.countries-he\",263:\"ondemand.countries-hi\",264:\"ondemand.countries-hr\",265:\"ondemand.countries-hu\",266:\"ondemand.countries-id\",267:\"ondemand.countries-it\",268:\"ondemand.countries-ja\",269:\"ondemand.countries-kn\",270:\"ondemand.countries-ko\",271:\"ondemand.countries-mr\",272:\"ondemand.countries-ms\",273:\"ondemand.countries-nb\",274:\"ondemand.countries-nl\",275:\"ondemand.countries-pl\",276:\"ondemand.countries-pt\",277:\"ondemand.countries-ro\",278:\"ondemand.countries-ru\",279:\"ondemand.countries-sk\",280:\"ondemand.countries-sr\",281:\"ondemand.countries-sv\",282:\"ondemand.countries-ta\",283:\"ondemand.countries-th\",284:\"ondemand.countries-tr\",285:\"ondemand.countries-uk\",286:\"ondemand.countries-ur\",287:\"ondemand.countries-zh\",288:\"ondemand.countries-zh-Hant\",289:\"ondemand.disconnectedRepliesTombstoneHandler\",290:\"ondemand.emoji.ar\",291:\"ondemand.emoji.ar-x-fm\",292:\"ondemand.emoji.bg\",293:\"ondemand.emoji.bn\",294:\"ondemand.emoji.ca\",295:\"ondemand.emoji.cs\",296:\"ondemand.emoji.da\",297:\"ondemand.emoji.de\",298:\"ondemand.emoji.el\",299:\"ondemand.emoji.en\",300:\"ondemand.emoji.en-GB\",301:\"ondemand.emoji.en-ss\",302:\"ondemand.emoji.en-xx\",303:\"ondemand.emoji.es\",304:\"ondemand.emoji.eu\",305:\"ondemand.emoji.fa\",306:\"ondemand.emoji.fi\",307:\"ondemand.emoji.fil\",308:\"ondemand.emoji.fr\",309:\"ondemand.emoji.ga\",310:\"ondemand.emoji.gl\",311:\"ondemand.emoji.gu\",312:\"ondemand.emoji.he\",313:\"ondemand.emoji.hi\",314:\"ondemand.emoji.hr\",315:\"ondemand.emoji.hu\",316:\"ondemand.emoji.id\",317:\"ondemand.emoji.it\",318:\"ondemand.emoji.ja\",319:\"ondemand.emoji.kn\",320:\"ondemand.emoji.ko\",321:\"ondemand.emoji.mr\",322:\"ondemand.emoji.ms\",323:\"ondemand.emoji.nb\",324:\"ondemand.emoji.nl\",325:\"ondemand.emoji.pl\",326:\"ondemand.emoji.pt\",327:\"ondemand.emoji.ro\",328:\"ondemand.emoji.ru\",329:\"ondemand.emoji.sk\",330:\"ondemand.emoji.sr\",331:\"ondemand.emoji.sv\",332:\"ondemand.emoji.ta\",333:\"ondemand.emoji.th\",334:\"ondemand.emoji.tr\",335:\"ondemand.emoji.uk\",336:\"ondemand.emoji.ur\",337:\"ondemand.emoji.vi\",338:\"ondemand.emoji.zh\",339:\"ondemand.emoji.zh-Hant\",340:\"ondemand.framerateTracking\",341:\"ondemand.inlineTombstoneHandler\",342:\"ondemand.newsArticleHandler\",343:\"ondemand.newsEntriesGapHandler\",344:\"ondemand.newsPreviewHandler\",345:\"ondemand.qrcode\",346:\"ondemand.relevancePromptHandler\",347:\"ondemand.spellingHandler\",348:\"ondemand.topicHandler\",349:\"ondemand.tweetComposerHandler\",350:\"ondemand.tweetUnavailableTombstoneHandler\",351:\"ondemand.video.PlayerHls13\"}[e]||e)+\".\"+{0:\"0e74be5\",3:\"799bd22\",4:\"8b7a1fb\",5:\"e559616\",6:\"ff5e02f\",7:\"3c9d8b8\",8:\"b41883f\",9:\"01d0104\",10:\"5f86a37\",11:\"3e7b808\",12:\"4f4138c\",13:\"579d7f4\",14:\"42c9947\",15:\"a47c973\",16:\"030acb8\",17:\"d108848\",18:\"16125ec\",19:\"237ac8b\",20:\"aea0454\",21:\"6320443\",22:\"ee2bdda\",23:\"3b65021\",24:\"815f4a9\",25:\"16a243d\",26:\"d3a12bc\",27:\"5338ba0\",28:\"f272c67\",29:\"873488e\",30:\"f058409\",31:\"0e23306\",32:\"bcd28b3\",33:\"28d581e\",34:\"f64121d\",35:\"07ab3fc\",36:\"3415e1a\",37:\"38018ac\",38:\"efab226\",40:\"62681df\",41:\"2d9a29f\",42:\"7b0031e\",43:\"a1af712\",44:\"7796189\",45:\"c256ccb\",46:\"eff2df2\",47:\"66f74d8\",48:\"1ee23fa\",50:\"1758b08\",51:\"bb2bad4\",52:\"90345f2\",53:\"542ca21\",54:\"190a2a9\",55:\"9ec506a\",56:\"e080273\",57:\"747e270\",58:\"66ab531\",59:\"d062b66\",60:\"09e1f32\",61:\"37b289c\",62:\"75676a4\",63:\"6360e61\",64:\"3269d33\",65:\"322e8cb\",66:\"8b647fb\",67:\"7466d9d\",68:\"8ad1362\",69:\"2eb2a32\",70:\"79c2aa1\",71:\"5f1239a\",72:\"2114ef3\",73:\"103334a\",74:\"0d5e52b\",75:\"86921d0\",76:\"860370b\",77:\"6e49155\",78:\"3161c01\",79:\"5ab67f4\",80:\"6cc6cd5\",81:\"c8792a9\",82:\"921ed96\",83:\"dd3fa85\",84:\"96d1a91\",85:\"96ac5ff\",86:\"ed2f9d7\",87:\"d6df667\",88:\"1cf8c0a\",89:\"ada79a3\",90:\"83ce1e8\",91:\"309d26d\",92:\"5ecbb72\",93:\"a729afd\",94:\"6c99b58\",95:\"1bec6c0\",96:\"9e8bc90\",97:\"cb223a5\",98:\"e06e949\",99:\"7bcd257\",100:\"c7e88e4\",101:\"8884196\",102:\"49f5dc5\",103:\"413cce1\",104:\"ed6971c\",105:\"6b0e493\",106:\"4a0ebfa\",107:\"cbcea6a\",108:\"6cd605f\",109:\"b1ee008\",110:\"d53affc\",161:\"ad54521\",162:\"bb495a8\",163:\"2188290\",164:\"7d49ee0\",165:\"ed25073\",166:\"b7edcf1\",167:\"461dcbf\",168:\"8b696df\",169:\"5fc8ebe\",170:\"12aec01\",171:\"7ff9bd4\",172:\"4f8b07f\",173:\"ab58be4\",174:\"d499e24\",175:\"92e4c4e\",176:\"b97caec\",177:\"bd1c67f\",178:\"161ceca\",179:\"d46277a\",180:\"e21a6e0\",181:\"1a1fb49\",182:\"912607e\",183:\"5450124\",184:\"80e1a66\",185:\"09773e6\",186:\"2e1882d\",187:\"028c9ce\",188:\"db67407\",189:\"bbec2bf\",190:\"607b211\",192:\"cb733a2\",193:\"62045bc\",194:\"aa65efb\",195:\"35ed858\",196:\"fb1fdf7\",197:\"eddfa71\",198:\"1ca0d2c\",199:\"ce819be\",200:\"508aaea\",201:\"38f343c\",202:\"c67da53\",203:\"4a0a10b\",204:\"5afd52a\",205:\"9877be9\",206:\"4219076\",207:\"fee1993\",208:\"4c93587\",209:\"c48db88\",210:\"77ac54b\",211:\"fdbd5fb\",212:\"180e200\",213:\"ef43ac9\",214:\"e78ec9e\",215:\"6a85732\",216:\"b6a9dbe\",217:\"3712d1b\",218:\"ad9ebf4\",219:\"7ea296d\",220:\"9f845a0\",221:\"dc60a3f\",222:\"6f5b07d\",223:\"2a16e4c\",224:\"796adbd\",225:\"f18789e\",226:\"e911009\",227:\"5f36134\",228:\"a4bd73c\",229:\"eddf24a\",230:\"209a358\",231:\"87ab4df\",232:\"898c3b5\",233:\"c8eb94a\",234:\"88d6bde\",235:\"cb2529a\",236:\"d6838ca\",237:\"b3bc0d0\",238:\"2a4f88c\",239:\"24d48c8\",240:\"23237b6\",241:\"5c79239\",242:\"b72fc08\",243:\"688f2f6\",244:\"983cfef\",245:\"64f19e1\",246:\"48eb467\",247:\"4e3c44c\",248:\"0cb4f51\",249:\"379670e\",250:\"83239fe\",251:\"104d750\",252:\"c7a880c\",253:\"235df7c\",254:\"6899faf\",255:\"d1d1e61\",256:\"75bae21\",257:\"70669bd\",258:\"632c0af\",259:\"37dfe77\",260:\"8127ffb\",261:\"3979406\",262:\"0d4914b\",263:\"73d9b0d\",264:\"fab2461\",265:\"537291f\",266:\"6c04bc5\",267:\"8876e94\",268:\"6201f10\",269:\"71ae941\",270:\"79108b0\",271:\"3f3f640\",272:\"71c9828\",273:\"63a8d03\",274:\"0aa7376\",275:\"3b96703\",276:\"f2b0481\",277:\"a069e2e\",278:\"1eff2aa\",279:\"9be3abf\",280:\"79759ad\",281:\"6d4ab84\",282:\"3afc732\",283:\"9b3bfcb\",284:\"f8e7908\",285:\"2816bec\",286:\"40ff660\",287:\"50cf1cf\",288:\"f3b6eea\",289:\"1ec509c\",290:\"f0b72f4\",291:\"1c94f55\",292:\"7ebe723\",293:\"26bff86\",294:\"8a608b0\",295:\"f94d68d\",296:\"0d76fdc\",297:\"fae0b12\",298:\"b430355\",299:\"81d2eb7\",300:\"91c5cd0\",301:\"180f67c\",302:\"14b9c09\",303:\"a1fd907\",304:\"09bb837\",305:\"5254e7b\",306:\"193835e\",307:\"77244fa\",308:\"eff2443\",309:\"3b10b8d\",310:\"3585f20\",311:\"96962f1\",312:\"23f45be\",313:\"5cfc151\",314:\"e468323\",315:\"875e37d\",316:\"1429f7d\",317:\"65e1595\",318:\"976e12b\",319:\"fbb3ac1\",320:\"36cadc5\",321:\"4ec0ec5\",322:\"c6eccd1\",323:\"359afce\",324:\"1593de2\",325:\"f347740\",326:\"0281e1c\",327:\"a54ee62\",328:\"445e23d\",329:\"dbe727d\",330:\"1057bc4\",331:\"7bd6e21\",332:\"88eb3ce\",333:\"abce61a\",334:\"b1d5c2f\",335:\"dbe476f\",336:\"d3e7c10\",337:\"4387255\",338:\"7830cd2\",339:\"78961c8\",340:\"d94a6d3\",341:\"1dc5be0\",342:\"7cfdcb3\",343:\"4e0cda9\",344:\"3c496b4\",345:\"f74f628\",346:\"64cf703\",347:\"b576f06\",348:\"ccda46e\",349:\"fe98b70\",350:\"2cc7a02\",351:\"115e576\"}[e]+\"5.js\"}(e);var l=new Error;r=function(d){t.onerror=t.onload=null,clearTimeout(c);var n=o[e];if(0!==n){if(n){var a=d&&(\"load\"===d.type?\"missing\":d.type),r=d&&d.target&&d.target.src;l.message=\"Loading chunk \"+e+\" failed.\\\\n(\"+a+\": \"+r+\")\",l.name=\"ChunkLoadError\",l.type=a,l.request=r,n[1](l)}o[e]=void 0}};var c=setTimeout((function(){r({type:\"timeout\",target:t})}),12e4);t.onerror=t.onload=r,document.head.appendChild(t)}return Promise.all(d)},i.m=e,i.c=a,i.d=function(e,d,n){i.o(e,d)||Object.defineProperty(e,d,{enumerable:!0,get:n})},i.r=function(e){\"undefined\"!=typeof Symbol&&Symbol.toStringTag&&Object.defineProperty(e,Symbol.toStringTag,{value:\"Module\"}),Object.defineProperty(e,\"__esModule\",{value:!0})},i.t=function(e,d){if(1&d&&(e=i(e)),8&d)return e;if(4&d&&\"object\"==typeof e&&e&&e.__esModule)return e;var n=Object.create(null);if(i.r(n),Object.defineProperty(n,\"default\",{enumerable:!0,value:e}),2&d&&\"string\"!=typeof e)for(var a in e)i.d(n,a,function(d){return e[d]}.bind(null,a));return n},i.n=function(e){var d=e&&e.__esModule?function(){return e.default}:function(){return e};return i.d(d,\"a\",d),d},i.o=function(e,d){return Object.prototype.hasOwnProperty.call(e,d)},i.p=\"https://abs.twimg.com/responsive-web/client-web-legacy/\",i.oe=function(e){throw e};var t=window.webpackJsonp=window.webpackJsonp||[],l=t.push.bind(t);t.push=d,t=t.slice();for(var c=0;c<t.length;c++)d(t[c]);var u=l;n()}([]),window.__SCRIPTS_LOADED__.runtime=!0;\\n</script><script type=\"text/javascript\" charset=\"utf-8\" nonce=\"MGQwMjlkNDUtMzEzNS00NzQyLWIyYTItMDRmZDk1NDU0ZDRi\" crossorigin=\"anonymous\" src=\"https://abs.twimg.com/responsive-web/client-web-legacy/polyfills.b9199025.js\"></script><script type=\"text/javascript\" charset=\"utf-8\" nonce=\"MGQwMjlkNDUtMzEzNS00NzQyLWIyYTItMDRmZDk1NDU0ZDRi\" crossorigin=\"anonymous\" src=\"https://abs.twimg.com/responsive-web/client-web-legacy/vendors~main.c030c4b5.js\"></script><script type=\"text/javascript\" charset=\"utf-8\" nonce=\"MGQwMjlkNDUtMzEzNS00NzQyLWIyYTItMDRmZDk1NDU0ZDRi\" crossorigin=\"anonymous\" src=\"https://abs.twimg.com/responsive-web/client-web-legacy/i18n/en.412852a5.js\"></script><script type=\"text/javascript\" charset=\"utf-8\" nonce=\"MGQwMjlkNDUtMzEzNS00NzQyLWIyYTItMDRmZDk1NDU0ZDRi\" crossorigin=\"anonymous\" src=\"https://abs.twimg.com/responsive-web/client-web-legacy/main.b46ac855.js\"></script><script nonce=\"MGQwMjlkNDUtMzEzNS00NzQyLWIyYTItMDRmZDk1NDU0ZDRi\">(function () {\\n  if (!window.__SCRIPTS_LOADED__[\\'main\\']) {\\n    document.getElementById(\\'ScriptLoadFailure\\').style.display = \\'block\\';\\n    var criticalScripts = [\"polyfills\",\"vendors~main\",\"i18n\",\"main\"];\\n    for (var i = 0; i < criticalScripts.length; i++) {\\n      var criticalScript = criticalScripts[i];\\n      if (!window.__SCRIPTS_LOADED__[criticalScript]) {\\n        document.getElementsByName(\\'failedScript\\')[0].value = criticalScript;\\n        break;\\n      }\\n    }\\n  }\\n})();</script><script nonce=\"MGQwMjlkNDUtMzEzNS00NzQyLWIyYTItMDRmZDk1NDU0ZDRi\">document.cookie = decodeURIComponent(\"gt=1489847848036225027; Max-Age=10800; Domain=.twitter.com; Path=/; Secure\");</script>'"
      ]
     },
     "execution_count": 1,
     "metadata": {},
     "output_type": "execute_result"
    }
   ],
   "source": [
    "# Import libraries\n",
    "import requests\n",
    "\n",
    "URL = \"https://twitter.com/search?q=%23DataScience&src=typeahead_click\"\n",
    "res = requests.get(URL).text\n",
    "res"
   ]
  },
  {
   "cell_type": "markdown",
   "metadata": {
    "slideshow": {
     "slide_type": "slide"
    }
   },
   "source": [
    "Now, this looks hard - like a bad headache.\n",
    "\n",
    "We would need to create a Data Mining program that goes to URLs and parses the HTML to extract data.\n",
    "- Effortful\n",
    "    - HTML is difficult to parse - how do you clean the above data?\n",
    "    - Almost all information is irrelevant - are all these `hreflang=\"vi\" href=\"` necessary?\n",
    "    - Websites often require interaction - look at all the links...\n",
    "    - When websites update, your code will break - not even going there...\n",
    "    - Every website is different - now I want to use a different hashtag...\n",
    "    - Companies try to stop data miners"
   ]
  },
  {
   "cell_type": "markdown",
   "metadata": {
    "slideshow": {
     "slide_type": "slide"
    }
   },
   "source": [
    "## What is an API?"
   ]
  },
  {
   "cell_type": "markdown",
   "metadata": {
    "slideshow": {
     "slide_type": "fragment"
    }
   },
   "source": [
    "**A**pplication  \n",
    "**P**rogramming  \n",
    "**I**nterface  \n",
    "  \n",
    "* We will be mostly using RESTful APIs.   \n",
    "\n",
    "**RE**presentation  \n",
    "**S**tate  \n",
    "**T**ransfer  \n",
    "**C**haracteristics  "
   ]
  },
  {
   "cell_type": "markdown",
   "metadata": {},
   "source": [
    "Easy explanation:\n",
    "\n",
    "![API](img/bfa.jpeg)"
   ]
  },
  {
   "cell_type": "markdown",
   "metadata": {
    "slideshow": {
     "slide_type": "slide"
    }
   },
   "source": [
    "- Programmer-friendly version of websites\n",
    "- Go to a URL composed of\n",
    "    - API root endpoint\n",
    "    - API function\n",
    "    - API key (like a login)\n",
    "    - Parameter keys\n",
    "    - Parameter values\n",
    "    - Returns data (JSON, XML, csv, etc.)"
   ]
  },
  {
   "cell_type": "markdown",
   "metadata": {
    "slideshow": {
     "slide_type": "slide"
    }
   },
   "source": [
    "### Characteristics?\n",
    "\n",
    "Client-server, typically HTTP-based, stateless server\n",
    "\n",
    "- In order to use them, you might have to sign up and create a Developer account. \n",
    "- There might be screenings.\n",
    "- Some APIs will not be free or might have \"premium\" versions.   \n",
    "[Twitter API](https://developer.twitter.com/en)"
   ]
  },
  {
   "cell_type": "markdown",
   "metadata": {
    "slideshow": {
     "slide_type": "slide"
    }
   },
   "source": [
    "### What representation will DATA be in?"
   ]
  },
  {
   "cell_type": "markdown",
   "metadata": {
    "slideshow": {
     "slide_type": "slide"
    }
   },
   "source": [
    "### JSON\n",
    "- **J**ava**S**cript **O**bject **N**otation\n",
    "* textual description of python (javascript actually) objects\n",
    "* arrays and dictionaries <- the reason why Module 5 in PPDS is so important\n",
    "\n",
    "```\n",
    "[{\n",
    "'library': [\n",
    "           {'title': 'For Whom the Bell Tolls', 'author': 'Ernest Hemingway'},\n",
    "           {'title': 'Trump: The Art of the Deal', 'author': 'Good Question'}\n",
    "           ]\n",
    "}\n",
    ", ... ]\n",
    "```\n",
    "\n",
    "**LESSON:** Even if the data is provided still in a nicer presentation than from the web, you must still write wrapping functions"
   ]
  },
  {
   "cell_type": "markdown",
   "metadata": {
    "slideshow": {
     "slide_type": "slide"
    }
   },
   "source": [
    "### Using a Web API\n",
    "\n",
    "Provider defines:\n",
    "* message format for requests and responses\n",
    "* usually in both JSON and XML (XML is not very used)\n",
    "* registration and authentication\n",
    "* usually using OAuth (delegated authorization framework for REST/APIs. It enables apps to obtain limited access to a user's data without giving away a user's password.)"
   ]
  },
  {
   "cell_type": "markdown",
   "metadata": {
    "slideshow": {
     "slide_type": "slide"
    }
   },
   "source": [
    "### Language integration / Wrapper Function\n",
    "\n",
    "* might be provided or you might have to do it yourself\n",
    "* if provided, usually someone other than data source\n",
    "* library API for various languages like python, R, ...\n",
    "* you write a python program that calls library procedures\n",
    "* library formats messages, sends them to web provider, translates responses as return values"
   ]
  },
  {
   "cell_type": "markdown",
   "metadata": {
    "slideshow": {
     "slide_type": "slide"
    }
   },
   "source": [
    "### When you write the wrapper functions\n",
    "\n",
    "When the functions are not provided, you will need to load the following libraries:\n",
    "- `import requests` [Documentation](https://docs.python-requests.org/en/latest/)\n",
    "- `import json` [Documentation](https://docs.python.org/3/library/json.html)\n",
    "\n",
    "Also, if you are in Chrome, get the [JSON formatter](https://chrome.google.com/webstore/detail/json-formatter/bcjindcccaagfpapjjmafapmmgkkhgoa?hl=en) extension."
   ]
  },
  {
   "cell_type": "markdown",
   "metadata": {
    "slideshow": {
     "slide_type": "fragment"
    }
   },
   "source": [
    "### Getting JSON Data\n",
    "\n",
    "We need to select the output format using API:\n",
    "* e.g., http header: accept = application/json\n",
    "\n",
    "Use request .get\n",
    "* this returns a python array or dictionary"
   ]
  },
  {
   "cell_type": "markdown",
   "metadata": {
    "slideshow": {
     "slide_type": "slide"
    }
   },
   "source": [
    "## Demo with Translink"
   ]
  },
  {
   "cell_type": "markdown",
   "metadata": {
    "slideshow": {
     "slide_type": "fragment"
    }
   },
   "source": [
    "1. Get your own API token from [Translink](developer.translink.ca)\n",
    "2. In the config file, pass your username and password."
   ]
  },
  {
   "cell_type": "markdown",
   "metadata": {
    "slideshow": {
     "slide_type": "slide"
    }
   },
   "source": [
    "Hint: If you are on Chrome, use the JSON formatter extension."
   ]
  },
  {
   "cell_type": "code",
   "execution_count": 2,
   "metadata": {
    "slideshow": {
     "slide_type": "fragment"
    }
   },
   "outputs": [
    {
     "data": {
      "text/plain": [
       "[{'RouteNo': '372',\n",
       "  'RouteName': 'CLAYTON HEIGHTS/LANGLEY CENTRE',\n",
       "  'Direction': 'EAST',\n",
       "  'RouteMap': {'Href': 'https://nb.translink.ca/geodata/372.kmz'},\n",
       "  'Schedules': [{'Pattern': 'EB1',\n",
       "    'Destination': 'LANGLEY CTR',\n",
       "    'ExpectedLeaveTime': '10:33pm 2022-02-04',\n",
       "    'ExpectedCountdown': 7,\n",
       "    'ScheduleStatus': '*',\n",
       "    'CancelledTrip': False,\n",
       "    'CancelledStop': False,\n",
       "    'AddedTrip': False,\n",
       "    'AddedStop': False,\n",
       "    'LastUpdate': '11:08:12 pm'}]}]"
      ]
     },
     "execution_count": 2,
     "metadata": {},
     "output_type": "execute_result"
    }
   ],
   "source": [
    "import requests\n",
    "import config as cfg\n",
    "\n",
    "# Get your own API token from developer.translink.ca\n",
    "# open config.py and write in your password\n",
    "apikey = cfg.translink['key']\n",
    "\n",
    "requests.get('http://api.translink.ca/rttiapi/v1/stops/61945/estimates?apikey={}'\\\n",
    "             .format(apikey),headers={'accept': 'application/JSON'}).json()\n"
   ]
  },
  {
   "cell_type": "code",
   "execution_count": 3,
   "metadata": {},
   "outputs": [],
   "source": [
    "x = requests.get('http://api.translink.ca/rttiapi/v1/stops/61935/estimates?apikey={}'\\\n",
    "                 .format(apikey),headers={'accept': 'application/JSON'}).json()"
   ]
  },
  {
   "cell_type": "code",
   "execution_count": 4,
   "metadata": {},
   "outputs": [
    {
     "data": {
      "text/plain": [
       "[{'Pattern': 'E1',\n",
       "  'Destination': \"COMM'L-BDWAY STN\",\n",
       "  'ExpectedLeaveTime': '10:26pm 2022-02-04',\n",
       "  'ExpectedCountdown': 0,\n",
       "  'ScheduleStatus': '-',\n",
       "  'CancelledTrip': False,\n",
       "  'CancelledStop': False,\n",
       "  'AddedTrip': False,\n",
       "  'AddedStop': False,\n",
       "  'LastUpdate': '10:23:58 pm'},\n",
       " {'Pattern': 'E1',\n",
       "  'Destination': \"COMM'L-BDWAY STN\",\n",
       "  'ExpectedLeaveTime': '10:32pm 2022-02-04',\n",
       "  'ExpectedCountdown': 6,\n",
       "  'ScheduleStatus': '*',\n",
       "  'CancelledTrip': False,\n",
       "  'CancelledStop': False,\n",
       "  'AddedTrip': False,\n",
       "  'AddedStop': False,\n",
       "  'LastUpdate': '09:32:10 pm'},\n",
       " {'Pattern': 'E8FL2',\n",
       "  'Destination': 'TO BOUNDARY B-LINE',\n",
       "  'ExpectedLeaveTime': '10:42pm 2022-02-04',\n",
       "  'ExpectedCountdown': 16,\n",
       "  'ScheduleStatus': '*',\n",
       "  'CancelledTrip': False,\n",
       "  'CancelledStop': False,\n",
       "  'AddedTrip': False,\n",
       "  'AddedStop': False,\n",
       "  'LastUpdate': '09:42:19 pm'},\n",
       " {'Pattern': 'E1',\n",
       "  'Destination': \"COMM'L-BDWAY STN\",\n",
       "  'ExpectedLeaveTime': '10:52pm 2022-02-04',\n",
       "  'ExpectedCountdown': 26,\n",
       "  'ScheduleStatus': '*',\n",
       "  'CancelledTrip': False,\n",
       "  'CancelledStop': False,\n",
       "  'AddedTrip': False,\n",
       "  'AddedStop': False,\n",
       "  'LastUpdate': '09:52:12 pm'},\n",
       " {'Pattern': 'E1',\n",
       "  'Destination': \"COMM'L-BDWAY STN\",\n",
       "  'ExpectedLeaveTime': '11:04pm 2022-02-04',\n",
       "  'ExpectedCountdown': 38,\n",
       "  'ScheduleStatus': ' ',\n",
       "  'CancelledTrip': False,\n",
       "  'CancelledStop': False,\n",
       "  'AddedTrip': False,\n",
       "  'AddedStop': False,\n",
       "  'LastUpdate': '10:04:09 pm'},\n",
       " {'Pattern': 'E1',\n",
       "  'Destination': \"COMM'L-BDWAY STN\",\n",
       "  'ExpectedLeaveTime': '11:16pm 2022-02-04',\n",
       "  'ExpectedCountdown': 50,\n",
       "  'ScheduleStatus': ' ',\n",
       "  'CancelledTrip': False,\n",
       "  'CancelledStop': False,\n",
       "  'AddedTrip': False,\n",
       "  'AddedStop': False,\n",
       "  'LastUpdate': '10:16:00 pm'}]"
      ]
     },
     "execution_count": 4,
     "metadata": {},
     "output_type": "execute_result"
    }
   ],
   "source": [
    "data = x[0]['Schedules']\n",
    "data"
   ]
  },
  {
   "cell_type": "markdown",
   "metadata": {},
   "source": [
    "## Pandas to the Rescue"
   ]
  },
  {
   "cell_type": "code",
   "execution_count": 5,
   "metadata": {},
   "outputs": [],
   "source": [
    "import pandas as pd\n",
    "df = pd.DataFrame.from_dict(data)"
   ]
  },
  {
   "cell_type": "code",
   "execution_count": 6,
   "metadata": {},
   "outputs": [
    {
     "data": {
      "text/html": [
       "<div>\n",
       "<style scoped>\n",
       "    .dataframe tbody tr th:only-of-type {\n",
       "        vertical-align: middle;\n",
       "    }\n",
       "\n",
       "    .dataframe tbody tr th {\n",
       "        vertical-align: top;\n",
       "    }\n",
       "\n",
       "    .dataframe thead th {\n",
       "        text-align: right;\n",
       "    }\n",
       "</style>\n",
       "<table border=\"1\" class=\"dataframe\">\n",
       "  <thead>\n",
       "    <tr style=\"text-align: right;\">\n",
       "      <th></th>\n",
       "      <th>Pattern</th>\n",
       "      <th>Destination</th>\n",
       "      <th>ExpectedLeaveTime</th>\n",
       "      <th>ExpectedCountdown</th>\n",
       "      <th>ScheduleStatus</th>\n",
       "      <th>CancelledTrip</th>\n",
       "      <th>CancelledStop</th>\n",
       "      <th>AddedTrip</th>\n",
       "      <th>AddedStop</th>\n",
       "      <th>LastUpdate</th>\n",
       "    </tr>\n",
       "  </thead>\n",
       "  <tbody>\n",
       "    <tr>\n",
       "      <th>0</th>\n",
       "      <td>E1</td>\n",
       "      <td>COMM'L-BDWAY STN</td>\n",
       "      <td>10:26pm 2022-02-04</td>\n",
       "      <td>0</td>\n",
       "      <td>-</td>\n",
       "      <td>False</td>\n",
       "      <td>False</td>\n",
       "      <td>False</td>\n",
       "      <td>False</td>\n",
       "      <td>10:23:58 pm</td>\n",
       "    </tr>\n",
       "    <tr>\n",
       "      <th>1</th>\n",
       "      <td>E1</td>\n",
       "      <td>COMM'L-BDWAY STN</td>\n",
       "      <td>10:32pm 2022-02-04</td>\n",
       "      <td>6</td>\n",
       "      <td>*</td>\n",
       "      <td>False</td>\n",
       "      <td>False</td>\n",
       "      <td>False</td>\n",
       "      <td>False</td>\n",
       "      <td>09:32:10 pm</td>\n",
       "    </tr>\n",
       "    <tr>\n",
       "      <th>2</th>\n",
       "      <td>E8FL2</td>\n",
       "      <td>TO BOUNDARY B-LINE</td>\n",
       "      <td>10:42pm 2022-02-04</td>\n",
       "      <td>16</td>\n",
       "      <td>*</td>\n",
       "      <td>False</td>\n",
       "      <td>False</td>\n",
       "      <td>False</td>\n",
       "      <td>False</td>\n",
       "      <td>09:42:19 pm</td>\n",
       "    </tr>\n",
       "    <tr>\n",
       "      <th>3</th>\n",
       "      <td>E1</td>\n",
       "      <td>COMM'L-BDWAY STN</td>\n",
       "      <td>10:52pm 2022-02-04</td>\n",
       "      <td>26</td>\n",
       "      <td>*</td>\n",
       "      <td>False</td>\n",
       "      <td>False</td>\n",
       "      <td>False</td>\n",
       "      <td>False</td>\n",
       "      <td>09:52:12 pm</td>\n",
       "    </tr>\n",
       "    <tr>\n",
       "      <th>4</th>\n",
       "      <td>E1</td>\n",
       "      <td>COMM'L-BDWAY STN</td>\n",
       "      <td>11:04pm 2022-02-04</td>\n",
       "      <td>38</td>\n",
       "      <td></td>\n",
       "      <td>False</td>\n",
       "      <td>False</td>\n",
       "      <td>False</td>\n",
       "      <td>False</td>\n",
       "      <td>10:04:09 pm</td>\n",
       "    </tr>\n",
       "    <tr>\n",
       "      <th>5</th>\n",
       "      <td>E1</td>\n",
       "      <td>COMM'L-BDWAY STN</td>\n",
       "      <td>11:16pm 2022-02-04</td>\n",
       "      <td>50</td>\n",
       "      <td></td>\n",
       "      <td>False</td>\n",
       "      <td>False</td>\n",
       "      <td>False</td>\n",
       "      <td>False</td>\n",
       "      <td>10:16:00 pm</td>\n",
       "    </tr>\n",
       "  </tbody>\n",
       "</table>\n",
       "</div>"
      ],
      "text/plain": [
       "  Pattern         Destination   ExpectedLeaveTime  ExpectedCountdown  \\\n",
       "0      E1    COMM'L-BDWAY STN  10:26pm 2022-02-04                  0   \n",
       "1      E1    COMM'L-BDWAY STN  10:32pm 2022-02-04                  6   \n",
       "2   E8FL2  TO BOUNDARY B-LINE  10:42pm 2022-02-04                 16   \n",
       "3      E1    COMM'L-BDWAY STN  10:52pm 2022-02-04                 26   \n",
       "4      E1    COMM'L-BDWAY STN  11:04pm 2022-02-04                 38   \n",
       "5      E1    COMM'L-BDWAY STN  11:16pm 2022-02-04                 50   \n",
       "\n",
       "  ScheduleStatus  CancelledTrip  CancelledStop  AddedTrip  AddedStop  \\\n",
       "0              -          False          False      False      False   \n",
       "1              *          False          False      False      False   \n",
       "2              *          False          False      False      False   \n",
       "3              *          False          False      False      False   \n",
       "4                         False          False      False      False   \n",
       "5                         False          False      False      False   \n",
       "\n",
       "    LastUpdate  \n",
       "0  10:23:58 pm  \n",
       "1  09:32:10 pm  \n",
       "2  09:42:19 pm  \n",
       "3  09:52:12 pm  \n",
       "4  10:04:09 pm  \n",
       "5  10:16:00 pm  "
      ]
     },
     "execution_count": 6,
     "metadata": {},
     "output_type": "execute_result"
    }
   ],
   "source": [
    "df"
   ]
  },
  {
   "cell_type": "code",
   "execution_count": 7,
   "metadata": {
    "scrolled": true,
    "slideshow": {
     "slide_type": "slide"
    }
   },
   "outputs": [
    {
     "data": {
      "text/plain": [
       "<Response [200]>"
      ]
     },
     "execution_count": 7,
     "metadata": {},
     "output_type": "execute_result"
    }
   ],
   "source": [
    "from IPython.display import JSON\n",
    "request_url = 'https://api.translink.ca/rttiapi/v1/stops?apikey={}&lat={}&long={}'.format(apikey, 49.248523, -123.108800)\n",
    "response = requests.get(request_url, headers={'accept': 'application/JSON'})\n",
    "response\n"
   ]
  },
  {
   "cell_type": "code",
   "execution_count": 8,
   "metadata": {
    "scrolled": true
   },
   "outputs": [
    {
     "data": {
      "text/html": [
       "<div>\n",
       "<style scoped>\n",
       "    .dataframe tbody tr th:only-of-type {\n",
       "        vertical-align: middle;\n",
       "    }\n",
       "\n",
       "    .dataframe tbody tr th {\n",
       "        vertical-align: top;\n",
       "    }\n",
       "\n",
       "    .dataframe thead th {\n",
       "        text-align: right;\n",
       "    }\n",
       "</style>\n",
       "<table border=\"1\" class=\"dataframe\">\n",
       "  <thead>\n",
       "    <tr style=\"text-align: right;\">\n",
       "      <th></th>\n",
       "      <th>StopNo</th>\n",
       "      <th>Name</th>\n",
       "      <th>BayNo</th>\n",
       "      <th>City</th>\n",
       "      <th>OnStreet</th>\n",
       "      <th>AtStreet</th>\n",
       "      <th>Latitude</th>\n",
       "      <th>Longitude</th>\n",
       "      <th>WheelchairAccess</th>\n",
       "      <th>Distance</th>\n",
       "      <th>Routes</th>\n",
       "    </tr>\n",
       "  </thead>\n",
       "  <tbody>\n",
       "    <tr>\n",
       "      <th>0</th>\n",
       "      <td>51516</td>\n",
       "      <td>EB W KING EDWARD AVE FS MANITOBA ST</td>\n",
       "      <td>N</td>\n",
       "      <td>VANCOUVER</td>\n",
       "      <td>W KING EDWARD AVE</td>\n",
       "      <td>MANITOBA ST</td>\n",
       "      <td>49.248819</td>\n",
       "      <td>-123.107042</td>\n",
       "      <td>1</td>\n",
       "      <td>132</td>\n",
       "      <td></td>\n",
       "    </tr>\n",
       "    <tr>\n",
       "      <th>1</th>\n",
       "      <td>51573</td>\n",
       "      <td>WB W KING EDWARD AVE FS COLUMBIA ST</td>\n",
       "      <td>N</td>\n",
       "      <td>VANCOUVER</td>\n",
       "      <td>W KING EDWARD AVE</td>\n",
       "      <td>COLUMBIA ST</td>\n",
       "      <td>49.249023</td>\n",
       "      <td>-123.110516</td>\n",
       "      <td>1</td>\n",
       "      <td>136</td>\n",
       "      <td>025</td>\n",
       "    </tr>\n",
       "    <tr>\n",
       "      <th>2</th>\n",
       "      <td>51514</td>\n",
       "      <td>EB W KING EDWARD AVE FS YUKON ST</td>\n",
       "      <td>N</td>\n",
       "      <td>VANCOUVER</td>\n",
       "      <td>W KING EDWARD AVE</td>\n",
       "      <td>YUKON ST</td>\n",
       "      <td>49.248820</td>\n",
       "      <td>-123.111720</td>\n",
       "      <td>1</td>\n",
       "      <td>215</td>\n",
       "      <td></td>\n",
       "    </tr>\n",
       "    <tr>\n",
       "      <th>3</th>\n",
       "      <td>51572</td>\n",
       "      <td>WB W KING EDWARD AVE FS ONTARIO ST</td>\n",
       "      <td>N</td>\n",
       "      <td>VANCOUVER</td>\n",
       "      <td>W KING EDWARD AVE</td>\n",
       "      <td>ONTARIO ST</td>\n",
       "      <td>49.248922</td>\n",
       "      <td>-123.105388</td>\n",
       "      <td>1</td>\n",
       "      <td>252</td>\n",
       "      <td>025</td>\n",
       "    </tr>\n",
       "    <tr>\n",
       "      <th>4</th>\n",
       "      <td>60335</td>\n",
       "      <td>EB E KING EDWARD AVE FS ONTARIO ST</td>\n",
       "      <td>N</td>\n",
       "      <td>VANCOUVER</td>\n",
       "      <td>E KING EDWARD AVE</td>\n",
       "      <td>ONTARIO ST</td>\n",
       "      <td>49.248771</td>\n",
       "      <td>-123.104633</td>\n",
       "      <td>1</td>\n",
       "      <td>304</td>\n",
       "      <td>025</td>\n",
       "    </tr>\n",
       "    <tr>\n",
       "      <th>5</th>\n",
       "      <td>51513</td>\n",
       "      <td>KING EDWARD STN BAY 3</td>\n",
       "      <td>3</td>\n",
       "      <td>VANCOUVER</td>\n",
       "      <td>KING EDWARD STN</td>\n",
       "      <td>BAY 3</td>\n",
       "      <td>49.248866</td>\n",
       "      <td>-123.114707</td>\n",
       "      <td>1</td>\n",
       "      <td>430</td>\n",
       "      <td>025</td>\n",
       "    </tr>\n",
       "    <tr>\n",
       "      <th>6</th>\n",
       "      <td>51517</td>\n",
       "      <td>EB E KING EDWARD AVE FS QUEBEC ST</td>\n",
       "      <td>N</td>\n",
       "      <td>VANCOUVER</td>\n",
       "      <td>E KING EDWARD AVE</td>\n",
       "      <td>QUEBEC ST</td>\n",
       "      <td>49.248736</td>\n",
       "      <td>-123.102742</td>\n",
       "      <td>0</td>\n",
       "      <td>440</td>\n",
       "      <td></td>\n",
       "    </tr>\n",
       "    <tr>\n",
       "      <th>7</th>\n",
       "      <td>61372</td>\n",
       "      <td>KING EDWARD STATION PLATFORM 1</td>\n",
       "      <td>N</td>\n",
       "      <td>VANCOUVER</td>\n",
       "      <td>KING EDWARD STATION</td>\n",
       "      <td>PLATFORM 1</td>\n",
       "      <td>49.249172</td>\n",
       "      <td>-123.115228</td>\n",
       "      <td>0</td>\n",
       "      <td>472</td>\n",
       "      <td></td>\n",
       "    </tr>\n",
       "    <tr>\n",
       "      <th>8</th>\n",
       "      <td>50475</td>\n",
       "      <td>KING EDWARD STN BAY 2</td>\n",
       "      <td>2</td>\n",
       "      <td>VANCOUVER</td>\n",
       "      <td>KING EDWARD STN</td>\n",
       "      <td>BAY 2</td>\n",
       "      <td>49.249415</td>\n",
       "      <td>-123.115245</td>\n",
       "      <td>1</td>\n",
       "      <td>478</td>\n",
       "      <td>015, 033, N15</td>\n",
       "    </tr>\n",
       "    <tr>\n",
       "      <th>9</th>\n",
       "      <td>61253</td>\n",
       "      <td>NB CAMBIE ST FS W 27 AVE</td>\n",
       "      <td>N</td>\n",
       "      <td>VANCOUVER</td>\n",
       "      <td>CAMBIE ST</td>\n",
       "      <td>W 27 AVE</td>\n",
       "      <td>49.247293</td>\n",
       "      <td>-123.115175</td>\n",
       "      <td>1</td>\n",
       "      <td>483</td>\n",
       "      <td></td>\n",
       "    </tr>\n",
       "  </tbody>\n",
       "</table>\n",
       "</div>"
      ],
      "text/plain": [
       "   StopNo                                 Name BayNo       City  \\\n",
       "0   51516  EB W KING EDWARD AVE FS MANITOBA ST     N  VANCOUVER   \n",
       "1   51573  WB W KING EDWARD AVE FS COLUMBIA ST     N  VANCOUVER   \n",
       "2   51514     EB W KING EDWARD AVE FS YUKON ST     N  VANCOUVER   \n",
       "3   51572   WB W KING EDWARD AVE FS ONTARIO ST     N  VANCOUVER   \n",
       "4   60335   EB E KING EDWARD AVE FS ONTARIO ST     N  VANCOUVER   \n",
       "5   51513                KING EDWARD STN BAY 3     3  VANCOUVER   \n",
       "6   51517    EB E KING EDWARD AVE FS QUEBEC ST     N  VANCOUVER   \n",
       "7   61372       KING EDWARD STATION PLATFORM 1     N  VANCOUVER   \n",
       "8   50475                KING EDWARD STN BAY 2     2  VANCOUVER   \n",
       "9   61253             NB CAMBIE ST FS W 27 AVE     N  VANCOUVER   \n",
       "\n",
       "              OnStreet     AtStreet   Latitude   Longitude  WheelchairAccess  \\\n",
       "0    W KING EDWARD AVE  MANITOBA ST  49.248819 -123.107042                 1   \n",
       "1    W KING EDWARD AVE  COLUMBIA ST  49.249023 -123.110516                 1   \n",
       "2    W KING EDWARD AVE     YUKON ST  49.248820 -123.111720                 1   \n",
       "3    W KING EDWARD AVE   ONTARIO ST  49.248922 -123.105388                 1   \n",
       "4    E KING EDWARD AVE   ONTARIO ST  49.248771 -123.104633                 1   \n",
       "5      KING EDWARD STN        BAY 3  49.248866 -123.114707                 1   \n",
       "6    E KING EDWARD AVE    QUEBEC ST  49.248736 -123.102742                 0   \n",
       "7  KING EDWARD STATION   PLATFORM 1  49.249172 -123.115228                 0   \n",
       "8      KING EDWARD STN        BAY 2  49.249415 -123.115245                 1   \n",
       "9            CAMBIE ST     W 27 AVE  49.247293 -123.115175                 1   \n",
       "\n",
       "   Distance         Routes  \n",
       "0       132                 \n",
       "1       136            025  \n",
       "2       215                 \n",
       "3       252            025  \n",
       "4       304            025  \n",
       "5       430            025  \n",
       "6       440                 \n",
       "7       472                 \n",
       "8       478  015, 033, N15  \n",
       "9       483                 "
      ]
     },
     "execution_count": 8,
     "metadata": {},
     "output_type": "execute_result"
    }
   ],
   "source": [
    "pd.DataFrame.from_dict(response.json())"
   ]
  },
  {
   "cell_type": "code",
   "execution_count": 9,
   "metadata": {},
   "outputs": [
    {
     "data": {
      "text/plain": [
       "10"
      ]
     },
     "execution_count": 9,
     "metadata": {},
     "output_type": "execute_result"
    }
   ],
   "source": [
    "data = response.json()\n",
    "len(data)"
   ]
  },
  {
   "cell_type": "code",
   "execution_count": 10,
   "metadata": {
    "scrolled": true
   },
   "outputs": [
    {
     "data": {
      "text/plain": [
       "['EB W KING EDWARD AVE FS MANITOBA ST',\n",
       " 'WB W KING EDWARD AVE FS COLUMBIA ST',\n",
       " 'EB W KING EDWARD AVE FS YUKON ST',\n",
       " 'WB W KING EDWARD AVE FS ONTARIO ST',\n",
       " 'EB E KING EDWARD AVE FS ONTARIO ST',\n",
       " 'KING EDWARD STN BAY 3',\n",
       " 'EB E KING EDWARD AVE FS QUEBEC ST',\n",
       " 'KING EDWARD STATION PLATFORM 1',\n",
       " 'KING EDWARD STN BAY 2']"
      ]
     },
     "execution_count": 10,
     "metadata": {},
     "output_type": "execute_result"
    }
   ],
   "source": [
    "new_list =[]\n",
    "\n",
    "for i in range(0, len(data)-1):\n",
    "    r = data[i]['Name']\n",
    "    new_list.append(r)\n",
    "new_list"
   ]
  },
  {
   "cell_type": "markdown",
   "metadata": {
    "slideshow": {
     "slide_type": "slide"
    }
   },
   "source": [
    "## HTTP Requests\n",
    "- Hypertext Transfer Protocol\n",
    "\n",
    "- When you access a website (through an URL), you are:\n",
    "    - \"sending a HTTP GET request to the server to retrieve data\"\n",
    "    - \"data\" can be a webpage that is displayed, it can be JSON from an API\n"
   ]
  },
  {
   "cell_type": "markdown",
   "metadata": {
    "slideshow": {
     "slide_type": "slide"
    }
   },
   "source": [
    "\n",
    "- When you access a website, you know it worked if it loaded\n",
    "    - Status codes are helpful when you're working with code\n",
    "\n",
    "- Common HTTP status codes:\n",
    "    - 200 OK\n",
    "    - 400 Bad Request\n",
    "    - 401 Unauthorized\n",
    "    - 404 Not Found"
   ]
  },
  {
   "cell_type": "code",
   "execution_count": 11,
   "metadata": {
    "slideshow": {
     "slide_type": "fragment"
    }
   },
   "outputs": [
    {
     "data": {
      "text/plain": [
       "<Response [404]>"
      ]
     },
     "execution_count": 11,
     "metadata": {},
     "output_type": "execute_result"
    }
   ],
   "source": [
    "# Something with a bad request\n",
    "requests.get('https://api.github.com/users/sedv8809')"
   ]
  },
  {
   "cell_type": "code",
   "execution_count": 12,
   "metadata": {
    "slideshow": {
     "slide_type": "fragment"
    }
   },
   "outputs": [
    {
     "data": {
      "text/plain": [
       "<Response [200]>"
      ]
     },
     "execution_count": 12,
     "metadata": {},
     "output_type": "execute_result"
    }
   ],
   "source": [
    "# Something with a good request\n",
    "requests.get('https://api.github.com/users/sedv8808')"
   ]
  },
  {
   "cell_type": "markdown",
   "metadata": {
    "slideshow": {
     "slide_type": "slide"
    }
   },
   "source": [
    "### The Anatomy Of A Request\n",
    "\n",
    "It’s important to know that a request is made up of four things:\n",
    "\n",
    "1. The endpoint <- the URL you are pointing to.\n",
    "\n",
    "2. The method <- `get` , there are others but not today\n",
    "\n",
    "3. The headers <- `accept JSON`\n",
    "\n",
    "4. The data (or body) <- what we use to work with"
   ]
  },
  {
   "cell_type": "markdown",
   "metadata": {
    "slideshow": {
     "slide_type": "slide"
    }
   },
   "source": [
    "## Use Cases"
   ]
  },
  {
   "cell_type": "markdown",
   "metadata": {
    "slideshow": {
     "slide_type": "slide"
    }
   },
   "source": [
    "## 1. Getting a README from GitHub"
   ]
  },
  {
   "cell_type": "code",
   "execution_count": 13,
   "metadata": {
    "slideshow": {
     "slide_type": "slide"
    }
   },
   "outputs": [],
   "source": [
    "import base64\n",
    "\n",
    "def get_readme(url, token):\n",
    "    '''Document your function'''\n",
    "    url_to_api_endpoint = url.replace('https://github.com/', '')\n",
    "    new_url = 'https://api.github.com/repos/' + url_to_api_endpoint + '/contents/README.md'\n",
    "    headers = {'Authorization': f'token {token}', 'accept': 'application/JSON'}\n",
    "    \n",
    "    try:\n",
    "        readme = requests.get(new_url, headers=headers).json()\n",
    "        readme = readme['content']\n",
    "        readme = base64.b64decode(readme)\n",
    "    except:\n",
    "        readme = \"Missing\"\n",
    "\n",
    "    return readme"
   ]
  },
  {
   "cell_type": "code",
   "execution_count": 14,
   "metadata": {
    "slideshow": {
     "slide_type": "slide"
    }
   },
   "outputs": [],
   "source": [
    "url = 'https://github.com/UBC-MDS/exploratory-data-viz'\n",
    "token = cfg.github_api['secret']"
   ]
  },
  {
   "cell_type": "code",
   "execution_count": 15,
   "metadata": {
    "slideshow": {
     "slide_type": "slide"
    }
   },
   "outputs": [
    {
     "data": {
      "text/plain": [
       "b'## Key Capabilities in Data Science: Data Visualization\\n\\n[![Netlify Status](https://api.netlify.com/api/v1/badges/17c9c1dc-7623-4871-bcb5-543d3e0a8952/deploy-status)](https://app.netlify.com/sites/exploratory-data-visualization/deploys)\\n\\nHosted here: [https://exploratory-data-visualization.netlify.app/](https://exploratory-data-visualization.netlify.app/)\\n\\n### View locally with Docker\\n\\nTo view the course locally with Docker:\\n\\n1. Install docker and docker-compose\\n\\n2. Clone this GitHub repo, and then from the root of this project repo type: `docker-compose up`\\n\\n3. Then copy this url to the browser: `http://localhost:8000`\\n'"
      ]
     },
     "execution_count": 15,
     "metadata": {},
     "output_type": "execute_result"
    }
   ],
   "source": [
    "get_readme(url = url, token=token)"
   ]
  },
  {
   "cell_type": "markdown",
   "metadata": {},
   "source": [
    "## 1. Getting Tweets with a Specific #"
   ]
  },
  {
   "cell_type": "code",
   "execution_count": 16,
   "metadata": {},
   "outputs": [],
   "source": [
    "import twitter\n",
    "import json"
   ]
  },
  {
   "cell_type": "markdown",
   "metadata": {},
   "source": [
    "Using [Twitter](https://python-twitter.readthedocs.io/en/latest/twitter.html)'s Wrapping Methods"
   ]
  },
  {
   "cell_type": "code",
   "execution_count": 20,
   "metadata": {},
   "outputs": [],
   "source": [
    "api = twitter.Api(consumer_key = cfg.twitter_api['consumer_key'],\n",
    "                  consumer_secret = cfg.twitter_api['consumer_secret'],\n",
    "                  access_token_key = cfg.twitter_api['access_token'],\n",
    "                  access_token_secret = cfg.twitter_api['access_token_secret'])"
   ]
  },
  {
   "cell_type": "code",
   "execution_count": 31,
   "metadata": {},
   "outputs": [],
   "source": [
    "# FOLLOWING FUNCTION WILL COLLECT REAL-TIME TWEETS IN OUR COMPUTER\n",
    "\n",
    "# data returned will be for any tweet mentioning strings in the list FILTER\n",
    "FILTER = ['datascience']\n",
    "\n",
    "# Languages to filter tweets by is a list. This will be joined by Twitter\n",
    "# to return data mentioning tweets only in the english language.\n",
    "LANGUAGES = ['en']\n",
    "\n",
    "\n",
    "def retrieve_tweets(path, FILTER, LANGUAGES):\n",
    "    with open(path + 'output.txt', 'a') as f:\n",
    "        # api.GetStreamFilter will return a generator that yields one status\n",
    "        # message (i.e., Tweet) at a time as a JSON dictionary.\n",
    "        counter = 0\n",
    "        for line in api.GetStreamFilter(track=FILTER, languages=LANGUAGES):\n",
    "            counter += 1\n",
    "            f.write(json.dumps(line))\n",
    "            f.write('\\n')\n",
    "            print(counter)\n",
    "            if counter == 5:\n",
    "                break"
   ]
  },
  {
   "cell_type": "code",
   "execution_count": 32,
   "metadata": {},
   "outputs": [
    {
     "name": "stdout",
     "output_type": "stream",
     "text": [
      "1\n",
      "2\n",
      "3\n",
      "4\n",
      "5\n",
      "6\n",
      "7\n",
      "8\n",
      "9\n",
      "10\n"
     ]
    }
   ],
   "source": [
    "retrieve_tweets(path='', FILTER=FILTER, LANGUAGES=LANGUAGES)"
   ]
  },
  {
   "cell_type": "code",
   "execution_count": 33,
   "metadata": {},
   "outputs": [],
   "source": [
    "?api.GetStreamFilter"
   ]
  },
  {
   "cell_type": "code",
   "execution_count": null,
   "metadata": {},
   "outputs": [],
   "source": []
  }
 ],
 "metadata": {
  "celltoolbar": "Slideshow",
  "kernelspec": {
   "display_name": "Python 3",
   "language": "python",
   "name": "python3"
  },
  "language_info": {
   "codemirror_mode": {
    "name": "ipython",
    "version": 3
   },
   "file_extension": ".py",
   "mimetype": "text/x-python",
   "name": "python",
   "nbconvert_exporter": "python",
   "pygments_lexer": "ipython3",
   "version": "3.7.4"
  }
 },
 "nbformat": 4,
 "nbformat_minor": 4
}
