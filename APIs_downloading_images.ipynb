{
 "cells": [
  {
   "cell_type": "markdown",
   "metadata": {
    "slideshow": {
     "slide_type": "slide"
    }
   },
   "source": [
    "## UBC Intro to Machine Learning\n",
    "\n",
    "###  APIs\n",
    "Instructor: Socorro Dominguez  \n",
    "February 05, 2022\n",
    "\n",
    "## Exercise to try in your local machine"
   ]
  },
  {
   "cell_type": "markdown",
   "metadata": {},
   "source": [
    "## Motivation\n",
    "\n",
    "For our ML class, we want to do a Classifier that differentiates images from dogs and cats.\n",
    "\n",
    "## Problem\n",
    "We need a dataset to do this. Our friends don't have enough cats and dogs. \n",
    "Let's take free, open and legal data from the [Unsplash Image API](https://unsplash.com/developers).\n",
    "\n",
    "## Caveats\n",
    "Sometimes, raw data is unsuitable for machine learning algorithms. For instance, we may want:\n",
    "- Only images that are landscape (i.e. width > height)\n",
    "- All our images to be of the same resolution"
   ]
  },
  {
   "cell_type": "markdown",
   "metadata": {},
   "source": [
    "---\n",
    "## Step 1: Get cat and dog image URLs from the API\n",
    "We will use the [`search/photos` GET method](https://unsplash.com/documentation#search-photos)."
   ]
  },
  {
   "cell_type": "code",
   "execution_count": null,
   "metadata": {},
   "outputs": [],
   "source": [
    "import requests\n",
    "import config as cfg\n",
    "\n",
    "# API variables\n",
    "root_endpoint = 'https://api.unsplash.com/'\n",
    "client_id = cfg.splash['key']\n",
    "\n",
    "# Wrapper function for making API calls and grabbing results\n",
    "def search_photos(search_term):\n",
    "    api_method = 'search/photos'\n",
    "    endpoint = root_endpoint + api_method\n",
    "    response = requests.get(endpoint, \n",
    "                      params={'query': search_term, 'per_page': 30, 'client_id': client_id})\n",
    "    status_code, result = response.status_code, response.json()\n",
    "    \n",
    "    if status_code != 200:\n",
    "        print(f'Bad status code: {status_code}')\n",
    "        \n",
    "    image_urls = [img['urls']['small'] for img in result['results']]\n",
    "    \n",
    "    return image_urls"
   ]
  },
  {
   "cell_type": "code",
   "execution_count": null,
   "metadata": {},
   "outputs": [],
   "source": [
    "dog_urls = search_photos('dog')\n",
    "cat_urls = search_photos('cat')"
   ]
  },
  {
   "cell_type": "code",
   "execution_count": null,
   "metadata": {},
   "outputs": [],
   "source": [
    "dog_urls"
   ]
  },
  {
   "cell_type": "markdown",
   "metadata": {},
   "source": [
    "---\n",
    "## Step 2: Download  the images from the URLs\n",
    "(Step 2a: Google [how to download an image from a URL in Python](https://stackoverflow.com/a/40944159))\n",
    "\n",
    "We'll just define the function to download an image for now. Later on, we'll use it on images one at a time (but after doing some processing)."
   ]
  },
  {
   "cell_type": "code",
   "execution_count": null,
   "metadata": {},
   "outputs": [],
   "source": [
    "from PIL import Image\n",
    "\n",
    "def download_image(url):\n",
    "    image = Image.open(re.get(url, stream=True).raw)\n",
    "    return image"
   ]
  },
  {
   "cell_type": "code",
   "execution_count": null,
   "metadata": {},
   "outputs": [],
   "source": [
    "test_img = download_image(cat_urls[0])\n",
    "test_img.show()"
   ]
  },
  {
   "cell_type": "markdown",
   "metadata": {},
   "source": [
    "---\n",
    "## Step 3: Download and save images that meet our requirements\n",
    "We'll need to know how to work with the [PIL Image data type](https://pillow.readthedocs.io/en/stable/reference/Image.html), which is what our `download_image(url)` function returns. Namely, we need to be able to a) get it's resolution and b) resize it."
   ]
  },
  {
   "cell_type": "code",
   "execution_count": null,
   "metadata": {},
   "outputs": [],
   "source": [
    "import os\n",
    "\n",
    "def is_landscape(image):\n",
    "    return image.width > image.height\n",
    "\n",
    "\n",
    "def save_category_images(urls, category_name, resolution=(256, 256)):\n",
    "    save_folder = f'saved_images/{category_name}'\n",
    "    if not os.path.exists(save_folder):\n",
    "        os.mkdir(save_folder)\n",
    "        \n",
    "    for i, url in enumerate(urls):\n",
    "        image = download_image(url)\n",
    "        if is_landscape(image):\n",
    "            image = image.resize(resolution)\n",
    "            filename = f'{i:05d}.jpg'\n",
    "            image.save(os.path.join(save_folder, filename))"
   ]
  },
  {
   "cell_type": "code",
   "execution_count": null,
   "metadata": {},
   "outputs": [],
   "source": [
    "save_category_images(dog_urls, 'dogs')\n",
    "save_category_images(cat_urls, 'cats')"
   ]
  }
 ],
 "metadata": {
  "kernelspec": {
   "display_name": "Python 3",
   "language": "python",
   "name": "python3"
  },
  "language_info": {
   "codemirror_mode": {
    "name": "ipython",
    "version": 3
   },
   "file_extension": ".py",
   "mimetype": "text/x-python",
   "name": "python",
   "nbconvert_exporter": "python",
   "pygments_lexer": "ipython3",
   "version": "3.7.4"
  }
 },
 "nbformat": 4,
 "nbformat_minor": 4
}
