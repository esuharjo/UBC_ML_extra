{
 "cells": [
  {
   "cell_type": "markdown",
   "metadata": {
    "slideshow": {
     "slide_type": "slide"
    }
   },
   "source": [
    "## UBC Intro to Machine Learning\n",
    "\n",
    "###  APIs\n",
    "Instructor: Socorro Dominguez  \n",
    "February 05, 2022\n",
    "\n",
    "## Exercise to try in your local machine"
   ]
  },
  {
   "cell_type": "markdown",
   "metadata": {},
   "source": [
    "## Motivation\n",
    "\n",
    "For our ML class, we want to do a Classifier that differentiates images from dogs and cats.\n",
    "\n",
    "## Problem\n",
    "We need a dataset to do this. Our friends don't have enough cats and dogs. \n",
    "Let's take free, open and legal data from the [Unsplash Image API](https://unsplash.com/developers).\n",
    "\n",
    "## Caveats\n",
    "Sometimes, raw data is unsuitable for machine learning algorithms. For instance, we may want:\n",
    "- Only images that are landscape (i.e. width > height)\n",
    "- All our images to be of the same resolution"
   ]
  },
  {
   "cell_type": "markdown",
   "metadata": {},
   "source": [
    "---\n",
    "## Step 1: Get cat and dog image URLs from the API\n",
    "We will use the [`search/photos` GET method](https://unsplash.com/documentation#search-photos)."
   ]
  },
  {
   "cell_type": "code",
   "execution_count": 3,
   "metadata": {},
   "outputs": [],
   "source": [
    "import requests\n",
    "import config as cfg\n",
    "\n",
    "# API variables\n",
    "root_endpoint = 'https://api.unsplash.com/'\n",
    "client_id = cfg.splash['key']\n",
    "\n",
    "# Wrapper function for making API calls and grabbing results\n",
    "def search_photos(search_term):\n",
    "    api_method = 'search/photos'\n",
    "    endpoint = root_endpoint + api_method\n",
    "    response = requests.get(endpoint, \n",
    "                      params={'query': search_term, 'per_page': 30, 'client_id': client_id})\n",
    "    status_code, result = response.status_code, response.json()\n",
    "    \n",
    "    if status_code != 200:\n",
    "        print(f'Bad status code: {status_code}')\n",
    "        \n",
    "    image_urls = [img['urls']['small'] for img in result['results']]\n",
    "    \n",
    "    return image_urls"
   ]
  },
  {
   "cell_type": "code",
   "execution_count": 4,
   "metadata": {},
   "outputs": [],
   "source": [
    "dog_urls = search_photos('dog')\n",
    "cat_urls = search_photos('cat')"
   ]
  },
  {
   "cell_type": "code",
   "execution_count": 5,
   "metadata": {},
   "outputs": [
    {
     "data": {
      "text/plain": [
       "['https://images.unsplash.com/photo-1530281700549-e82e7bf110d6?crop=entropy&cs=tinysrgb&fit=max&fm=jpg&ixid=MnwxOTY1NDl8MHwxfHNlYXJjaHwxfHxkb2d8ZW58MHx8fHwxNjQ0MDQxMzQy&ixlib=rb-1.2.1&q=80&w=400',\n",
       " 'https://images.unsplash.com/photo-1552053831-71594a27632d?crop=entropy&cs=tinysrgb&fit=max&fm=jpg&ixid=MnwxOTY1NDl8MHwxfHNlYXJjaHwyfHxkb2d8ZW58MHx8fHwxNjQ0MDQxMzQy&ixlib=rb-1.2.1&q=80&w=400',\n",
       " 'https://images.unsplash.com/photo-1561037404-61cd46aa615b?crop=entropy&cs=tinysrgb&fit=max&fm=jpg&ixid=MnwxOTY1NDl8MHwxfHNlYXJjaHwzfHxkb2d8ZW58MHx8fHwxNjQ0MDQxMzQy&ixlib=rb-1.2.1&q=80&w=400',\n",
       " 'https://images.unsplash.com/photo-1543466835-00a7907e9de1?crop=entropy&cs=tinysrgb&fit=max&fm=jpg&ixid=MnwxOTY1NDl8MHwxfHNlYXJjaHw0fHxkb2d8ZW58MHx8fHwxNjQ0MDQxMzQy&ixlib=rb-1.2.1&q=80&w=400',\n",
       " 'https://images.unsplash.com/photo-1587300003388-59208cc962cb?crop=entropy&cs=tinysrgb&fit=max&fm=jpg&ixid=MnwxOTY1NDl8MHwxfHNlYXJjaHw1fHxkb2d8ZW58MHx8fHwxNjQ0MDQxMzQy&ixlib=rb-1.2.1&q=80&w=400',\n",
       " 'https://images.unsplash.com/photo-1586671267731-da2cf3ceeb80?crop=entropy&cs=tinysrgb&fit=max&fm=jpg&ixid=MnwxOTY1NDl8MHwxfHNlYXJjaHw2fHxkb2d8ZW58MHx8fHwxNjQ0MDQxMzQy&ixlib=rb-1.2.1&q=80&w=400',\n",
       " 'https://images.unsplash.com/photo-1537151625747-768eb6cf92b2?crop=entropy&cs=tinysrgb&fit=max&fm=jpg&ixid=MnwxOTY1NDl8MHwxfHNlYXJjaHw3fHxkb2d8ZW58MHx8fHwxNjQ0MDQxMzQy&ixlib=rb-1.2.1&q=80&w=400',\n",
       " 'https://images.unsplash.com/photo-1583511655857-d19b40a7a54e?crop=entropy&cs=tinysrgb&fit=max&fm=jpg&ixid=MnwxOTY1NDl8MHwxfHNlYXJjaHw4fHxkb2d8ZW58MHx8fHwxNjQ0MDQxMzQy&ixlib=rb-1.2.1&q=80&w=400',\n",
       " 'https://images.unsplash.com/photo-1583512603805-3cc6b41f3edb?crop=entropy&cs=tinysrgb&fit=max&fm=jpg&ixid=MnwxOTY1NDl8MHwxfHNlYXJjaHw5fHxkb2d8ZW58MHx8fHwxNjQ0MDQxMzQy&ixlib=rb-1.2.1&q=80&w=400',\n",
       " 'https://images.unsplash.com/photo-1588943211346-0908a1fb0b01?crop=entropy&cs=tinysrgb&fit=max&fm=jpg&ixid=MnwxOTY1NDl8MHwxfHNlYXJjaHwxMHx8ZG9nfGVufDB8fHx8MTY0NDA0MTM0Mg&ixlib=rb-1.2.1&q=80&w=400',\n",
       " 'https://images.unsplash.com/photo-1517849845537-4d257902454a?crop=entropy&cs=tinysrgb&fit=max&fm=jpg&ixid=MnwxOTY1NDl8MHwxfHNlYXJjaHwxMXx8ZG9nfGVufDB8fHx8MTY0NDA0MTM0Mg&ixlib=rb-1.2.1&q=80&w=400',\n",
       " 'https://images.unsplash.com/photo-1576201836106-db1758fd1c97?crop=entropy&cs=tinysrgb&fit=max&fm=jpg&ixid=MnwxOTY1NDl8MHwxfHNlYXJjaHwxMnx8ZG9nfGVufDB8fHx8MTY0NDA0MTM0Mg&ixlib=rb-1.2.1&q=80&w=400',\n",
       " 'https://images.unsplash.com/photo-1560807707-8cc77767d783?crop=entropy&cs=tinysrgb&fit=max&fm=jpg&ixid=MnwxOTY1NDl8MHwxfHNlYXJjaHwxM3x8ZG9nfGVufDB8fHx8MTY0NDA0MTM0Mg&ixlib=rb-1.2.1&q=80&w=400',\n",
       " 'https://images.unsplash.com/photo-1477884213360-7e9d7dcc1e48?crop=entropy&cs=tinysrgb&fit=max&fm=jpg&ixid=MnwxOTY1NDl8MHwxfHNlYXJjaHwxNHx8ZG9nfGVufDB8fHx8MTY0NDA0MTM0Mg&ixlib=rb-1.2.1&q=80&w=400',\n",
       " 'https://images.unsplash.com/photo-1510771463146-e89e6e86560e?crop=entropy&cs=tinysrgb&fit=max&fm=jpg&ixid=MnwxOTY1NDl8MHwxfHNlYXJjaHwxNXx8ZG9nfGVufDB8fHx8MTY0NDA0MTM0Mg&ixlib=rb-1.2.1&q=80&w=400',\n",
       " 'https://images.unsplash.com/photo-1548199973-03cce0bbc87b?crop=entropy&cs=tinysrgb&fit=max&fm=jpg&ixid=MnwxOTY1NDl8MHwxfHNlYXJjaHwxNnx8ZG9nfGVufDB8fHx8MTY0NDA0MTM0Mg&ixlib=rb-1.2.1&q=80&w=400',\n",
       " 'https://images.unsplash.com/photo-1529429617124-95b109e86bb8?crop=entropy&cs=tinysrgb&fit=max&fm=jpg&ixid=MnwxOTY1NDl8MHwxfHNlYXJjaHwxN3x8ZG9nfGVufDB8fHx8MTY0NDA0MTM0Mg&ixlib=rb-1.2.1&q=80&w=400',\n",
       " 'https://images.unsplash.com/photo-1583337130417-3346a1be7dee?crop=entropy&cs=tinysrgb&fit=max&fm=jpg&ixid=MnwxOTY1NDl8MHwxfHNlYXJjaHwxOHx8ZG9nfGVufDB8fHx8MTY0NDA0MTM0Mg&ixlib=rb-1.2.1&q=80&w=400',\n",
       " 'https://images.unsplash.com/photo-1575859431774-2e57ed632664?crop=entropy&cs=tinysrgb&fit=max&fm=jpg&ixid=MnwxOTY1NDl8MHwxfHNlYXJjaHwxOXx8ZG9nfGVufDB8fHx8MTY0NDA0MTM0Mg&ixlib=rb-1.2.1&q=80&w=400',\n",
       " 'https://images.unsplash.com/photo-1546491764-67a5b8d5b3ae?crop=entropy&cs=tinysrgb&fit=max&fm=jpg&ixid=MnwxOTY1NDl8MHwxfHNlYXJjaHwyMHx8ZG9nfGVufDB8fHx8MTY0NDA0MTM0Mg&ixlib=rb-1.2.1&q=80&w=400',\n",
       " 'https://images.unsplash.com/photo-1568393691622-c7ba131d63b4?crop=entropy&cs=tinysrgb&fit=max&fm=jpg&ixid=MnwxOTY1NDl8MHwxfHNlYXJjaHwyMXx8ZG9nfGVufDB8fHx8MTY0NDA0MTM0Mg&ixlib=rb-1.2.1&q=80&w=400',\n",
       " 'https://images.unsplash.com/photo-1544568100-847a948585b9?crop=entropy&cs=tinysrgb&fit=max&fm=jpg&ixid=MnwxOTY1NDl8MHwxfHNlYXJjaHwyMnx8ZG9nfGVufDB8fHx8MTY0NDA0MTM0Mg&ixlib=rb-1.2.1&q=80&w=400',\n",
       " 'https://images.unsplash.com/photo-1534551767192-78b8dd45b51b?crop=entropy&cs=tinysrgb&fit=max&fm=jpg&ixid=MnwxOTY1NDl8MHwxfHNlYXJjaHwyM3x8ZG9nfGVufDB8fHx8MTY0NDA0MTM0Mg&ixlib=rb-1.2.1&q=80&w=400',\n",
       " 'https://images.unsplash.com/photo-1541364983171-a8ba01e95cfc?crop=entropy&cs=tinysrgb&fit=max&fm=jpg&ixid=MnwxOTY1NDl8MHwxfHNlYXJjaHwyNHx8ZG9nfGVufDB8fHx8MTY0NDA0MTM0Mg&ixlib=rb-1.2.1&q=80&w=400',\n",
       " 'https://images.unsplash.com/photo-1560525821-d5615ef80c69?crop=entropy&cs=tinysrgb&fit=max&fm=jpg&ixid=MnwxOTY1NDl8MHwxfHNlYXJjaHwyNXx8ZG9nfGVufDB8fHx8MTY0NDA0MTM0Mg&ixlib=rb-1.2.1&q=80&w=400',\n",
       " 'https://images.unsplash.com/photo-1581888227599-779811939961?crop=entropy&cs=tinysrgb&fit=max&fm=jpg&ixid=MnwxOTY1NDl8MHwxfHNlYXJjaHwyNnx8ZG9nfGVufDB8fHx8MTY0NDA0MTM0Mg&ixlib=rb-1.2.1&q=80&w=400',\n",
       " 'https://images.unsplash.com/photo-1596492784531-6e6eb5ea9993?crop=entropy&cs=tinysrgb&fit=max&fm=jpg&ixid=MnwxOTY1NDl8MHwxfHNlYXJjaHwyN3x8ZG9nfGVufDB8fHx8MTY0NDA0MTM0Mg&ixlib=rb-1.2.1&q=80&w=400',\n",
       " 'https://images.unsplash.com/photo-1558788353-f76d92427f16?crop=entropy&cs=tinysrgb&fit=max&fm=jpg&ixid=MnwxOTY1NDl8MHwxfHNlYXJjaHwyOHx8ZG9nfGVufDB8fHx8MTY0NDA0MTM0Mw&ixlib=rb-1.2.1&q=80&w=400',\n",
       " 'https://images.unsplash.com/photo-1530126483408-aa533e55bdb2?crop=entropy&cs=tinysrgb&fit=max&fm=jpg&ixid=MnwxOTY1NDl8MHwxfHNlYXJjaHwyOXx8ZG9nfGVufDB8fHx8MTY0NDA0MTM0Mw&ixlib=rb-1.2.1&q=80&w=400',\n",
       " 'https://images.unsplash.com/photo-1554456854-55a089fd4cb2?crop=entropy&cs=tinysrgb&fit=max&fm=jpg&ixid=MnwxOTY1NDl8MHwxfHNlYXJjaHwzMHx8ZG9nfGVufDB8fHx8MTY0NDA0MTM0Mw&ixlib=rb-1.2.1&q=80&w=400']"
      ]
     },
     "execution_count": 5,
     "metadata": {},
     "output_type": "execute_result"
    }
   ],
   "source": [
    "dog_urls"
   ]
  },
  {
   "cell_type": "markdown",
   "metadata": {},
   "source": [
    "---\n",
    "## Step 2: Download  the images from the URLs\n",
    "(Step 2a: Google [how to download an image from a URL in Python](https://stackoverflow.com/a/40944159))\n",
    "\n",
    "We'll just define the function to download an image for now. Later on, we'll use it on images one at a time (but after doing some processing)."
   ]
  },
  {
   "cell_type": "code",
   "execution_count": 15,
   "metadata": {},
   "outputs": [],
   "source": [
    "from PIL import Image\n",
    "\n",
    "def download_image(url):\n",
    "    image = Image.open(re.get(url, stream=True).raw)\n",
    "    return image"
   ]
  },
  {
   "cell_type": "code",
   "execution_count": 16,
   "metadata": {},
   "outputs": [],
   "source": [
    "test_img = download_image(cat_urls[0])\n",
    "test_img.show()"
   ]
  },
  {
   "cell_type": "markdown",
   "metadata": {},
   "source": [
    "---\n",
    "## Step 3: Download and save images that meet our requirements\n",
    "We'll need to know how to work with the [PIL Image data type](https://pillow.readthedocs.io/en/stable/reference/Image.html), which is what our `download_image(url)` function returns. Namely, we need to be able to a) get it's resolution and b) resize it."
   ]
  },
  {
   "cell_type": "code",
   "execution_count": 9,
   "metadata": {},
   "outputs": [],
   "source": [
    "import os\n",
    "\n",
    "def is_landscape(image):\n",
    "    return image.width > image.height\n",
    "\n",
    "\n",
    "def save_category_images(urls, category_name, resolution=(256, 256)):\n",
    "    save_folder = f'saved_images/{category_name}'\n",
    "    if not os.path.exists(save_folder):\n",
    "        os.mkdir(save_folder)\n",
    "        \n",
    "    for i, url in enumerate(urls):\n",
    "        image = download_image(url)\n",
    "        if is_landscape(image):\n",
    "            image = image.resize(resolution)\n",
    "            filename = f'{i:05d}.jpg'\n",
    "            image.save(os.path.join(save_folder, filename))"
   ]
  },
  {
   "cell_type": "code",
   "execution_count": 10,
   "metadata": {},
   "outputs": [],
   "source": [
    "save_category_images(dog_urls, 'dogs')\n",
    "save_category_images(cat_urls, 'cats')"
   ]
  }
 ],
 "metadata": {
  "kernelspec": {
   "display_name": "Python 3",
   "language": "python",
   "name": "python3"
  },
  "language_info": {
   "codemirror_mode": {
    "name": "ipython",
    "version": 3
   },
   "file_extension": ".py",
   "mimetype": "text/x-python",
   "name": "python",
   "nbconvert_exporter": "python",
   "pygments_lexer": "ipython3",
   "version": "3.7.4"
  }
 },
 "nbformat": 4,
 "nbformat_minor": 4
}
