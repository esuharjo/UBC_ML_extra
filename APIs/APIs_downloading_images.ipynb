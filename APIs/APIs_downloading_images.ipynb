{
 "cells": [
  {
   "cell_type": "markdown",
   "metadata": {
    "slideshow": {
     "slide_type": "slide"
    }
   },
   "source": [
    "## UBC Intro to Machine Learning\n",
    "\n",
    "###  APIs\n",
    "Instructor: Socorro Dominguez  \n",
    "February 05, 2022\n",
    "\n",
    "## Exercise to try in your local machine"
   ]
  },
  {
   "cell_type": "markdown",
   "metadata": {},
   "source": [
    "## Motivation\n",
    "\n",
    "For our ML class, we want to do a Classifier that differentiates images from dogs and cats.\n",
    "\n",
    "## Problem\n",
    "We need a dataset to do this. Our friends don't have enough cats and dogs. \n",
    "Let's take free, open and legal data from the [Unsplash Image API](https://unsplash.com/developers).\n",
    "\n",
    "## Caveats\n",
    "Sometimes, raw data is unsuitable for machine learning algorithms. For instance, we may want:\n",
    "- Only images that are landscape (i.e. width > height)\n",
    "- All our images to be of the same resolution"
   ]
  },
  {
   "cell_type": "markdown",
   "metadata": {},
   "source": [
    "---\n",
    "## Step 1: Get cat and dog image URLs from the API\n",
    "We will use the [`search/photos` GET method](https://unsplash.com/documentation#search-photos)."
   ]
  },
  {
   "cell_type": "code",
   "execution_count": 2,
   "metadata": {},
   "outputs": [],
   "source": [
    "import requests\n",
    "import config as cfg\n",
    "\n",
    "# API variables\n",
    "root_endpoint = 'https://api.unsplash.com/'\n",
    "client_id = cfg.splash['key']\n",
    "\n",
    "# Wrapper function for making API calls and grabbing results\n",
    "def search_photos(search_term):\n",
    "    api_method = 'search/photos'\n",
    "    endpoint = root_endpoint + api_method\n",
    "    response = requests.get(endpoint, \n",
    "                      params={'query': search_term, 'per_page': 30, 'client_id': client_id})\n",
    "    status_code, result = response.status_code, response.json()\n",
    "    \n",
    "    if status_code != 200:\n",
    "        print(f'Bad status code: {status_code}')\n",
    "        \n",
    "    image_urls = [img['urls']['small'] for img in result['results']]\n",
    "    \n",
    "    return image_urls"
   ]
  },
  {
   "cell_type": "code",
   "execution_count": 3,
   "metadata": {},
   "outputs": [],
   "source": [
    "dog_urls = search_photos('dog')\n",
    "cat_urls = search_photos('cat')"
   ]
  },
  {
   "cell_type": "code",
   "execution_count": 5,
   "metadata": {},
   "outputs": [
    {
     "data": {
      "text/plain": [
       "['https://images.unsplash.com/photo-1526336024174-e58f5cdd8e13?crop=entropy&cs=tinysrgb&fit=max&fm=jpg&ixid=MnwxOTY1NDl8MHwxfHNlYXJjaHwxfHxjYXR8ZW58MHx8fHwxNjQ0MDQxMzQz&ixlib=rb-1.2.1&q=80&w=400',\n",
       " 'https://images.unsplash.com/photo-1514888286974-6c03e2ca1dba?crop=entropy&cs=tinysrgb&fit=max&fm=jpg&ixid=MnwxOTY1NDl8MHwxfHNlYXJjaHwyfHxjYXR8ZW58MHx8fHwxNjQ0MDQxMzQz&ixlib=rb-1.2.1&q=80&w=400',\n",
       " 'https://images.unsplash.com/photo-1548247416-ec66f4900b2e?crop=entropy&cs=tinysrgb&fit=max&fm=jpg&ixid=MnwxOTY1NDl8MHwxfHNlYXJjaHwzfHxjYXR8ZW58MHx8fHwxNjQ0MDQxMzQz&ixlib=rb-1.2.1&q=80&w=400',\n",
       " 'https://images.unsplash.com/photo-1495360010541-f48722b34f7d?crop=entropy&cs=tinysrgb&fit=max&fm=jpg&ixid=MnwxOTY1NDl8MHwxfHNlYXJjaHw0fHxjYXR8ZW58MHx8fHwxNjQ0MDQxMzQz&ixlib=rb-1.2.1&q=80&w=400',\n",
       " 'https://images.unsplash.com/photo-1561948955-570b270e7c36?crop=entropy&cs=tinysrgb&fit=max&fm=jpg&ixid=MnwxOTY1NDl8MHwxfHNlYXJjaHw1fHxjYXR8ZW58MHx8fHwxNjQ0MDQxMzQz&ixlib=rb-1.2.1&q=80&w=400',\n",
       " 'https://images.unsplash.com/photo-1573865526739-10659fec78a5?crop=entropy&cs=tinysrgb&fit=max&fm=jpg&ixid=MnwxOTY1NDl8MHwxfHNlYXJjaHw2fHxjYXR8ZW58MHx8fHwxNjQ0MDQxMzQz&ixlib=rb-1.2.1&q=80&w=400',\n",
       " 'https://images.unsplash.com/photo-1543852786-1cf6624b9987?crop=entropy&cs=tinysrgb&fit=max&fm=jpg&ixid=MnwxOTY1NDl8MHwxfHNlYXJjaHw3fHxjYXR8ZW58MHx8fHwxNjQ0MDQxMzQz&ixlib=rb-1.2.1&q=80&w=400',\n",
       " 'https://images.unsplash.com/photo-1592194996308-7b43878e84a6?crop=entropy&cs=tinysrgb&fit=max&fm=jpg&ixid=MnwxOTY1NDl8MHwxfHNlYXJjaHw4fHxjYXR8ZW58MHx8fHwxNjQ0MDQxMzQz&ixlib=rb-1.2.1&q=80&w=400',\n",
       " 'https://images.unsplash.com/photo-1574158622682-e40e69881006?crop=entropy&cs=tinysrgb&fit=max&fm=jpg&ixid=MnwxOTY1NDl8MHwxfHNlYXJjaHw5fHxjYXR8ZW58MHx8fHwxNjQ0MDQxMzQz&ixlib=rb-1.2.1&q=80&w=400',\n",
       " 'https://images.unsplash.com/photo-1494256997604-768d1f608cac?crop=entropy&cs=tinysrgb&fit=max&fm=jpg&ixid=MnwxOTY1NDl8MHwxfHNlYXJjaHwxMHx8Y2F0fGVufDB8fHx8MTY0NDA0MTM0Mw&ixlib=rb-1.2.1&q=80&w=400',\n",
       " 'https://images.unsplash.com/photo-1519052537078-e6302a4968d4?crop=entropy&cs=tinysrgb&fit=max&fm=jpg&ixid=MnwxOTY1NDl8MHwxfHNlYXJjaHwxMXx8Y2F0fGVufDB8fHx8MTY0NDA0MTM0Mw&ixlib=rb-1.2.1&q=80&w=400',\n",
       " 'https://images.unsplash.com/photo-1529778873920-4da4926a72c2?crop=entropy&cs=tinysrgb&fit=max&fm=jpg&ixid=MnwxOTY1NDl8MHwxfHNlYXJjaHwxMnx8Y2F0fGVufDB8fHx8MTY0NDA0MTM0Mw&ixlib=rb-1.2.1&q=80&w=400',\n",
       " 'https://images.unsplash.com/photo-1478098711619-5ab0b478d6e6?crop=entropy&cs=tinysrgb&fit=max&fm=jpg&ixid=MnwxOTY1NDl8MHwxfHNlYXJjaHwxM3x8Y2F0fGVufDB8fHx8MTY0NDA0MTM0Mw&ixlib=rb-1.2.1&q=80&w=400',\n",
       " 'https://images.unsplash.com/photo-1511044568932-338cba0ad803?crop=entropy&cs=tinysrgb&fit=max&fm=jpg&ixid=MnwxOTY1NDl8MHwxfHNlYXJjaHwxNHx8Y2F0fGVufDB8fHx8MTY0NDA0MTM0Mw&ixlib=rb-1.2.1&q=80&w=400',\n",
       " 'https://images.unsplash.com/photo-1533743983669-94fa5c4338ec?crop=entropy&cs=tinysrgb&fit=max&fm=jpg&ixid=MnwxOTY1NDl8MHwxfHNlYXJjaHwxNXx8Y2F0fGVufDB8fHx8MTY0NDA0MTM0Mw&ixlib=rb-1.2.1&q=80&w=400',\n",
       " 'https://images.unsplash.com/photo-1533738363-b7f9aef128ce?crop=entropy&cs=tinysrgb&fit=max&fm=jpg&ixid=MnwxOTY1NDl8MHwxfHNlYXJjaHwxNnx8Y2F0fGVufDB8fHx8MTY0NDA0MTM0Mw&ixlib=rb-1.2.1&q=80&w=400',\n",
       " 'https://images.unsplash.com/photo-1529257414772-1960b7bea4eb?crop=entropy&cs=tinysrgb&fit=max&fm=jpg&ixid=MnwxOTY1NDl8MHwxfHNlYXJjaHwxN3x8Y2F0fGVufDB8fHx8MTY0NDA0MTM0Mw&ixlib=rb-1.2.1&q=80&w=400',\n",
       " 'https://images.unsplash.com/photo-1536590158209-e9d615d525e4?crop=entropy&cs=tinysrgb&fit=max&fm=jpg&ixid=MnwxOTY1NDl8MHwxfHNlYXJjaHwxOHx8Y2F0fGVufDB8fHx8MTY0NDA0MTM0Mw&ixlib=rb-1.2.1&q=80&w=400',\n",
       " 'https://images.unsplash.com/photo-1501820488136-72669149e0d4?crop=entropy&cs=tinysrgb&fit=max&fm=jpg&ixid=MnwxOTY1NDl8MHwxfHNlYXJjaHwxOXx8Y2F0fGVufDB8fHx8MTY0NDA0MTM0Mw&ixlib=rb-1.2.1&q=80&w=400',\n",
       " 'https://images.unsplash.com/photo-1606214174585-fe31582dc6ee?crop=entropy&cs=tinysrgb&fit=max&fm=jpg&ixid=MnwxOTY1NDl8MHwxfHNlYXJjaHwyMHx8Y2F0fGVufDB8fHx8MTY0NDA0MTM0Mw&ixlib=rb-1.2.1&q=80&w=400',\n",
       " 'https://images.unsplash.com/photo-1491485880348-85d48a9e5312?crop=entropy&cs=tinysrgb&fit=max&fm=jpg&ixid=MnwxOTY1NDl8MHwxfHNlYXJjaHwyMXx8Y2F0fGVufDB8fHx8MTY0NDA0MTM0Mw&ixlib=rb-1.2.1&q=80&w=400',\n",
       " 'https://images.unsplash.com/photo-1492370284958-c20b15c692d2?crop=entropy&cs=tinysrgb&fit=max&fm=jpg&ixid=MnwxOTY1NDl8MHwxfHNlYXJjaHwyMnx8Y2F0fGVufDB8fHx8MTY0NDA0MTM0Mw&ixlib=rb-1.2.1&q=80&w=400',\n",
       " 'https://images.unsplash.com/photo-1513360371669-4adf3dd7dff8?crop=entropy&cs=tinysrgb&fit=max&fm=jpg&ixid=MnwxOTY1NDl8MHwxfHNlYXJjaHwyM3x8Y2F0fGVufDB8fHx8MTY0NDA0MTM0Mw&ixlib=rb-1.2.1&q=80&w=400',\n",
       " 'https://images.unsplash.com/photo-1569591159212-b02ea8a9f239?crop=entropy&cs=tinysrgb&fit=max&fm=jpg&ixid=MnwxOTY1NDl8MHwxfHNlYXJjaHwyNHx8Y2F0fGVufDB8fHx8MTY0NDA0MTM0Mw&ixlib=rb-1.2.1&q=80&w=400',\n",
       " 'https://images.unsplash.com/photo-1596854407944-bf87f6fdd49e?crop=entropy&cs=tinysrgb&fit=max&fm=jpg&ixid=MnwxOTY1NDl8MHwxfHNlYXJjaHwyNXx8Y2F0fGVufDB8fHx8MTY0NDA0MTM0Mw&ixlib=rb-1.2.1&q=80&w=400',\n",
       " 'https://images.unsplash.com/photo-1518791841217-8f162f1e1131?crop=entropy&cs=tinysrgb&fit=max&fm=jpg&ixid=MnwxOTY1NDl8MHwxfHNlYXJjaHwyNnx8Y2F0fGVufDB8fHx8MTY0NDA0MTM0Mw&ixlib=rb-1.2.1&q=80&w=400',\n",
       " 'https://images.unsplash.com/photo-1513245543132-31f507417b26?crop=entropy&cs=tinysrgb&fit=max&fm=jpg&ixid=MnwxOTY1NDl8MHwxfHNlYXJjaHwyN3x8Y2F0fGVufDB8fHx8MTY0NDA0MTM0Mw&ixlib=rb-1.2.1&q=80&w=400',\n",
       " 'https://images.unsplash.com/photo-1520315342629-6ea920342047?crop=entropy&cs=tinysrgb&fit=max&fm=jpg&ixid=MnwxOTY1NDl8MHwxfHNlYXJjaHwyOHx8Y2F0fGVufDB8fHx8MTY0NDA0MTM0Mw&ixlib=rb-1.2.1&q=80&w=400',\n",
       " 'https://images.unsplash.com/photo-1618826411640-d6df44dd3f7a?crop=entropy&cs=tinysrgb&fit=max&fm=jpg&ixid=MnwxOTY1NDl8MHwxfHNlYXJjaHwyOXx8Y2F0fGVufDB8fHx8MTY0NDA0MTM0Mw&ixlib=rb-1.2.1&q=80&w=400',\n",
       " 'https://images.unsplash.com/photo-1598188306155-25e400eb5078?crop=entropy&cs=tinysrgb&fit=max&fm=jpg&ixid=MnwxOTY1NDl8MHwxfHNlYXJjaHwzMHx8Y2F0fGVufDB8fHx8MTY0NDA0MTM0Mw&ixlib=rb-1.2.1&q=80&w=400']"
      ]
     },
     "execution_count": 5,
     "metadata": {},
     "output_type": "execute_result"
    }
   ],
   "source": [
    "cat_urls"
   ]
  },
  {
   "cell_type": "markdown",
   "metadata": {},
   "source": [
    "---\n",
    "## Step 2: Download  the images from the URLs\n",
    "(Step 2a: Google [how to download an image from a URL in Python](https://stackoverflow.com/a/40944159))\n",
    "\n",
    "We'll just define the function to download an image for now. Later on, we'll use it on images one at a time (but after doing some processing)."
   ]
  },
  {
   "cell_type": "code",
   "execution_count": 8,
   "metadata": {},
   "outputs": [],
   "source": [
    "from PIL import Image\n",
    "\n",
    "def download_image(url):\n",
    "    image = Image.open(requests.get(url, stream=True).raw)\n",
    "    return image"
   ]
  },
  {
   "cell_type": "code",
   "execution_count": 9,
   "metadata": {},
   "outputs": [],
   "source": [
    "test_img = download_image(cat_urls[0])\n",
    "test_img.show()"
   ]
  },
  {
   "cell_type": "markdown",
   "metadata": {},
   "source": [
    "---\n",
    "## Step 3: Download and save images that meet our requirements\n",
    "We'll need to know how to work with the [PIL Image data type](https://pillow.readthedocs.io/en/stable/reference/Image.html), which is what our `download_image(url)` function returns. Namely, we need to be able to a) get it's resolution and b) resize it."
   ]
  },
  {
   "cell_type": "code",
   "execution_count": null,
   "metadata": {},
   "outputs": [],
   "source": [
    "import os\n",
    "\n",
    "def is_landscape(image):\n",
    "    return image.width > image.height\n",
    "\n",
    "\n",
    "def save_category_images(urls, category_name, resolution=(256, 256)):\n",
    "    save_folder = f'saved_images/{category_name}'\n",
    "    if not os.path.exists(save_folder):\n",
    "        os.mkdir(save_folder)\n",
    "        \n",
    "    for i, url in enumerate(urls):\n",
    "        image = download_image(url)\n",
    "        if is_landscape(image):\n",
    "            image = image.resize(resolution)\n",
    "            filename = f'{i:05d}.jpg'\n",
    "            image.save(os.path.join(save_folder, filename))"
   ]
  },
  {
   "cell_type": "code",
   "execution_count": null,
   "metadata": {},
   "outputs": [],
   "source": [
    "save_category_images(dog_urls, 'dogs')\n",
    "save_category_images(cat_urls, 'cats')"
   ]
  }
 ],
 "metadata": {
  "kernelspec": {
   "display_name": "Python 3",
   "language": "python",
   "name": "python3"
  },
  "language_info": {
   "codemirror_mode": {
    "name": "ipython",
    "version": 3
   },
   "file_extension": ".py",
   "mimetype": "text/x-python",
   "name": "python",
   "nbconvert_exporter": "python",
   "pygments_lexer": "ipython3",
   "version": "3.7.4"
  }
 },
 "nbformat": 4,
 "nbformat_minor": 4
}
